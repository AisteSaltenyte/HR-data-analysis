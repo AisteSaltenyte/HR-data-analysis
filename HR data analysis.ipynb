{
 "cells": [
  {
   "cell_type": "markdown",
   "id": "atlantic-brooklyn",
   "metadata": {},
   "source": [
    "## Importing libraries"
   ]
  },
  {
   "cell_type": "code",
   "execution_count": 1,
   "id": "suspected-charlotte",
   "metadata": {},
   "outputs": [],
   "source": [
    "import pandas as pd\n",
    "import matplotlib.pyplot as plt\n",
    "import numpy as np\n",
    "import seaborn as sns\n",
    "import sklearn \n",
    "%matplotlib inline\n",
    "from sklearn.preprocessing import scale\n",
    "from sklearn.metrics import mean_squared_error, r2_score\n",
    "import statsmodels.api as sm\n",
    "import statsmodels.formula.api as smf\n",
    "from sklearn.model_selection import train_test_split"
   ]
  },
  {
   "cell_type": "markdown",
   "id": "rubber-mercury",
   "metadata": {},
   "source": [
    "## Reading Data"
   ]
  },
  {
   "cell_type": "code",
   "execution_count": 2,
   "id": "durable-discretion",
   "metadata": {
    "scrolled": true
   },
   "outputs": [
    {
     "data": {
      "text/html": [
       "<div>\n",
       "<style scoped>\n",
       "    .dataframe tbody tr th:only-of-type {\n",
       "        vertical-align: middle;\n",
       "    }\n",
       "\n",
       "    .dataframe tbody tr th {\n",
       "        vertical-align: top;\n",
       "    }\n",
       "\n",
       "    .dataframe thead th {\n",
       "        text-align: right;\n",
       "    }\n",
       "</style>\n",
       "<table border=\"1\" class=\"dataframe\">\n",
       "  <thead>\n",
       "    <tr style=\"text-align: right;\">\n",
       "      <th></th>\n",
       "      <th>Age</th>\n",
       "      <th>Attrition</th>\n",
       "      <th>BusinessTravel</th>\n",
       "      <th>Department</th>\n",
       "      <th>DistanceFromHome</th>\n",
       "      <th>Education</th>\n",
       "      <th>EducationField</th>\n",
       "      <th>EmployeeCount</th>\n",
       "      <th>EmployeeID</th>\n",
       "      <th>Gender</th>\n",
       "      <th>...</th>\n",
       "      <th>NumCompaniesWorked</th>\n",
       "      <th>Over18</th>\n",
       "      <th>PercentSalaryHike</th>\n",
       "      <th>StandardHours</th>\n",
       "      <th>StockOptionLevel</th>\n",
       "      <th>TotalWorkingYears</th>\n",
       "      <th>TrainingTimesLastYear</th>\n",
       "      <th>YearsAtCompany</th>\n",
       "      <th>YearsSinceLastPromotion</th>\n",
       "      <th>YearsWithCurrManager</th>\n",
       "    </tr>\n",
       "  </thead>\n",
       "  <tbody>\n",
       "    <tr>\n",
       "      <th>0</th>\n",
       "      <td>51</td>\n",
       "      <td>No</td>\n",
       "      <td>Travel_Rarely</td>\n",
       "      <td>Sales</td>\n",
       "      <td>6</td>\n",
       "      <td>2</td>\n",
       "      <td>Life Sciences</td>\n",
       "      <td>1</td>\n",
       "      <td>1</td>\n",
       "      <td>Female</td>\n",
       "      <td>...</td>\n",
       "      <td>1.0</td>\n",
       "      <td>Y</td>\n",
       "      <td>11</td>\n",
       "      <td>8</td>\n",
       "      <td>0</td>\n",
       "      <td>1.0</td>\n",
       "      <td>6</td>\n",
       "      <td>1</td>\n",
       "      <td>0</td>\n",
       "      <td>0</td>\n",
       "    </tr>\n",
       "    <tr>\n",
       "      <th>1</th>\n",
       "      <td>31</td>\n",
       "      <td>Yes</td>\n",
       "      <td>Travel_Frequently</td>\n",
       "      <td>Research &amp; Development</td>\n",
       "      <td>10</td>\n",
       "      <td>1</td>\n",
       "      <td>Life Sciences</td>\n",
       "      <td>1</td>\n",
       "      <td>2</td>\n",
       "      <td>Female</td>\n",
       "      <td>...</td>\n",
       "      <td>0.0</td>\n",
       "      <td>Y</td>\n",
       "      <td>23</td>\n",
       "      <td>8</td>\n",
       "      <td>1</td>\n",
       "      <td>6.0</td>\n",
       "      <td>3</td>\n",
       "      <td>5</td>\n",
       "      <td>1</td>\n",
       "      <td>4</td>\n",
       "    </tr>\n",
       "    <tr>\n",
       "      <th>2</th>\n",
       "      <td>32</td>\n",
       "      <td>No</td>\n",
       "      <td>Travel_Frequently</td>\n",
       "      <td>Research &amp; Development</td>\n",
       "      <td>17</td>\n",
       "      <td>4</td>\n",
       "      <td>Other</td>\n",
       "      <td>1</td>\n",
       "      <td>3</td>\n",
       "      <td>Male</td>\n",
       "      <td>...</td>\n",
       "      <td>1.0</td>\n",
       "      <td>Y</td>\n",
       "      <td>15</td>\n",
       "      <td>8</td>\n",
       "      <td>3</td>\n",
       "      <td>5.0</td>\n",
       "      <td>2</td>\n",
       "      <td>5</td>\n",
       "      <td>0</td>\n",
       "      <td>3</td>\n",
       "    </tr>\n",
       "    <tr>\n",
       "      <th>3</th>\n",
       "      <td>38</td>\n",
       "      <td>No</td>\n",
       "      <td>Non-Travel</td>\n",
       "      <td>Research &amp; Development</td>\n",
       "      <td>2</td>\n",
       "      <td>5</td>\n",
       "      <td>Life Sciences</td>\n",
       "      <td>1</td>\n",
       "      <td>4</td>\n",
       "      <td>Male</td>\n",
       "      <td>...</td>\n",
       "      <td>3.0</td>\n",
       "      <td>Y</td>\n",
       "      <td>11</td>\n",
       "      <td>8</td>\n",
       "      <td>3</td>\n",
       "      <td>13.0</td>\n",
       "      <td>5</td>\n",
       "      <td>8</td>\n",
       "      <td>7</td>\n",
       "      <td>5</td>\n",
       "    </tr>\n",
       "    <tr>\n",
       "      <th>4</th>\n",
       "      <td>32</td>\n",
       "      <td>No</td>\n",
       "      <td>Travel_Rarely</td>\n",
       "      <td>Research &amp; Development</td>\n",
       "      <td>10</td>\n",
       "      <td>1</td>\n",
       "      <td>Medical</td>\n",
       "      <td>1</td>\n",
       "      <td>5</td>\n",
       "      <td>Male</td>\n",
       "      <td>...</td>\n",
       "      <td>4.0</td>\n",
       "      <td>Y</td>\n",
       "      <td>12</td>\n",
       "      <td>8</td>\n",
       "      <td>2</td>\n",
       "      <td>9.0</td>\n",
       "      <td>2</td>\n",
       "      <td>6</td>\n",
       "      <td>0</td>\n",
       "      <td>4</td>\n",
       "    </tr>\n",
       "  </tbody>\n",
       "</table>\n",
       "<p>5 rows × 24 columns</p>\n",
       "</div>"
      ],
      "text/plain": [
       "   Age Attrition     BusinessTravel              Department  DistanceFromHome  \\\n",
       "0   51        No      Travel_Rarely                   Sales                 6   \n",
       "1   31       Yes  Travel_Frequently  Research & Development                10   \n",
       "2   32        No  Travel_Frequently  Research & Development                17   \n",
       "3   38        No         Non-Travel  Research & Development                 2   \n",
       "4   32        No      Travel_Rarely  Research & Development                10   \n",
       "\n",
       "   Education EducationField  EmployeeCount  EmployeeID  Gender  ...  \\\n",
       "0          2  Life Sciences              1           1  Female  ...   \n",
       "1          1  Life Sciences              1           2  Female  ...   \n",
       "2          4          Other              1           3    Male  ...   \n",
       "3          5  Life Sciences              1           4    Male  ...   \n",
       "4          1        Medical              1           5    Male  ...   \n",
       "\n",
       "   NumCompaniesWorked Over18 PercentSalaryHike  StandardHours  \\\n",
       "0                 1.0      Y                11              8   \n",
       "1                 0.0      Y                23              8   \n",
       "2                 1.0      Y                15              8   \n",
       "3                 3.0      Y                11              8   \n",
       "4                 4.0      Y                12              8   \n",
       "\n",
       "   StockOptionLevel TotalWorkingYears  TrainingTimesLastYear  YearsAtCompany  \\\n",
       "0                 0               1.0                      6               1   \n",
       "1                 1               6.0                      3               5   \n",
       "2                 3               5.0                      2               5   \n",
       "3                 3              13.0                      5               8   \n",
       "4                 2               9.0                      2               6   \n",
       "\n",
       "   YearsSinceLastPromotion  YearsWithCurrManager  \n",
       "0                        0                     0  \n",
       "1                        1                     4  \n",
       "2                        0                     3  \n",
       "3                        7                     5  \n",
       "4                        0                     4  \n",
       "\n",
       "[5 rows x 24 columns]"
      ]
     },
     "execution_count": 2,
     "metadata": {},
     "output_type": "execute_result"
    }
   ],
   "source": [
    "# Importing General employees' information data\n",
    "general = pd.read_csv(\"C:\\\\Users\\\\ASUS\\\\Desktop\\\\Stuff\\\\Big Data\\\\Python\\\\HR analysis\\\\general_data.csv\")\n",
    "# Looking at the data sample\n",
    "general.head(5)"
   ]
  },
  {
   "cell_type": "code",
   "execution_count": 3,
   "id": "stuffed-extension",
   "metadata": {
    "scrolled": false
   },
   "outputs": [
    {
     "name": "stdout",
     "output_type": "stream",
     "text": [
      "<class 'pandas.core.frame.DataFrame'>\n",
      "RangeIndex: 1000 entries, 0 to 999\n",
      "Data columns (total 24 columns):\n",
      " #   Column                   Non-Null Count  Dtype  \n",
      "---  ------                   --------------  -----  \n",
      " 0   Age                      1000 non-null   int64  \n",
      " 1   Attrition                1000 non-null   object \n",
      " 2   BusinessTravel           1000 non-null   object \n",
      " 3   Department               1000 non-null   object \n",
      " 4   DistanceFromHome         1000 non-null   int64  \n",
      " 5   Education                1000 non-null   int64  \n",
      " 6   EducationField           1000 non-null   object \n",
      " 7   EmployeeCount            1000 non-null   int64  \n",
      " 8   EmployeeID               1000 non-null   int64  \n",
      " 9   Gender                   1000 non-null   object \n",
      " 10  JobLevel                 1000 non-null   int64  \n",
      " 11  JobRole                  1000 non-null   object \n",
      " 12  MaritalStatus            1000 non-null   object \n",
      " 13  MonthlyIncome            1000 non-null   int64  \n",
      " 14  NumCompaniesWorked       993 non-null    float64\n",
      " 15  Over18                   1000 non-null   object \n",
      " 16  PercentSalaryHike        1000 non-null   int64  \n",
      " 17  StandardHours            1000 non-null   int64  \n",
      " 18  StockOptionLevel         1000 non-null   int64  \n",
      " 19  TotalWorkingYears        996 non-null    float64\n",
      " 20  TrainingTimesLastYear    1000 non-null   int64  \n",
      " 21  YearsAtCompany           1000 non-null   int64  \n",
      " 22  YearsSinceLastPromotion  1000 non-null   int64  \n",
      " 23  YearsWithCurrManager     1000 non-null   int64  \n",
      "dtypes: float64(2), int64(14), object(8)\n",
      "memory usage: 187.6+ KB\n"
     ]
    }
   ],
   "source": [
    "# Checking general information and data types\n",
    "general.info()"
   ]
  },
  {
   "cell_type": "code",
   "execution_count": 4,
   "id": "under-storm",
   "metadata": {},
   "outputs": [
    {
     "data": {
      "text/html": [
       "<div>\n",
       "<style scoped>\n",
       "    .dataframe tbody tr th:only-of-type {\n",
       "        vertical-align: middle;\n",
       "    }\n",
       "\n",
       "    .dataframe tbody tr th {\n",
       "        vertical-align: top;\n",
       "    }\n",
       "\n",
       "    .dataframe thead th {\n",
       "        text-align: right;\n",
       "    }\n",
       "</style>\n",
       "<table border=\"1\" class=\"dataframe\">\n",
       "  <thead>\n",
       "    <tr style=\"text-align: right;\">\n",
       "      <th></th>\n",
       "      <th>Age</th>\n",
       "      <th>DistanceFromHome</th>\n",
       "      <th>Education</th>\n",
       "      <th>EmployeeCount</th>\n",
       "      <th>EmployeeID</th>\n",
       "      <th>JobLevel</th>\n",
       "      <th>MonthlyIncome</th>\n",
       "      <th>NumCompaniesWorked</th>\n",
       "      <th>PercentSalaryHike</th>\n",
       "      <th>StandardHours</th>\n",
       "      <th>StockOptionLevel</th>\n",
       "      <th>TotalWorkingYears</th>\n",
       "      <th>TrainingTimesLastYear</th>\n",
       "      <th>YearsAtCompany</th>\n",
       "      <th>YearsSinceLastPromotion</th>\n",
       "      <th>YearsWithCurrManager</th>\n",
       "    </tr>\n",
       "  </thead>\n",
       "  <tbody>\n",
       "    <tr>\n",
       "      <th>count</th>\n",
       "      <td>1000.000000</td>\n",
       "      <td>1000.00000</td>\n",
       "      <td>1000.000000</td>\n",
       "      <td>1000.0</td>\n",
       "      <td>1000.000000</td>\n",
       "      <td>1000.000000</td>\n",
       "      <td>1000.000000</td>\n",
       "      <td>993.000000</td>\n",
       "      <td>1000.000000</td>\n",
       "      <td>1000.0</td>\n",
       "      <td>1000.000000</td>\n",
       "      <td>996.000000</td>\n",
       "      <td>1000.000000</td>\n",
       "      <td>1000.000000</td>\n",
       "      <td>1000.000000</td>\n",
       "      <td>1000.000000</td>\n",
       "    </tr>\n",
       "    <tr>\n",
       "      <th>mean</th>\n",
       "      <td>36.801000</td>\n",
       "      <td>9.23400</td>\n",
       "      <td>2.929000</td>\n",
       "      <td>1.0</td>\n",
       "      <td>500.500000</td>\n",
       "      <td>2.048000</td>\n",
       "      <td>64519.160000</td>\n",
       "      <td>2.686808</td>\n",
       "      <td>15.192000</td>\n",
       "      <td>8.0</td>\n",
       "      <td>0.812000</td>\n",
       "      <td>11.349398</td>\n",
       "      <td>2.826000</td>\n",
       "      <td>7.017000</td>\n",
       "      <td>2.205000</td>\n",
       "      <td>4.070000</td>\n",
       "    </tr>\n",
       "    <tr>\n",
       "      <th>std</th>\n",
       "      <td>9.189987</td>\n",
       "      <td>8.14614</td>\n",
       "      <td>1.003477</td>\n",
       "      <td>0.0</td>\n",
       "      <td>288.819436</td>\n",
       "      <td>1.103138</td>\n",
       "      <td>46577.275011</td>\n",
       "      <td>2.495883</td>\n",
       "      <td>3.657118</td>\n",
       "      <td>0.0</td>\n",
       "      <td>0.864525</td>\n",
       "      <td>7.965529</td>\n",
       "      <td>1.310512</td>\n",
       "      <td>6.141533</td>\n",
       "      <td>3.248311</td>\n",
       "      <td>3.559462</td>\n",
       "    </tr>\n",
       "    <tr>\n",
       "      <th>min</th>\n",
       "      <td>18.000000</td>\n",
       "      <td>1.00000</td>\n",
       "      <td>1.000000</td>\n",
       "      <td>1.0</td>\n",
       "      <td>1.000000</td>\n",
       "      <td>1.000000</td>\n",
       "      <td>10090.000000</td>\n",
       "      <td>0.000000</td>\n",
       "      <td>11.000000</td>\n",
       "      <td>8.0</td>\n",
       "      <td>0.000000</td>\n",
       "      <td>0.000000</td>\n",
       "      <td>0.000000</td>\n",
       "      <td>0.000000</td>\n",
       "      <td>0.000000</td>\n",
       "      <td>0.000000</td>\n",
       "    </tr>\n",
       "    <tr>\n",
       "      <th>25%</th>\n",
       "      <td>30.000000</td>\n",
       "      <td>2.00000</td>\n",
       "      <td>2.000000</td>\n",
       "      <td>1.0</td>\n",
       "      <td>250.750000</td>\n",
       "      <td>1.000000</td>\n",
       "      <td>28620.000000</td>\n",
       "      <td>1.000000</td>\n",
       "      <td>12.000000</td>\n",
       "      <td>8.0</td>\n",
       "      <td>0.000000</td>\n",
       "      <td>6.000000</td>\n",
       "      <td>2.000000</td>\n",
       "      <td>3.000000</td>\n",
       "      <td>0.000000</td>\n",
       "      <td>2.000000</td>\n",
       "    </tr>\n",
       "    <tr>\n",
       "      <th>50%</th>\n",
       "      <td>35.000000</td>\n",
       "      <td>7.00000</td>\n",
       "      <td>3.000000</td>\n",
       "      <td>1.0</td>\n",
       "      <td>500.500000</td>\n",
       "      <td>2.000000</td>\n",
       "      <td>49220.000000</td>\n",
       "      <td>2.000000</td>\n",
       "      <td>14.000000</td>\n",
       "      <td>8.0</td>\n",
       "      <td>1.000000</td>\n",
       "      <td>10.000000</td>\n",
       "      <td>3.000000</td>\n",
       "      <td>5.000000</td>\n",
       "      <td>1.000000</td>\n",
       "      <td>3.000000</td>\n",
       "    </tr>\n",
       "    <tr>\n",
       "      <th>75%</th>\n",
       "      <td>43.000000</td>\n",
       "      <td>14.00000</td>\n",
       "      <td>4.000000</td>\n",
       "      <td>1.0</td>\n",
       "      <td>750.250000</td>\n",
       "      <td>3.000000</td>\n",
       "      <td>83360.000000</td>\n",
       "      <td>4.000000</td>\n",
       "      <td>18.000000</td>\n",
       "      <td>8.0</td>\n",
       "      <td>1.000000</td>\n",
       "      <td>15.000000</td>\n",
       "      <td>3.000000</td>\n",
       "      <td>9.000000</td>\n",
       "      <td>3.000000</td>\n",
       "      <td>7.000000</td>\n",
       "    </tr>\n",
       "    <tr>\n",
       "      <th>max</th>\n",
       "      <td>60.000000</td>\n",
       "      <td>29.00000</td>\n",
       "      <td>5.000000</td>\n",
       "      <td>1.0</td>\n",
       "      <td>1000.000000</td>\n",
       "      <td>5.000000</td>\n",
       "      <td>199990.000000</td>\n",
       "      <td>9.000000</td>\n",
       "      <td>25.000000</td>\n",
       "      <td>8.0</td>\n",
       "      <td>3.000000</td>\n",
       "      <td>40.000000</td>\n",
       "      <td>6.000000</td>\n",
       "      <td>36.000000</td>\n",
       "      <td>15.000000</td>\n",
       "      <td>17.000000</td>\n",
       "    </tr>\n",
       "  </tbody>\n",
       "</table>\n",
       "</div>"
      ],
      "text/plain": [
       "               Age  DistanceFromHome    Education  EmployeeCount   EmployeeID  \\\n",
       "count  1000.000000        1000.00000  1000.000000         1000.0  1000.000000   \n",
       "mean     36.801000           9.23400     2.929000            1.0   500.500000   \n",
       "std       9.189987           8.14614     1.003477            0.0   288.819436   \n",
       "min      18.000000           1.00000     1.000000            1.0     1.000000   \n",
       "25%      30.000000           2.00000     2.000000            1.0   250.750000   \n",
       "50%      35.000000           7.00000     3.000000            1.0   500.500000   \n",
       "75%      43.000000          14.00000     4.000000            1.0   750.250000   \n",
       "max      60.000000          29.00000     5.000000            1.0  1000.000000   \n",
       "\n",
       "          JobLevel  MonthlyIncome  NumCompaniesWorked  PercentSalaryHike  \\\n",
       "count  1000.000000    1000.000000          993.000000        1000.000000   \n",
       "mean      2.048000   64519.160000            2.686808          15.192000   \n",
       "std       1.103138   46577.275011            2.495883           3.657118   \n",
       "min       1.000000   10090.000000            0.000000          11.000000   \n",
       "25%       1.000000   28620.000000            1.000000          12.000000   \n",
       "50%       2.000000   49220.000000            2.000000          14.000000   \n",
       "75%       3.000000   83360.000000            4.000000          18.000000   \n",
       "max       5.000000  199990.000000            9.000000          25.000000   \n",
       "\n",
       "       StandardHours  StockOptionLevel  TotalWorkingYears  \\\n",
       "count         1000.0       1000.000000         996.000000   \n",
       "mean             8.0          0.812000          11.349398   \n",
       "std              0.0          0.864525           7.965529   \n",
       "min              8.0          0.000000           0.000000   \n",
       "25%              8.0          0.000000           6.000000   \n",
       "50%              8.0          1.000000          10.000000   \n",
       "75%              8.0          1.000000          15.000000   \n",
       "max              8.0          3.000000          40.000000   \n",
       "\n",
       "       TrainingTimesLastYear  YearsAtCompany  YearsSinceLastPromotion  \\\n",
       "count            1000.000000     1000.000000              1000.000000   \n",
       "mean                2.826000        7.017000                 2.205000   \n",
       "std                 1.310512        6.141533                 3.248311   \n",
       "min                 0.000000        0.000000                 0.000000   \n",
       "25%                 2.000000        3.000000                 0.000000   \n",
       "50%                 3.000000        5.000000                 1.000000   \n",
       "75%                 3.000000        9.000000                 3.000000   \n",
       "max                 6.000000       36.000000                15.000000   \n",
       "\n",
       "       YearsWithCurrManager  \n",
       "count           1000.000000  \n",
       "mean               4.070000  \n",
       "std                3.559462  \n",
       "min                0.000000  \n",
       "25%                2.000000  \n",
       "50%                3.000000  \n",
       "75%                7.000000  \n",
       "max               17.000000  "
      ]
     },
     "execution_count": 4,
     "metadata": {},
     "output_type": "execute_result"
    }
   ],
   "source": [
    "# Looking at statistical information of the data\n",
    "general.describe()"
   ]
  },
  {
   "cell_type": "code",
   "execution_count": 5,
   "id": "robust-capitol",
   "metadata": {
    "scrolled": false
   },
   "outputs": [
    {
     "data": {
      "text/html": [
       "<div>\n",
       "<style scoped>\n",
       "    .dataframe tbody tr th:only-of-type {\n",
       "        vertical-align: middle;\n",
       "    }\n",
       "\n",
       "    .dataframe tbody tr th {\n",
       "        vertical-align: top;\n",
       "    }\n",
       "\n",
       "    .dataframe thead th {\n",
       "        text-align: right;\n",
       "    }\n",
       "</style>\n",
       "<table border=\"1\" class=\"dataframe\">\n",
       "  <thead>\n",
       "    <tr style=\"text-align: right;\">\n",
       "      <th></th>\n",
       "      <th>EmployeeID</th>\n",
       "      <th>EnvironmentSatisfaction</th>\n",
       "      <th>JobSatisfaction</th>\n",
       "      <th>WorkLifeBalance</th>\n",
       "    </tr>\n",
       "  </thead>\n",
       "  <tbody>\n",
       "    <tr>\n",
       "      <th>0</th>\n",
       "      <td>1</td>\n",
       "      <td>3.0</td>\n",
       "      <td>4.0</td>\n",
       "      <td>2.0</td>\n",
       "    </tr>\n",
       "    <tr>\n",
       "      <th>1</th>\n",
       "      <td>2</td>\n",
       "      <td>3.0</td>\n",
       "      <td>2.0</td>\n",
       "      <td>4.0</td>\n",
       "    </tr>\n",
       "    <tr>\n",
       "      <th>2</th>\n",
       "      <td>3</td>\n",
       "      <td>2.0</td>\n",
       "      <td>2.0</td>\n",
       "      <td>1.0</td>\n",
       "    </tr>\n",
       "    <tr>\n",
       "      <th>3</th>\n",
       "      <td>4</td>\n",
       "      <td>4.0</td>\n",
       "      <td>4.0</td>\n",
       "      <td>3.0</td>\n",
       "    </tr>\n",
       "    <tr>\n",
       "      <th>4</th>\n",
       "      <td>5</td>\n",
       "      <td>4.0</td>\n",
       "      <td>1.0</td>\n",
       "      <td>3.0</td>\n",
       "    </tr>\n",
       "  </tbody>\n",
       "</table>\n",
       "</div>"
      ],
      "text/plain": [
       "   EmployeeID  EnvironmentSatisfaction  JobSatisfaction  WorkLifeBalance\n",
       "0           1                      3.0              4.0              2.0\n",
       "1           2                      3.0              2.0              4.0\n",
       "2           3                      2.0              2.0              1.0\n",
       "3           4                      4.0              4.0              3.0\n",
       "4           5                      4.0              1.0              3.0"
      ]
     },
     "execution_count": 5,
     "metadata": {},
     "output_type": "execute_result"
    }
   ],
   "source": [
    "# Importing employees' satisfaction survey data\n",
    "survey = pd.read_csv(\"C:\\\\Users\\\\ASUS\\\\Desktop\\\\Stuff\\\\Big Data\\\\Python\\\\HR analysis\\\\employee_survey_data.csv\")\n",
    "# Looking at the sample of the data\n",
    "survey.head(5)"
   ]
  },
  {
   "cell_type": "markdown",
   "id": "ultimate-belarus",
   "metadata": {},
   "source": [
    "## First look at the Data"
   ]
  },
  {
   "cell_type": "code",
   "execution_count": 6,
   "id": "everyday-boards",
   "metadata": {
    "scrolled": true
   },
   "outputs": [
    {
     "data": {
      "image/png": "[encoded data removed]",
      "text/plain": [
       "<Figure size 432x288 with 1 Axes>"
      ]
     },
     "metadata": {},
     "output_type": "display_data"
    }
   ],
   "source": [
    "# Finding out the attrition percentage over the last year\n",
    "\n",
    "# Setting up variables for the graph\n",
    "attrition_yes = general.loc[general[\"Attrition\"] == \"Yes\"].count()[0]\n",
    "attrition_no = general.loc[general[\"Attrition\"] == \"No\"].count()[0]\n",
    "\n",
    "labels = [\"Yes\", \"No\"]\n",
    "colors = [\"#fc918d\", \"#8499f5\"]\n",
    "plt.pie([attrition_yes, attrition_no], labels = labels, colors = colors, autopct = \"%.2f%%\")\n",
    "\n",
    "plt.title(\"Attrition percentage over the last year\")\n",
    "\n",
    "plt.show()"
   ]
  },
  {
   "cell_type": "code",
   "execution_count": 7,
   "id": "bacterial-berlin",
   "metadata": {
    "scrolled": true
   },
   "outputs": [
    {
     "data": {
      "text/html": [
       "<div>\n",
       "<style scoped>\n",
       "    .dataframe tbody tr th:only-of-type {\n",
       "        vertical-align: middle;\n",
       "    }\n",
       "\n",
       "    .dataframe tbody tr th {\n",
       "        vertical-align: top;\n",
       "    }\n",
       "\n",
       "    .dataframe thead th {\n",
       "        text-align: right;\n",
       "    }\n",
       "</style>\n",
       "<table border=\"1\" class=\"dataframe\">\n",
       "  <thead>\n",
       "    <tr style=\"text-align: right;\">\n",
       "      <th></th>\n",
       "      <th>Age</th>\n",
       "      <th>DistanceFromHome</th>\n",
       "      <th>Education</th>\n",
       "      <th>EmployeeCount</th>\n",
       "      <th>EmployeeID</th>\n",
       "      <th>JobLevel</th>\n",
       "      <th>MonthlyIncome</th>\n",
       "      <th>NumCompaniesWorked</th>\n",
       "      <th>PercentSalaryHike</th>\n",
       "      <th>StandardHours</th>\n",
       "      <th>StockOptionLevel</th>\n",
       "      <th>TotalWorkingYears</th>\n",
       "      <th>TrainingTimesLastYear</th>\n",
       "      <th>YearsAtCompany</th>\n",
       "      <th>YearsSinceLastPromotion</th>\n",
       "      <th>YearsWithCurrManager</th>\n",
       "    </tr>\n",
       "    <tr>\n",
       "      <th>Attrition</th>\n",
       "      <th></th>\n",
       "      <th></th>\n",
       "      <th></th>\n",
       "      <th></th>\n",
       "      <th></th>\n",
       "      <th></th>\n",
       "      <th></th>\n",
       "      <th></th>\n",
       "      <th></th>\n",
       "      <th></th>\n",
       "      <th></th>\n",
       "      <th></th>\n",
       "      <th></th>\n",
       "      <th></th>\n",
       "      <th></th>\n",
       "      <th></th>\n",
       "    </tr>\n",
       "  </thead>\n",
       "  <tbody>\n",
       "    <tr>\n",
       "      <th>No</th>\n",
       "      <td>37.523981</td>\n",
       "      <td>9.170264</td>\n",
       "      <td>2.937650</td>\n",
       "      <td>1.0</td>\n",
       "      <td>499.941247</td>\n",
       "      <td>2.051559</td>\n",
       "      <td>65363.956835</td>\n",
       "      <td>2.648551</td>\n",
       "      <td>15.158273</td>\n",
       "      <td>8.0</td>\n",
       "      <td>0.803357</td>\n",
       "      <td>11.956679</td>\n",
       "      <td>2.859712</td>\n",
       "      <td>7.366906</td>\n",
       "      <td>2.227818</td>\n",
       "      <td>4.303357</td>\n",
       "    </tr>\n",
       "    <tr>\n",
       "      <th>Yes</th>\n",
       "      <td>33.168675</td>\n",
       "      <td>9.554217</td>\n",
       "      <td>2.885542</td>\n",
       "      <td>1.0</td>\n",
       "      <td>503.307229</td>\n",
       "      <td>2.030120</td>\n",
       "      <td>60274.819277</td>\n",
       "      <td>2.878788</td>\n",
       "      <td>15.361446</td>\n",
       "      <td>8.0</td>\n",
       "      <td>0.855422</td>\n",
       "      <td>8.290909</td>\n",
       "      <td>2.656627</td>\n",
       "      <td>5.259036</td>\n",
       "      <td>2.090361</td>\n",
       "      <td>2.897590</td>\n",
       "    </tr>\n",
       "  </tbody>\n",
       "</table>\n",
       "</div>"
      ],
      "text/plain": [
       "                 Age  DistanceFromHome  Education  EmployeeCount  EmployeeID  \\\n",
       "Attrition                                                                      \n",
       "No         37.523981          9.170264   2.937650            1.0  499.941247   \n",
       "Yes        33.168675          9.554217   2.885542            1.0  503.307229   \n",
       "\n",
       "           JobLevel  MonthlyIncome  NumCompaniesWorked  PercentSalaryHike  \\\n",
       "Attrition                                                                   \n",
       "No         2.051559   65363.956835            2.648551          15.158273   \n",
       "Yes        2.030120   60274.819277            2.878788          15.361446   \n",
       "\n",
       "           StandardHours  StockOptionLevel  TotalWorkingYears  \\\n",
       "Attrition                                                       \n",
       "No                   8.0          0.803357          11.956679   \n",
       "Yes                  8.0          0.855422           8.290909   \n",
       "\n",
       "           TrainingTimesLastYear  YearsAtCompany  YearsSinceLastPromotion  \\\n",
       "Attrition                                                                   \n",
       "No                      2.859712        7.366906                 2.227818   \n",
       "Yes                     2.656627        5.259036                 2.090361   \n",
       "\n",
       "           YearsWithCurrManager  \n",
       "Attrition                        \n",
       "No                     4.303357  \n",
       "Yes                    2.897590  "
      ]
     },
     "execution_count": 7,
     "metadata": {},
     "output_type": "execute_result"
    }
   ],
   "source": [
    "# Looking into averages of variables based on the attrition status\n",
    "general.groupby(\"Attrition\").mean()"
   ]
  },
  {
   "cell_type": "markdown",
   "id": "harmful-insert",
   "metadata": {},
   "source": [
    "##### By looking into the averages based on Attrition we can see noticeable differences in some of the variables. From the table above it looks like on average younger employees are more likely to leave the company. Moreover, lower monthly income might also have an impact, as we can see that monthly income of those who have left the company is on average lower than of those who did not leave. Also, employees with lower number of total working years as well as with lower number of years at the company might have a tendency to leave the company, as average Total Working Years and average Years At Company of those who have left are lower, than of those who stayed at the company. Therefore, these features should be looked into further, as they might have a great impact on the attrition."
   ]
  },
  {
   "cell_type": "markdown",
   "id": "capital-slovenia",
   "metadata": {},
   "source": [
    "## Cleaning Data"
   ]
  },
  {
   "cell_type": "markdown",
   "id": "occupied-prerequisite",
   "metadata": {},
   "source": [
    "### General info data set"
   ]
  },
  {
   "cell_type": "code",
   "execution_count": 8,
   "id": "super-immune",
   "metadata": {
    "scrolled": false
   },
   "outputs": [
    {
     "data": {
      "text/plain": [
       "Age                        0\n",
       "Attrition                  0\n",
       "BusinessTravel             0\n",
       "Department                 0\n",
       "DistanceFromHome           0\n",
       "Education                  0\n",
       "EducationField             0\n",
       "EmployeeCount              0\n",
       "EmployeeID                 0\n",
       "Gender                     0\n",
       "JobLevel                   0\n",
       "JobRole                    0\n",
       "MaritalStatus              0\n",
       "MonthlyIncome              0\n",
       "NumCompaniesWorked         7\n",
       "Over18                     0\n",
       "PercentSalaryHike          0\n",
       "StandardHours              0\n",
       "StockOptionLevel           0\n",
       "TotalWorkingYears          4\n",
       "TrainingTimesLastYear      0\n",
       "YearsAtCompany             0\n",
       "YearsSinceLastPromotion    0\n",
       "YearsWithCurrManager       0\n",
       "dtype: int64"
      ]
     },
     "execution_count": 8,
     "metadata": {},
     "output_type": "execute_result"
    }
   ],
   "source": [
    "# Checking how many null values there are in the data frame\n",
    "general.isnull().sum()"
   ]
  },
  {
   "cell_type": "code",
   "execution_count": 9,
   "id": "outdoor-citizenship",
   "metadata": {},
   "outputs": [
    {
     "data": {
      "text/plain": [
       "array([8], dtype=int64)"
      ]
     },
     "execution_count": 9,
     "metadata": {},
     "output_type": "execute_result"
    }
   ],
   "source": [
    "# Checking how what type of information is in the columns \"Over 18\", \"EmployeeCount\" and \"StandardHours\"\n",
    "general[\"Over18\"].unique()\n",
    "general[\"EmployeeCount\"].unique()\n",
    "general[\"StandardHours\"].unique()"
   ]
  },
  {
   "cell_type": "code",
   "execution_count": 10,
   "id": "conditional-stranger",
   "metadata": {},
   "outputs": [],
   "source": [
    "# Dropping columns \"Over 18\", \"EmployeeCount\" and \"StandardHours\" as they have only one value each\n",
    "general.drop(columns=[\"Over18\", \"EmployeeCount\", \"StandardHours\"], axis=1, inplace=True)"
   ]
  },
  {
   "cell_type": "code",
   "execution_count": 11,
   "id": "limiting-image",
   "metadata": {},
   "outputs": [],
   "source": [
    "# Deleting rows with null values in column \"TotalWorkingYears\"\n",
    "general.dropna(axis=0, subset=[\"TotalWorkingYears\"], inplace=True)"
   ]
  },
  {
   "cell_type": "code",
   "execution_count": 12,
   "id": "sharp-return",
   "metadata": {},
   "outputs": [],
   "source": [
    "# Filling in all null values in the column \"NumCompaniesWorked\" with 2 (as Mean = 2.65 and Median = 2)\n",
    "general.fillna({\"NumCompaniesWorked\": 2}, inplace=True)"
   ]
  },
  {
   "cell_type": "code",
   "execution_count": 13,
   "id": "minute-norman",
   "metadata": {
    "scrolled": true
   },
   "outputs": [
    {
     "data": {
      "text/plain": [
       "Age                        0\n",
       "Attrition                  0\n",
       "BusinessTravel             0\n",
       "Department                 0\n",
       "DistanceFromHome           0\n",
       "Education                  0\n",
       "EducationField             0\n",
       "EmployeeID                 0\n",
       "Gender                     0\n",
       "JobLevel                   0\n",
       "JobRole                    0\n",
       "MaritalStatus              0\n",
       "MonthlyIncome              0\n",
       "NumCompaniesWorked         0\n",
       "PercentSalaryHike          0\n",
       "StockOptionLevel           0\n",
       "TotalWorkingYears          0\n",
       "TrainingTimesLastYear      0\n",
       "YearsAtCompany             0\n",
       "YearsSinceLastPromotion    0\n",
       "YearsWithCurrManager       0\n",
       "dtype: int64"
      ]
     },
     "execution_count": 13,
     "metadata": {},
     "output_type": "execute_result"
    }
   ],
   "source": [
    "# Cheking if all null values have been cleaned out\n",
    "general.isnull().sum()"
   ]
  },
  {
   "cell_type": "code",
   "execution_count": 14,
   "id": "august-charm",
   "metadata": {},
   "outputs": [],
   "source": [
    "# Decoding values with meaningful titles instead of numbers\n",
    "general[\"Education\"] = general[\"Education\"].replace({1:\"Below College\", 2:\"College\", 3:\"Bachelor\", 4:\"Master\", 5:\"Doctor\"})"
   ]
  },
  {
   "cell_type": "code",
   "execution_count": 15,
   "id": "bigger-shipping",
   "metadata": {},
   "outputs": [],
   "source": [
    "# Changing data type for column \"JobLevel\"\n",
    "general[\"JobLevel\"] = general[\"JobLevel\"].astype(\"object\")"
   ]
  },
  {
   "cell_type": "code",
   "execution_count": 16,
   "id": "greater-enclosure",
   "metadata": {},
   "outputs": [
    {
     "data": {
      "text/html": [
       "<div>\n",
       "<style scoped>\n",
       "    .dataframe tbody tr th:only-of-type {\n",
       "        vertical-align: middle;\n",
       "    }\n",
       "\n",
       "    .dataframe tbody tr th {\n",
       "        vertical-align: top;\n",
       "    }\n",
       "\n",
       "    .dataframe thead th {\n",
       "        text-align: right;\n",
       "    }\n",
       "</style>\n",
       "<table border=\"1\" class=\"dataframe\">\n",
       "  <thead>\n",
       "    <tr style=\"text-align: right;\">\n",
       "      <th></th>\n",
       "      <th>Age</th>\n",
       "      <th>Attrition</th>\n",
       "      <th>BusinessTravel</th>\n",
       "      <th>Department</th>\n",
       "      <th>DistanceFromHome</th>\n",
       "      <th>Education</th>\n",
       "      <th>EducationField</th>\n",
       "      <th>EmployeeID</th>\n",
       "      <th>Gender</th>\n",
       "      <th>JobLevel</th>\n",
       "      <th>...</th>\n",
       "      <th>MaritalStatus</th>\n",
       "      <th>MonthlyIncome</th>\n",
       "      <th>NumCompaniesWorked</th>\n",
       "      <th>PercentSalaryHike</th>\n",
       "      <th>StockOptionLevel</th>\n",
       "      <th>TotalWorkingYears</th>\n",
       "      <th>TrainingTimesLastYear</th>\n",
       "      <th>YearsAtCompany</th>\n",
       "      <th>YearsSinceLastPromotion</th>\n",
       "      <th>YearsWithCurrManager</th>\n",
       "    </tr>\n",
       "  </thead>\n",
       "  <tbody>\n",
       "    <tr>\n",
       "      <th>0</th>\n",
       "      <td>51</td>\n",
       "      <td>No</td>\n",
       "      <td>Travel_Rarely</td>\n",
       "      <td>Sales</td>\n",
       "      <td>6</td>\n",
       "      <td>College</td>\n",
       "      <td>Life Sciences</td>\n",
       "      <td>1</td>\n",
       "      <td>Female</td>\n",
       "      <td>1</td>\n",
       "      <td>...</td>\n",
       "      <td>Married</td>\n",
       "      <td>131160</td>\n",
       "      <td>1.0</td>\n",
       "      <td>11</td>\n",
       "      <td>0</td>\n",
       "      <td>1.0</td>\n",
       "      <td>6</td>\n",
       "      <td>1</td>\n",
       "      <td>0</td>\n",
       "      <td>0</td>\n",
       "    </tr>\n",
       "    <tr>\n",
       "      <th>1</th>\n",
       "      <td>31</td>\n",
       "      <td>Yes</td>\n",
       "      <td>Travel_Frequently</td>\n",
       "      <td>Research &amp; Development</td>\n",
       "      <td>10</td>\n",
       "      <td>Below College</td>\n",
       "      <td>Life Sciences</td>\n",
       "      <td>2</td>\n",
       "      <td>Female</td>\n",
       "      <td>1</td>\n",
       "      <td>...</td>\n",
       "      <td>Single</td>\n",
       "      <td>41890</td>\n",
       "      <td>0.0</td>\n",
       "      <td>23</td>\n",
       "      <td>1</td>\n",
       "      <td>6.0</td>\n",
       "      <td>3</td>\n",
       "      <td>5</td>\n",
       "      <td>1</td>\n",
       "      <td>4</td>\n",
       "    </tr>\n",
       "    <tr>\n",
       "      <th>2</th>\n",
       "      <td>32</td>\n",
       "      <td>No</td>\n",
       "      <td>Travel_Frequently</td>\n",
       "      <td>Research &amp; Development</td>\n",
       "      <td>17</td>\n",
       "      <td>Master</td>\n",
       "      <td>Other</td>\n",
       "      <td>3</td>\n",
       "      <td>Male</td>\n",
       "      <td>4</td>\n",
       "      <td>...</td>\n",
       "      <td>Married</td>\n",
       "      <td>193280</td>\n",
       "      <td>1.0</td>\n",
       "      <td>15</td>\n",
       "      <td>3</td>\n",
       "      <td>5.0</td>\n",
       "      <td>2</td>\n",
       "      <td>5</td>\n",
       "      <td>0</td>\n",
       "      <td>3</td>\n",
       "    </tr>\n",
       "    <tr>\n",
       "      <th>3</th>\n",
       "      <td>38</td>\n",
       "      <td>No</td>\n",
       "      <td>Non-Travel</td>\n",
       "      <td>Research &amp; Development</td>\n",
       "      <td>2</td>\n",
       "      <td>Doctor</td>\n",
       "      <td>Life Sciences</td>\n",
       "      <td>4</td>\n",
       "      <td>Male</td>\n",
       "      <td>3</td>\n",
       "      <td>...</td>\n",
       "      <td>Married</td>\n",
       "      <td>83210</td>\n",
       "      <td>3.0</td>\n",
       "      <td>11</td>\n",
       "      <td>3</td>\n",
       "      <td>13.0</td>\n",
       "      <td>5</td>\n",
       "      <td>8</td>\n",
       "      <td>7</td>\n",
       "      <td>5</td>\n",
       "    </tr>\n",
       "    <tr>\n",
       "      <th>4</th>\n",
       "      <td>32</td>\n",
       "      <td>No</td>\n",
       "      <td>Travel_Rarely</td>\n",
       "      <td>Research &amp; Development</td>\n",
       "      <td>10</td>\n",
       "      <td>Below College</td>\n",
       "      <td>Medical</td>\n",
       "      <td>5</td>\n",
       "      <td>Male</td>\n",
       "      <td>1</td>\n",
       "      <td>...</td>\n",
       "      <td>Single</td>\n",
       "      <td>23420</td>\n",
       "      <td>4.0</td>\n",
       "      <td>12</td>\n",
       "      <td>2</td>\n",
       "      <td>9.0</td>\n",
       "      <td>2</td>\n",
       "      <td>6</td>\n",
       "      <td>0</td>\n",
       "      <td>4</td>\n",
       "    </tr>\n",
       "  </tbody>\n",
       "</table>\n",
       "<p>5 rows × 21 columns</p>\n",
       "</div>"
      ],
      "text/plain": [
       "   Age Attrition     BusinessTravel              Department  DistanceFromHome  \\\n",
       "0   51        No      Travel_Rarely                   Sales                 6   \n",
       "1   31       Yes  Travel_Frequently  Research & Development                10   \n",
       "2   32        No  Travel_Frequently  Research & Development                17   \n",
       "3   38        No         Non-Travel  Research & Development                 2   \n",
       "4   32        No      Travel_Rarely  Research & Development                10   \n",
       "\n",
       "       Education EducationField  EmployeeID  Gender JobLevel  ...  \\\n",
       "0        College  Life Sciences           1  Female        1  ...   \n",
       "1  Below College  Life Sciences           2  Female        1  ...   \n",
       "2         Master          Other           3    Male        4  ...   \n",
       "3         Doctor  Life Sciences           4    Male        3  ...   \n",
       "4  Below College        Medical           5    Male        1  ...   \n",
       "\n",
       "  MaritalStatus MonthlyIncome  NumCompaniesWorked  PercentSalaryHike  \\\n",
       "0       Married        131160                 1.0                 11   \n",
       "1        Single         41890                 0.0                 23   \n",
       "2       Married        193280                 1.0                 15   \n",
       "3       Married         83210                 3.0                 11   \n",
       "4        Single         23420                 4.0                 12   \n",
       "\n",
       "   StockOptionLevel  TotalWorkingYears  TrainingTimesLastYear  YearsAtCompany  \\\n",
       "0                 0                1.0                      6               1   \n",
       "1                 1                6.0                      3               5   \n",
       "2                 3                5.0                      2               5   \n",
       "3                 3               13.0                      5               8   \n",
       "4                 2                9.0                      2               6   \n",
       "\n",
       "   YearsSinceLastPromotion  YearsWithCurrManager  \n",
       "0                        0                     0  \n",
       "1                        1                     4  \n",
       "2                        0                     3  \n",
       "3                        7                     5  \n",
       "4                        0                     4  \n",
       "\n",
       "[5 rows x 21 columns]"
      ]
     },
     "execution_count": 16,
     "metadata": {},
     "output_type": "execute_result"
    }
   ],
   "source": [
    "# Looking at the data sample after changes have been implemented\n",
    "general.head(5)"
   ]
  },
  {
   "cell_type": "markdown",
   "id": "mexican-spice",
   "metadata": {},
   "source": [
    "### Survey info data set"
   ]
  },
  {
   "cell_type": "code",
   "execution_count": 17,
   "id": "copyrighted-arkansas",
   "metadata": {
    "scrolled": true
   },
   "outputs": [
    {
     "data": {
      "text/html": [
       "<div>\n",
       "<style scoped>\n",
       "    .dataframe tbody tr th:only-of-type {\n",
       "        vertical-align: middle;\n",
       "    }\n",
       "\n",
       "    .dataframe tbody tr th {\n",
       "        vertical-align: top;\n",
       "    }\n",
       "\n",
       "    .dataframe thead th {\n",
       "        text-align: right;\n",
       "    }\n",
       "</style>\n",
       "<table border=\"1\" class=\"dataframe\">\n",
       "  <thead>\n",
       "    <tr style=\"text-align: right;\">\n",
       "      <th></th>\n",
       "      <th>EmployeeID</th>\n",
       "      <th>EnvironmentSatisfaction</th>\n",
       "      <th>JobSatisfaction</th>\n",
       "      <th>WorkLifeBalance</th>\n",
       "    </tr>\n",
       "  </thead>\n",
       "  <tbody>\n",
       "    <tr>\n",
       "      <th>0</th>\n",
       "      <td>1</td>\n",
       "      <td>3.0</td>\n",
       "      <td>4.0</td>\n",
       "      <td>2.0</td>\n",
       "    </tr>\n",
       "    <tr>\n",
       "      <th>1</th>\n",
       "      <td>2</td>\n",
       "      <td>3.0</td>\n",
       "      <td>2.0</td>\n",
       "      <td>4.0</td>\n",
       "    </tr>\n",
       "    <tr>\n",
       "      <th>2</th>\n",
       "      <td>3</td>\n",
       "      <td>2.0</td>\n",
       "      <td>2.0</td>\n",
       "      <td>1.0</td>\n",
       "    </tr>\n",
       "    <tr>\n",
       "      <th>3</th>\n",
       "      <td>4</td>\n",
       "      <td>4.0</td>\n",
       "      <td>4.0</td>\n",
       "      <td>3.0</td>\n",
       "    </tr>\n",
       "    <tr>\n",
       "      <th>4</th>\n",
       "      <td>5</td>\n",
       "      <td>4.0</td>\n",
       "      <td>1.0</td>\n",
       "      <td>3.0</td>\n",
       "    </tr>\n",
       "  </tbody>\n",
       "</table>\n",
       "</div>"
      ],
      "text/plain": [
       "   EmployeeID  EnvironmentSatisfaction  JobSatisfaction  WorkLifeBalance\n",
       "0           1                      3.0              4.0              2.0\n",
       "1           2                      3.0              2.0              4.0\n",
       "2           3                      2.0              2.0              1.0\n",
       "3           4                      4.0              4.0              3.0\n",
       "4           5                      4.0              1.0              3.0"
      ]
     },
     "execution_count": 17,
     "metadata": {},
     "output_type": "execute_result"
    }
   ],
   "source": [
    "# Looking into sample of survey data set\n",
    "survey.head(5)"
   ]
  },
  {
   "cell_type": "code",
   "execution_count": 18,
   "id": "divided-developer",
   "metadata": {},
   "outputs": [
    {
     "data": {
      "text/html": [
       "<div>\n",
       "<style scoped>\n",
       "    .dataframe tbody tr th:only-of-type {\n",
       "        vertical-align: middle;\n",
       "    }\n",
       "\n",
       "    .dataframe tbody tr th {\n",
       "        vertical-align: top;\n",
       "    }\n",
       "\n",
       "    .dataframe thead th {\n",
       "        text-align: right;\n",
       "    }\n",
       "</style>\n",
       "<table border=\"1\" class=\"dataframe\">\n",
       "  <thead>\n",
       "    <tr style=\"text-align: right;\">\n",
       "      <th></th>\n",
       "      <th>EmployeeID</th>\n",
       "      <th>EnvironmentSatisfaction</th>\n",
       "      <th>JobSatisfaction</th>\n",
       "      <th>WorkLifeBalance</th>\n",
       "    </tr>\n",
       "  </thead>\n",
       "  <tbody>\n",
       "    <tr>\n",
       "      <th>count</th>\n",
       "      <td>1000.000000</td>\n",
       "      <td>991.000000</td>\n",
       "      <td>995.000000</td>\n",
       "      <td>993.000000</td>\n",
       "    </tr>\n",
       "    <tr>\n",
       "      <th>mean</th>\n",
       "      <td>500.500000</td>\n",
       "      <td>2.733602</td>\n",
       "      <td>2.715578</td>\n",
       "      <td>2.765358</td>\n",
       "    </tr>\n",
       "    <tr>\n",
       "      <th>std</th>\n",
       "      <td>288.819436</td>\n",
       "      <td>1.103562</td>\n",
       "      <td>1.100808</td>\n",
       "      <td>0.717247</td>\n",
       "    </tr>\n",
       "    <tr>\n",
       "      <th>min</th>\n",
       "      <td>1.000000</td>\n",
       "      <td>1.000000</td>\n",
       "      <td>1.000000</td>\n",
       "      <td>1.000000</td>\n",
       "    </tr>\n",
       "    <tr>\n",
       "      <th>25%</th>\n",
       "      <td>250.750000</td>\n",
       "      <td>2.000000</td>\n",
       "      <td>2.000000</td>\n",
       "      <td>2.000000</td>\n",
       "    </tr>\n",
       "    <tr>\n",
       "      <th>50%</th>\n",
       "      <td>500.500000</td>\n",
       "      <td>3.000000</td>\n",
       "      <td>3.000000</td>\n",
       "      <td>3.000000</td>\n",
       "    </tr>\n",
       "    <tr>\n",
       "      <th>75%</th>\n",
       "      <td>750.250000</td>\n",
       "      <td>4.000000</td>\n",
       "      <td>4.000000</td>\n",
       "      <td>3.000000</td>\n",
       "    </tr>\n",
       "    <tr>\n",
       "      <th>max</th>\n",
       "      <td>1000.000000</td>\n",
       "      <td>4.000000</td>\n",
       "      <td>4.000000</td>\n",
       "      <td>4.000000</td>\n",
       "    </tr>\n",
       "  </tbody>\n",
       "</table>\n",
       "</div>"
      ],
      "text/plain": [
       "        EmployeeID  EnvironmentSatisfaction  JobSatisfaction  WorkLifeBalance\n",
       "count  1000.000000               991.000000       995.000000       993.000000\n",
       "mean    500.500000                 2.733602         2.715578         2.765358\n",
       "std     288.819436                 1.103562         1.100808         0.717247\n",
       "min       1.000000                 1.000000         1.000000         1.000000\n",
       "25%     250.750000                 2.000000         2.000000         2.000000\n",
       "50%     500.500000                 3.000000         3.000000         3.000000\n",
       "75%     750.250000                 4.000000         4.000000         3.000000\n",
       "max    1000.000000                 4.000000         4.000000         4.000000"
      ]
     },
     "execution_count": 18,
     "metadata": {},
     "output_type": "execute_result"
    }
   ],
   "source": [
    "# Checking statistical information of the data set\n",
    "survey.describe()"
   ]
  },
  {
   "cell_type": "code",
   "execution_count": 19,
   "id": "hungarian-chorus",
   "metadata": {
    "scrolled": false
   },
   "outputs": [
    {
     "name": "stdout",
     "output_type": "stream",
     "text": [
      "<class 'pandas.core.frame.DataFrame'>\n",
      "RangeIndex: 1000 entries, 0 to 999\n",
      "Data columns (total 4 columns):\n",
      " #   Column                   Non-Null Count  Dtype  \n",
      "---  ------                   --------------  -----  \n",
      " 0   EmployeeID               1000 non-null   int64  \n",
      " 1   EnvironmentSatisfaction  991 non-null    float64\n",
      " 2   JobSatisfaction          995 non-null    float64\n",
      " 3   WorkLifeBalance          993 non-null    float64\n",
      "dtypes: float64(3), int64(1)\n",
      "memory usage: 31.4 KB\n"
     ]
    }
   ],
   "source": [
    "# Checking general information and data types of the data set\n",
    "survey.info()"
   ]
  },
  {
   "cell_type": "code",
   "execution_count": 20,
   "id": "chicken-blond",
   "metadata": {},
   "outputs": [],
   "source": [
    "# Decoding values with meaningful titles instead of numbers\n",
    "survey[\"EnvironmentSatisfaction\"] = survey[\"EnvironmentSatisfaction\"].replace({1:\"Low\", 2:\"Medium\", 3:\"High\", 4:\"Very High\"})\n",
    "survey[\"JobSatisfaction\"] = survey[\"JobSatisfaction\"].replace({1:\"Low\", 2:\"Medium\", 3:\"High\", 4:\"Very High\"})\n",
    "survey[\"WorkLifeBalance\"] = survey[\"WorkLifeBalance\"].replace({1:\"Bad\", 2:\"Good\", 3:\"Better\", 4:\"Best\"})"
   ]
  },
  {
   "cell_type": "code",
   "execution_count": 21,
   "id": "innocent-draft",
   "metadata": {},
   "outputs": [
    {
     "name": "stdout",
     "output_type": "stream",
     "text": [
      "<class 'pandas.core.frame.DataFrame'>\n",
      "RangeIndex: 1000 entries, 0 to 999\n",
      "Data columns (total 4 columns):\n",
      " #   Column                   Non-Null Count  Dtype \n",
      "---  ------                   --------------  ----- \n",
      " 0   EmployeeID               1000 non-null   int64 \n",
      " 1   EnvironmentSatisfaction  1000 non-null   object\n",
      " 2   JobSatisfaction          1000 non-null   object\n",
      " 3   WorkLifeBalance          1000 non-null   object\n",
      "dtypes: int64(1), object(3)\n",
      "memory usage: 31.4+ KB\n"
     ]
    }
   ],
   "source": [
    "# From statistical information table we know that mean for EnvironmentSatisfaction field is 2.709. Therefore, we can change null values to \"High\" as it corresponds to value 3.\n",
    "survey[\"EnvironmentSatisfaction\"] = survey[\"EnvironmentSatisfaction\"].fillna(\"High\")\n",
    "# From statistical information table we know that mean for JobSatisfaction field is 2.702. Therefore, we can change null values to \"High\" as it corresponds to value 3.\n",
    "survey[\"JobSatisfaction\"] = survey[\"JobSatisfaction\"].fillna(\"High\")\n",
    "# From statistical information table we know that mean for WorkLifeBalance field is 2.746 Therefore, we can change null values to \"Better\" as it corresponds to value 3.\n",
    "survey[\"WorkLifeBalance\"] = survey[\"WorkLifeBalance\"].fillna(\"Better\")\n",
    "\n",
    "# Checking data set information after changes have been implemented\n",
    "survey.info()"
   ]
  },
  {
   "cell_type": "code",
   "execution_count": 22,
   "id": "recognized-router",
   "metadata": {
    "scrolled": false
   },
   "outputs": [
    {
     "data": {
      "text/html": [
       "<div>\n",
       "<style scoped>\n",
       "    .dataframe tbody tr th:only-of-type {\n",
       "        vertical-align: middle;\n",
       "    }\n",
       "\n",
       "    .dataframe tbody tr th {\n",
       "        vertical-align: top;\n",
       "    }\n",
       "\n",
       "    .dataframe thead th {\n",
       "        text-align: right;\n",
       "    }\n",
       "</style>\n",
       "<table border=\"1\" class=\"dataframe\">\n",
       "  <thead>\n",
       "    <tr style=\"text-align: right;\">\n",
       "      <th></th>\n",
       "      <th>EmployeeID</th>\n",
       "      <th>EnvironmentSatisfaction</th>\n",
       "      <th>JobSatisfaction</th>\n",
       "      <th>WorkLifeBalance</th>\n",
       "    </tr>\n",
       "  </thead>\n",
       "  <tbody>\n",
       "    <tr>\n",
       "      <th>0</th>\n",
       "      <td>1</td>\n",
       "      <td>High</td>\n",
       "      <td>Very High</td>\n",
       "      <td>Good</td>\n",
       "    </tr>\n",
       "    <tr>\n",
       "      <th>1</th>\n",
       "      <td>2</td>\n",
       "      <td>High</td>\n",
       "      <td>Medium</td>\n",
       "      <td>Best</td>\n",
       "    </tr>\n",
       "    <tr>\n",
       "      <th>2</th>\n",
       "      <td>3</td>\n",
       "      <td>Medium</td>\n",
       "      <td>Medium</td>\n",
       "      <td>Bad</td>\n",
       "    </tr>\n",
       "    <tr>\n",
       "      <th>3</th>\n",
       "      <td>4</td>\n",
       "      <td>Very High</td>\n",
       "      <td>Very High</td>\n",
       "      <td>Better</td>\n",
       "    </tr>\n",
       "    <tr>\n",
       "      <th>4</th>\n",
       "      <td>5</td>\n",
       "      <td>Very High</td>\n",
       "      <td>Low</td>\n",
       "      <td>Better</td>\n",
       "    </tr>\n",
       "  </tbody>\n",
       "</table>\n",
       "</div>"
      ],
      "text/plain": [
       "   EmployeeID EnvironmentSatisfaction JobSatisfaction WorkLifeBalance\n",
       "0           1                    High       Very High            Good\n",
       "1           2                    High          Medium            Best\n",
       "2           3                  Medium          Medium             Bad\n",
       "3           4               Very High       Very High          Better\n",
       "4           5               Very High             Low          Better"
      ]
     },
     "execution_count": 22,
     "metadata": {},
     "output_type": "execute_result"
    }
   ],
   "source": [
    "# Checking sample of the data set after changes have been implemented\n",
    "survey.head(5)"
   ]
  },
  {
   "cell_type": "markdown",
   "id": "conscious-discovery",
   "metadata": {},
   "source": [
    "## In Time data set"
   ]
  },
  {
   "cell_type": "code",
   "execution_count": 23,
   "id": "verbal-arizona",
   "metadata": {
    "scrolled": true
   },
   "outputs": [
    {
     "data": {
      "text/html": [
       "<div>\n",
       "<style scoped>\n",
       "    .dataframe tbody tr th:only-of-type {\n",
       "        vertical-align: middle;\n",
       "    }\n",
       "\n",
       "    .dataframe tbody tr th {\n",
       "        vertical-align: top;\n",
       "    }\n",
       "\n",
       "    .dataframe thead th {\n",
       "        text-align: right;\n",
       "    }\n",
       "</style>\n",
       "<table border=\"1\" class=\"dataframe\">\n",
       "  <thead>\n",
       "    <tr style=\"text-align: right;\">\n",
       "      <th></th>\n",
       "      <th>Unnamed: 0</th>\n",
       "      <th>2015-01-01</th>\n",
       "      <th>2015-01-02</th>\n",
       "      <th>2015-01-05</th>\n",
       "      <th>2015-01-06</th>\n",
       "      <th>2015-01-07</th>\n",
       "      <th>2015-01-08</th>\n",
       "      <th>2015-01-09</th>\n",
       "      <th>2015-01-12</th>\n",
       "      <th>2015-01-13</th>\n",
       "      <th>...</th>\n",
       "      <th>2015-12-18</th>\n",
       "      <th>2015-12-21</th>\n",
       "      <th>2015-12-22</th>\n",
       "      <th>2015-12-23</th>\n",
       "      <th>2015-12-24</th>\n",
       "      <th>2015-12-25</th>\n",
       "      <th>2015-12-28</th>\n",
       "      <th>2015-12-29</th>\n",
       "      <th>2015-12-30</th>\n",
       "      <th>2015-12-31</th>\n",
       "    </tr>\n",
       "  </thead>\n",
       "  <tbody>\n",
       "    <tr>\n",
       "      <th>0</th>\n",
       "      <td>1</td>\n",
       "      <td>NaN</td>\n",
       "      <td>2015-01-02 09:43:45</td>\n",
       "      <td>2015-01-05 10:08:48</td>\n",
       "      <td>2015-01-06 09:54:26</td>\n",
       "      <td>2015-01-07 09:34:31</td>\n",
       "      <td>2015-01-08 09:51:09</td>\n",
       "      <td>2015-01-09 10:09:25</td>\n",
       "      <td>2015-01-12 09:42:53</td>\n",
       "      <td>2015-01-13 10:13:06</td>\n",
       "      <td>...</td>\n",
       "      <td>NaN</td>\n",
       "      <td>2015-12-21 09:55:29</td>\n",
       "      <td>2015-12-22 10:04:06</td>\n",
       "      <td>2015-12-23 10:14:27</td>\n",
       "      <td>2015-12-24 10:11:35</td>\n",
       "      <td>NaN</td>\n",
       "      <td>2015-12-28 10:13:41</td>\n",
       "      <td>2015-12-29 10:03:36</td>\n",
       "      <td>2015-12-30 09:54:12</td>\n",
       "      <td>2015-12-31 10:12:44</td>\n",
       "    </tr>\n",
       "    <tr>\n",
       "      <th>1</th>\n",
       "      <td>2</td>\n",
       "      <td>NaN</td>\n",
       "      <td>2015-01-02 10:15:44</td>\n",
       "      <td>2015-01-05 10:21:05</td>\n",
       "      <td>NaN</td>\n",
       "      <td>2015-01-07 09:45:17</td>\n",
       "      <td>2015-01-08 10:09:04</td>\n",
       "      <td>2015-01-09 09:43:26</td>\n",
       "      <td>2015-01-12 10:00:07</td>\n",
       "      <td>2015-01-13 10:43:29</td>\n",
       "      <td>...</td>\n",
       "      <td>2015-12-18 10:37:17</td>\n",
       "      <td>2015-12-21 09:49:02</td>\n",
       "      <td>2015-12-22 10:33:51</td>\n",
       "      <td>2015-12-23 10:12:10</td>\n",
       "      <td>NaN</td>\n",
       "      <td>NaN</td>\n",
       "      <td>2015-12-28 09:31:45</td>\n",
       "      <td>2015-12-29 09:55:49</td>\n",
       "      <td>2015-12-30 10:32:25</td>\n",
       "      <td>2015-12-31 09:27:20</td>\n",
       "    </tr>\n",
       "    <tr>\n",
       "      <th>2</th>\n",
       "      <td>3</td>\n",
       "      <td>NaN</td>\n",
       "      <td>2015-01-02 10:17:41</td>\n",
       "      <td>2015-01-05 09:50:50</td>\n",
       "      <td>2015-01-06 10:14:13</td>\n",
       "      <td>2015-01-07 09:47:27</td>\n",
       "      <td>2015-01-08 10:03:40</td>\n",
       "      <td>2015-01-09 10:05:49</td>\n",
       "      <td>2015-01-12 10:03:47</td>\n",
       "      <td>2015-01-13 10:21:26</td>\n",
       "      <td>...</td>\n",
       "      <td>2015-12-18 10:15:14</td>\n",
       "      <td>2015-12-21 10:10:28</td>\n",
       "      <td>2015-12-22 09:44:44</td>\n",
       "      <td>2015-12-23 10:15:54</td>\n",
       "      <td>2015-12-24 10:07:26</td>\n",
       "      <td>NaN</td>\n",
       "      <td>2015-12-28 09:42:05</td>\n",
       "      <td>2015-12-29 09:43:36</td>\n",
       "      <td>2015-12-30 09:34:05</td>\n",
       "      <td>2015-12-31 10:28:39</td>\n",
       "    </tr>\n",
       "    <tr>\n",
       "      <th>3</th>\n",
       "      <td>4</td>\n",
       "      <td>NaN</td>\n",
       "      <td>2015-01-02 10:05:06</td>\n",
       "      <td>2015-01-05 09:56:32</td>\n",
       "      <td>2015-01-06 10:11:07</td>\n",
       "      <td>2015-01-07 09:37:30</td>\n",
       "      <td>2015-01-08 10:02:08</td>\n",
       "      <td>2015-01-09 10:08:12</td>\n",
       "      <td>2015-01-12 10:13:42</td>\n",
       "      <td>2015-01-13 09:53:22</td>\n",
       "      <td>...</td>\n",
       "      <td>2015-12-18 10:17:38</td>\n",
       "      <td>2015-12-21 09:58:21</td>\n",
       "      <td>2015-12-22 10:04:25</td>\n",
       "      <td>2015-12-23 10:11:46</td>\n",
       "      <td>2015-12-24 09:43:15</td>\n",
       "      <td>NaN</td>\n",
       "      <td>2015-12-28 09:52:44</td>\n",
       "      <td>2015-12-29 09:33:16</td>\n",
       "      <td>2015-12-30 10:18:12</td>\n",
       "      <td>2015-12-31 10:01:15</td>\n",
       "    </tr>\n",
       "    <tr>\n",
       "      <th>4</th>\n",
       "      <td>5</td>\n",
       "      <td>NaN</td>\n",
       "      <td>2015-01-02 10:28:17</td>\n",
       "      <td>2015-01-05 09:49:58</td>\n",
       "      <td>2015-01-06 09:45:28</td>\n",
       "      <td>2015-01-07 09:49:37</td>\n",
       "      <td>2015-01-08 10:19:44</td>\n",
       "      <td>2015-01-09 10:00:50</td>\n",
       "      <td>2015-01-12 10:29:27</td>\n",
       "      <td>2015-01-13 09:59:32</td>\n",
       "      <td>...</td>\n",
       "      <td>2015-12-18 09:58:35</td>\n",
       "      <td>2015-12-21 10:03:41</td>\n",
       "      <td>2015-12-22 10:10:30</td>\n",
       "      <td>2015-12-23 10:13:36</td>\n",
       "      <td>2015-12-24 09:44:24</td>\n",
       "      <td>NaN</td>\n",
       "      <td>2015-12-28 10:05:15</td>\n",
       "      <td>2015-12-29 10:30:53</td>\n",
       "      <td>2015-12-30 09:18:21</td>\n",
       "      <td>2015-12-31 09:41:09</td>\n",
       "    </tr>\n",
       "  </tbody>\n",
       "</table>\n",
       "<p>5 rows × 262 columns</p>\n",
       "</div>"
      ],
      "text/plain": [
       "   Unnamed: 0  2015-01-01           2015-01-02           2015-01-05  \\\n",
       "0           1         NaN  2015-01-02 09:43:45  2015-01-05 10:08:48   \n",
       "1           2         NaN  2015-01-02 10:15:44  2015-01-05 10:21:05   \n",
       "2           3         NaN  2015-01-02 10:17:41  2015-01-05 09:50:50   \n",
       "3           4         NaN  2015-01-02 10:05:06  2015-01-05 09:56:32   \n",
       "4           5         NaN  2015-01-02 10:28:17  2015-01-05 09:49:58   \n",
       "\n",
       "            2015-01-06           2015-01-07           2015-01-08  \\\n",
       "0  2015-01-06 09:54:26  2015-01-07 09:34:31  2015-01-08 09:51:09   \n",
       "1                  NaN  2015-01-07 09:45:17  2015-01-08 10:09:04   \n",
       "2  2015-01-06 10:14:13  2015-01-07 09:47:27  2015-01-08 10:03:40   \n",
       "3  2015-01-06 10:11:07  2015-01-07 09:37:30  2015-01-08 10:02:08   \n",
       "4  2015-01-06 09:45:28  2015-01-07 09:49:37  2015-01-08 10:19:44   \n",
       "\n",
       "            2015-01-09           2015-01-12           2015-01-13  ...  \\\n",
       "0  2015-01-09 10:09:25  2015-01-12 09:42:53  2015-01-13 10:13:06  ...   \n",
       "1  2015-01-09 09:43:26  2015-01-12 10:00:07  2015-01-13 10:43:29  ...   \n",
       "2  2015-01-09 10:05:49  2015-01-12 10:03:47  2015-01-13 10:21:26  ...   \n",
       "3  2015-01-09 10:08:12  2015-01-12 10:13:42  2015-01-13 09:53:22  ...   \n",
       "4  2015-01-09 10:00:50  2015-01-12 10:29:27  2015-01-13 09:59:32  ...   \n",
       "\n",
       "            2015-12-18           2015-12-21           2015-12-22  \\\n",
       "0                  NaN  2015-12-21 09:55:29  2015-12-22 10:04:06   \n",
       "1  2015-12-18 10:37:17  2015-12-21 09:49:02  2015-12-22 10:33:51   \n",
       "2  2015-12-18 10:15:14  2015-12-21 10:10:28  2015-12-22 09:44:44   \n",
       "3  2015-12-18 10:17:38  2015-12-21 09:58:21  2015-12-22 10:04:25   \n",
       "4  2015-12-18 09:58:35  2015-12-21 10:03:41  2015-12-22 10:10:30   \n",
       "\n",
       "            2015-12-23           2015-12-24 2015-12-25           2015-12-28  \\\n",
       "0  2015-12-23 10:14:27  2015-12-24 10:11:35        NaN  2015-12-28 10:13:41   \n",
       "1  2015-12-23 10:12:10                  NaN        NaN  2015-12-28 09:31:45   \n",
       "2  2015-12-23 10:15:54  2015-12-24 10:07:26        NaN  2015-12-28 09:42:05   \n",
       "3  2015-12-23 10:11:46  2015-12-24 09:43:15        NaN  2015-12-28 09:52:44   \n",
       "4  2015-12-23 10:13:36  2015-12-24 09:44:24        NaN  2015-12-28 10:05:15   \n",
       "\n",
       "            2015-12-29           2015-12-30           2015-12-31  \n",
       "0  2015-12-29 10:03:36  2015-12-30 09:54:12  2015-12-31 10:12:44  \n",
       "1  2015-12-29 09:55:49  2015-12-30 10:32:25  2015-12-31 09:27:20  \n",
       "2  2015-12-29 09:43:36  2015-12-30 09:34:05  2015-12-31 10:28:39  \n",
       "3  2015-12-29 09:33:16  2015-12-30 10:18:12  2015-12-31 10:01:15  \n",
       "4  2015-12-29 10:30:53  2015-12-30 09:18:21  2015-12-31 09:41:09  \n",
       "\n",
       "[5 rows x 262 columns]"
      ]
     },
     "execution_count": 23,
     "metadata": {},
     "output_type": "execute_result"
    }
   ],
   "source": [
    "# Importing data set with employees' check-in times\n",
    "in_time = pd.read_csv(\"C:\\\\Users\\\\ASUS\\\\Desktop\\\\Stuff\\\\Big Data\\\\Python\\\\HR analysis\\\\in_time.csv\")\n",
    "# Looking at the sample of the data set\n",
    "in_time.head(5)"
   ]
  },
  {
   "cell_type": "code",
   "execution_count": 24,
   "id": "gross-praise",
   "metadata": {
    "scrolled": true
   },
   "outputs": [
    {
     "data": {
      "text/html": [
       "<div>\n",
       "<style scoped>\n",
       "    .dataframe tbody tr th:only-of-type {\n",
       "        vertical-align: middle;\n",
       "    }\n",
       "\n",
       "    .dataframe tbody tr th {\n",
       "        vertical-align: top;\n",
       "    }\n",
       "\n",
       "    .dataframe thead th {\n",
       "        text-align: right;\n",
       "    }\n",
       "</style>\n",
       "<table border=\"1\" class=\"dataframe\">\n",
       "  <thead>\n",
       "    <tr style=\"text-align: right;\">\n",
       "      <th></th>\n",
       "      <th>EmployeeID</th>\n",
       "      <th>2015-01-01</th>\n",
       "      <th>2015-01-02</th>\n",
       "      <th>2015-01-05</th>\n",
       "      <th>2015-01-06</th>\n",
       "      <th>2015-01-07</th>\n",
       "      <th>2015-01-08</th>\n",
       "      <th>2015-01-09</th>\n",
       "      <th>2015-01-12</th>\n",
       "      <th>2015-01-13</th>\n",
       "      <th>...</th>\n",
       "      <th>2015-12-18</th>\n",
       "      <th>2015-12-21</th>\n",
       "      <th>2015-12-22</th>\n",
       "      <th>2015-12-23</th>\n",
       "      <th>2015-12-24</th>\n",
       "      <th>2015-12-25</th>\n",
       "      <th>2015-12-28</th>\n",
       "      <th>2015-12-29</th>\n",
       "      <th>2015-12-30</th>\n",
       "      <th>2015-12-31</th>\n",
       "    </tr>\n",
       "  </thead>\n",
       "  <tbody>\n",
       "    <tr>\n",
       "      <th>0</th>\n",
       "      <td>1</td>\n",
       "      <td>NaN</td>\n",
       "      <td>2015-01-02 09:43:45</td>\n",
       "      <td>2015-01-05 10:08:48</td>\n",
       "      <td>2015-01-06 09:54:26</td>\n",
       "      <td>2015-01-07 09:34:31</td>\n",
       "      <td>2015-01-08 09:51:09</td>\n",
       "      <td>2015-01-09 10:09:25</td>\n",
       "      <td>2015-01-12 09:42:53</td>\n",
       "      <td>2015-01-13 10:13:06</td>\n",
       "      <td>...</td>\n",
       "      <td>NaN</td>\n",
       "      <td>2015-12-21 09:55:29</td>\n",
       "      <td>2015-12-22 10:04:06</td>\n",
       "      <td>2015-12-23 10:14:27</td>\n",
       "      <td>2015-12-24 10:11:35</td>\n",
       "      <td>NaN</td>\n",
       "      <td>2015-12-28 10:13:41</td>\n",
       "      <td>2015-12-29 10:03:36</td>\n",
       "      <td>2015-12-30 09:54:12</td>\n",
       "      <td>2015-12-31 10:12:44</td>\n",
       "    </tr>\n",
       "    <tr>\n",
       "      <th>1</th>\n",
       "      <td>2</td>\n",
       "      <td>NaN</td>\n",
       "      <td>2015-01-02 10:15:44</td>\n",
       "      <td>2015-01-05 10:21:05</td>\n",
       "      <td>NaN</td>\n",
       "      <td>2015-01-07 09:45:17</td>\n",
       "      <td>2015-01-08 10:09:04</td>\n",
       "      <td>2015-01-09 09:43:26</td>\n",
       "      <td>2015-01-12 10:00:07</td>\n",
       "      <td>2015-01-13 10:43:29</td>\n",
       "      <td>...</td>\n",
       "      <td>2015-12-18 10:37:17</td>\n",
       "      <td>2015-12-21 09:49:02</td>\n",
       "      <td>2015-12-22 10:33:51</td>\n",
       "      <td>2015-12-23 10:12:10</td>\n",
       "      <td>NaN</td>\n",
       "      <td>NaN</td>\n",
       "      <td>2015-12-28 09:31:45</td>\n",
       "      <td>2015-12-29 09:55:49</td>\n",
       "      <td>2015-12-30 10:32:25</td>\n",
       "      <td>2015-12-31 09:27:20</td>\n",
       "    </tr>\n",
       "    <tr>\n",
       "      <th>2</th>\n",
       "      <td>3</td>\n",
       "      <td>NaN</td>\n",
       "      <td>2015-01-02 10:17:41</td>\n",
       "      <td>2015-01-05 09:50:50</td>\n",
       "      <td>2015-01-06 10:14:13</td>\n",
       "      <td>2015-01-07 09:47:27</td>\n",
       "      <td>2015-01-08 10:03:40</td>\n",
       "      <td>2015-01-09 10:05:49</td>\n",
       "      <td>2015-01-12 10:03:47</td>\n",
       "      <td>2015-01-13 10:21:26</td>\n",
       "      <td>...</td>\n",
       "      <td>2015-12-18 10:15:14</td>\n",
       "      <td>2015-12-21 10:10:28</td>\n",
       "      <td>2015-12-22 09:44:44</td>\n",
       "      <td>2015-12-23 10:15:54</td>\n",
       "      <td>2015-12-24 10:07:26</td>\n",
       "      <td>NaN</td>\n",
       "      <td>2015-12-28 09:42:05</td>\n",
       "      <td>2015-12-29 09:43:36</td>\n",
       "      <td>2015-12-30 09:34:05</td>\n",
       "      <td>2015-12-31 10:28:39</td>\n",
       "    </tr>\n",
       "  </tbody>\n",
       "</table>\n",
       "<p>3 rows × 262 columns</p>\n",
       "</div>"
      ],
      "text/plain": [
       "   EmployeeID  2015-01-01           2015-01-02           2015-01-05  \\\n",
       "0           1         NaN  2015-01-02 09:43:45  2015-01-05 10:08:48   \n",
       "1           2         NaN  2015-01-02 10:15:44  2015-01-05 10:21:05   \n",
       "2           3         NaN  2015-01-02 10:17:41  2015-01-05 09:50:50   \n",
       "\n",
       "            2015-01-06           2015-01-07           2015-01-08  \\\n",
       "0  2015-01-06 09:54:26  2015-01-07 09:34:31  2015-01-08 09:51:09   \n",
       "1                  NaN  2015-01-07 09:45:17  2015-01-08 10:09:04   \n",
       "2  2015-01-06 10:14:13  2015-01-07 09:47:27  2015-01-08 10:03:40   \n",
       "\n",
       "            2015-01-09           2015-01-12           2015-01-13  ...  \\\n",
       "0  2015-01-09 10:09:25  2015-01-12 09:42:53  2015-01-13 10:13:06  ...   \n",
       "1  2015-01-09 09:43:26  2015-01-12 10:00:07  2015-01-13 10:43:29  ...   \n",
       "2  2015-01-09 10:05:49  2015-01-12 10:03:47  2015-01-13 10:21:26  ...   \n",
       "\n",
       "            2015-12-18           2015-12-21           2015-12-22  \\\n",
       "0                  NaN  2015-12-21 09:55:29  2015-12-22 10:04:06   \n",
       "1  2015-12-18 10:37:17  2015-12-21 09:49:02  2015-12-22 10:33:51   \n",
       "2  2015-12-18 10:15:14  2015-12-21 10:10:28  2015-12-22 09:44:44   \n",
       "\n",
       "            2015-12-23           2015-12-24 2015-12-25           2015-12-28  \\\n",
       "0  2015-12-23 10:14:27  2015-12-24 10:11:35        NaN  2015-12-28 10:13:41   \n",
       "1  2015-12-23 10:12:10                  NaN        NaN  2015-12-28 09:31:45   \n",
       "2  2015-12-23 10:15:54  2015-12-24 10:07:26        NaN  2015-12-28 09:42:05   \n",
       "\n",
       "            2015-12-29           2015-12-30           2015-12-31  \n",
       "0  2015-12-29 10:03:36  2015-12-30 09:54:12  2015-12-31 10:12:44  \n",
       "1  2015-12-29 09:55:49  2015-12-30 10:32:25  2015-12-31 09:27:20  \n",
       "2  2015-12-29 09:43:36  2015-12-30 09:34:05  2015-12-31 10:28:39  \n",
       "\n",
       "[3 rows x 262 columns]"
      ]
     },
     "execution_count": 24,
     "metadata": {},
     "output_type": "execute_result"
    }
   ],
   "source": [
    "# Remaning the Unnamed column \n",
    "in_time.rename(columns={\"Unnamed: 0\":\"EmployeeID\"}, inplace=True)\n",
    "in_time.head(3)"
   ]
  },
  {
   "cell_type": "code",
   "execution_count": 25,
   "id": "bottom-peeing",
   "metadata": {},
   "outputs": [
    {
     "data": {
      "text/html": [
       "<div>\n",
       "<style scoped>\n",
       "    .dataframe tbody tr th:only-of-type {\n",
       "        vertical-align: middle;\n",
       "    }\n",
       "\n",
       "    .dataframe tbody tr th {\n",
       "        vertical-align: top;\n",
       "    }\n",
       "\n",
       "    .dataframe thead th {\n",
       "        text-align: right;\n",
       "    }\n",
       "</style>\n",
       "<table border=\"1\" class=\"dataframe\">\n",
       "  <thead>\n",
       "    <tr style=\"text-align: right;\">\n",
       "      <th></th>\n",
       "      <th>EmployeeID</th>\n",
       "      <th>Date_IN</th>\n",
       "      <th>Date_time_IN</th>\n",
       "    </tr>\n",
       "  </thead>\n",
       "  <tbody>\n",
       "    <tr>\n",
       "      <th>0</th>\n",
       "      <td>1</td>\n",
       "      <td>2015-01-02</td>\n",
       "      <td>2015-01-02 09:43:45</td>\n",
       "    </tr>\n",
       "    <tr>\n",
       "      <th>1</th>\n",
       "      <td>1</td>\n",
       "      <td>2015-01-05</td>\n",
       "      <td>2015-01-05 10:08:48</td>\n",
       "    </tr>\n",
       "    <tr>\n",
       "      <th>2</th>\n",
       "      <td>1</td>\n",
       "      <td>2015-01-06</td>\n",
       "      <td>2015-01-06 09:54:26</td>\n",
       "    </tr>\n",
       "    <tr>\n",
       "      <th>3</th>\n",
       "      <td>1</td>\n",
       "      <td>2015-01-07</td>\n",
       "      <td>2015-01-07 09:34:31</td>\n",
       "    </tr>\n",
       "    <tr>\n",
       "      <th>4</th>\n",
       "      <td>1</td>\n",
       "      <td>2015-01-08</td>\n",
       "      <td>2015-01-08 09:51:09</td>\n",
       "    </tr>\n",
       "  </tbody>\n",
       "</table>\n",
       "</div>"
      ],
      "text/plain": [
       "   EmployeeID     Date_IN         Date_time_IN\n",
       "0           1  2015-01-02  2015-01-02 09:43:45\n",
       "1           1  2015-01-05  2015-01-05 10:08:48\n",
       "2           1  2015-01-06  2015-01-06 09:54:26\n",
       "3           1  2015-01-07  2015-01-07 09:34:31\n",
       "4           1  2015-01-08  2015-01-08 09:51:09"
      ]
     },
     "execution_count": 25,
     "metadata": {},
     "output_type": "execute_result"
    }
   ],
   "source": [
    "# Transposing columns to have a pivot table with dates added to rows in the table.\n",
    "in_time_data = in_time.set_index(\"EmployeeID\").stack().reset_index()\n",
    "# Renaming new columns in the data set\n",
    "in_time_data.rename(columns={\"level_1\":\"Date_IN\", 0:\"Date_time_IN\"}, inplace=True)\n",
    "# Checking the data sample after changes have been implemented\n",
    "in_time_data.head(5)"
   ]
  },
  {
   "cell_type": "code",
   "execution_count": 26,
   "id": "sophisticated-saver",
   "metadata": {
    "scrolled": true
   },
   "outputs": [
    {
     "name": "stdout",
     "output_type": "stream",
     "text": [
      "<class 'pandas.core.frame.DataFrame'>\n",
      "RangeIndex: 236298 entries, 0 to 236297\n",
      "Data columns (total 3 columns):\n",
      " #   Column        Non-Null Count   Dtype \n",
      "---  ------        --------------   ----- \n",
      " 0   EmployeeID    236298 non-null  int64 \n",
      " 1   Date_IN       236298 non-null  object\n",
      " 2   Date_time_IN  236298 non-null  object\n",
      "dtypes: int64(1), object(2)\n",
      "memory usage: 5.4+ MB\n"
     ]
    }
   ],
   "source": [
    "# Checking the data imformation after changes have been implemented\n",
    "in_time_data.info()"
   ]
  },
  {
   "cell_type": "code",
   "execution_count": 27,
   "id": "hybrid-drama",
   "metadata": {},
   "outputs": [
    {
     "name": "stdout",
     "output_type": "stream",
     "text": [
      "<class 'pandas.core.frame.DataFrame'>\n",
      "RangeIndex: 236298 entries, 0 to 236297\n",
      "Data columns (total 3 columns):\n",
      " #   Column        Non-Null Count   Dtype         \n",
      "---  ------        --------------   -----         \n",
      " 0   EmployeeID    236298 non-null  int64         \n",
      " 1   Date_IN       236298 non-null  datetime64[ns]\n",
      " 2   Date_time_IN  236298 non-null  datetime64[ns]\n",
      "dtypes: datetime64[ns](2), int64(1)\n",
      "memory usage: 5.4 MB\n"
     ]
    }
   ],
   "source": [
    "# Changing data types to have a date format in both columns\n",
    "in_time_data[\"Date_IN\"] = pd.to_datetime(in_time_data[\"Date_IN\"])\n",
    "in_time_data[\"Date_time_IN\"] = pd.to_datetime(in_time_data[\"Date_time_IN\"])\n",
    "# Checking if changes have been implemented successfully\n",
    "in_time_data.info()"
   ]
  },
  {
   "cell_type": "markdown",
   "id": "common-rehabilitation",
   "metadata": {},
   "source": [
    "## Out Time data set"
   ]
  },
  {
   "cell_type": "code",
   "execution_count": 28,
   "id": "rural-lesson",
   "metadata": {},
   "outputs": [
    {
     "data": {
      "text/html": [
       "<div>\n",
       "<style scoped>\n",
       "    .dataframe tbody tr th:only-of-type {\n",
       "        vertical-align: middle;\n",
       "    }\n",
       "\n",
       "    .dataframe tbody tr th {\n",
       "        vertical-align: top;\n",
       "    }\n",
       "\n",
       "    .dataframe thead th {\n",
       "        text-align: right;\n",
       "    }\n",
       "</style>\n",
       "<table border=\"1\" class=\"dataframe\">\n",
       "  <thead>\n",
       "    <tr style=\"text-align: right;\">\n",
       "      <th></th>\n",
       "      <th>Unnamed: 0</th>\n",
       "      <th>2015-01-01</th>\n",
       "      <th>2015-01-02</th>\n",
       "      <th>2015-01-05</th>\n",
       "      <th>2015-01-06</th>\n",
       "      <th>2015-01-07</th>\n",
       "      <th>2015-01-08</th>\n",
       "      <th>2015-01-09</th>\n",
       "      <th>2015-01-12</th>\n",
       "      <th>2015-01-13</th>\n",
       "      <th>...</th>\n",
       "      <th>2015-12-18</th>\n",
       "      <th>2015-12-21</th>\n",
       "      <th>2015-12-22</th>\n",
       "      <th>2015-12-23</th>\n",
       "      <th>2015-12-24</th>\n",
       "      <th>2015-12-25</th>\n",
       "      <th>2015-12-28</th>\n",
       "      <th>2015-12-29</th>\n",
       "      <th>2015-12-30</th>\n",
       "      <th>2015-12-31</th>\n",
       "    </tr>\n",
       "  </thead>\n",
       "  <tbody>\n",
       "    <tr>\n",
       "      <th>0</th>\n",
       "      <td>1</td>\n",
       "      <td>NaN</td>\n",
       "      <td>2015-01-02 16:56:15</td>\n",
       "      <td>2015-01-05 17:20:11</td>\n",
       "      <td>2015-01-06 17:19:05</td>\n",
       "      <td>2015-01-07 16:34:55</td>\n",
       "      <td>2015-01-08 17:08:32</td>\n",
       "      <td>2015-01-09 17:38:29</td>\n",
       "      <td>2015-01-12 16:58:39</td>\n",
       "      <td>2015-01-13 18:02:58</td>\n",
       "      <td>...</td>\n",
       "      <td>NaN</td>\n",
       "      <td>2015-12-21 17:15:50</td>\n",
       "      <td>2015-12-22 17:27:51</td>\n",
       "      <td>2015-12-23 16:44:44</td>\n",
       "      <td>2015-12-24 17:47:22</td>\n",
       "      <td>NaN</td>\n",
       "      <td>2015-12-28 18:00:07</td>\n",
       "      <td>2015-12-29 17:22:30</td>\n",
       "      <td>2015-12-30 17:40:56</td>\n",
       "      <td>2015-12-31 17:17:33</td>\n",
       "    </tr>\n",
       "    <tr>\n",
       "      <th>1</th>\n",
       "      <td>2</td>\n",
       "      <td>NaN</td>\n",
       "      <td>2015-01-02 18:22:17</td>\n",
       "      <td>2015-01-05 17:48:22</td>\n",
       "      <td>NaN</td>\n",
       "      <td>2015-01-07 17:09:06</td>\n",
       "      <td>2015-01-08 17:34:04</td>\n",
       "      <td>2015-01-09 16:52:29</td>\n",
       "      <td>2015-01-12 17:36:48</td>\n",
       "      <td>2015-01-13 18:00:13</td>\n",
       "      <td>...</td>\n",
       "      <td>2015-12-18 18:31:28</td>\n",
       "      <td>2015-12-21 17:34:16</td>\n",
       "      <td>2015-12-22 18:16:35</td>\n",
       "      <td>2015-12-23 17:38:18</td>\n",
       "      <td>NaN</td>\n",
       "      <td>NaN</td>\n",
       "      <td>2015-12-28 17:08:38</td>\n",
       "      <td>2015-12-29 17:54:46</td>\n",
       "      <td>2015-12-30 18:31:35</td>\n",
       "      <td>2015-12-31 17:40:58</td>\n",
       "    </tr>\n",
       "    <tr>\n",
       "      <th>2</th>\n",
       "      <td>3</td>\n",
       "      <td>NaN</td>\n",
       "      <td>2015-01-02 16:59:14</td>\n",
       "      <td>2015-01-05 17:06:46</td>\n",
       "      <td>2015-01-06 16:38:32</td>\n",
       "      <td>2015-01-07 16:33:21</td>\n",
       "      <td>2015-01-08 17:24:22</td>\n",
       "      <td>2015-01-09 16:57:30</td>\n",
       "      <td>2015-01-12 17:28:54</td>\n",
       "      <td>2015-01-13 17:21:25</td>\n",
       "      <td>...</td>\n",
       "      <td>2015-12-18 17:02:23</td>\n",
       "      <td>2015-12-21 17:20:17</td>\n",
       "      <td>2015-12-22 16:32:50</td>\n",
       "      <td>2015-12-23 16:59:43</td>\n",
       "      <td>2015-12-24 16:58:25</td>\n",
       "      <td>NaN</td>\n",
       "      <td>2015-12-28 16:43:31</td>\n",
       "      <td>2015-12-29 17:09:56</td>\n",
       "      <td>2015-12-30 17:06:25</td>\n",
       "      <td>2015-12-31 17:15:50</td>\n",
       "    </tr>\n",
       "    <tr>\n",
       "      <th>3</th>\n",
       "      <td>4</td>\n",
       "      <td>NaN</td>\n",
       "      <td>2015-01-02 17:25:24</td>\n",
       "      <td>2015-01-05 17:14:03</td>\n",
       "      <td>2015-01-06 17:07:42</td>\n",
       "      <td>2015-01-07 16:32:40</td>\n",
       "      <td>2015-01-08 16:53:11</td>\n",
       "      <td>2015-01-09 17:19:47</td>\n",
       "      <td>2015-01-12 17:13:37</td>\n",
       "      <td>2015-01-13 17:11:45</td>\n",
       "      <td>...</td>\n",
       "      <td>2015-12-18 17:55:23</td>\n",
       "      <td>2015-12-21 16:49:09</td>\n",
       "      <td>2015-12-22 17:24:00</td>\n",
       "      <td>2015-12-23 17:36:35</td>\n",
       "      <td>2015-12-24 16:48:21</td>\n",
       "      <td>NaN</td>\n",
       "      <td>2015-12-28 17:19:34</td>\n",
       "      <td>2015-12-29 16:58:16</td>\n",
       "      <td>2015-12-30 17:40:11</td>\n",
       "      <td>2015-12-31 17:09:14</td>\n",
       "    </tr>\n",
       "    <tr>\n",
       "      <th>4</th>\n",
       "      <td>5</td>\n",
       "      <td>NaN</td>\n",
       "      <td>2015-01-02 18:31:37</td>\n",
       "      <td>2015-01-05 17:49:15</td>\n",
       "      <td>2015-01-06 17:26:25</td>\n",
       "      <td>2015-01-07 17:37:59</td>\n",
       "      <td>2015-01-08 17:59:28</td>\n",
       "      <td>2015-01-09 17:44:08</td>\n",
       "      <td>2015-01-12 18:51:21</td>\n",
       "      <td>2015-01-13 18:14:58</td>\n",
       "      <td>...</td>\n",
       "      <td>2015-12-18 17:52:48</td>\n",
       "      <td>2015-12-21 17:43:35</td>\n",
       "      <td>2015-12-22 18:07:57</td>\n",
       "      <td>2015-12-23 18:00:49</td>\n",
       "      <td>2015-12-24 17:59:22</td>\n",
       "      <td>NaN</td>\n",
       "      <td>2015-12-28 17:44:59</td>\n",
       "      <td>2015-12-29 18:47:00</td>\n",
       "      <td>2015-12-30 17:15:33</td>\n",
       "      <td>2015-12-31 17:42:14</td>\n",
       "    </tr>\n",
       "  </tbody>\n",
       "</table>\n",
       "<p>5 rows × 262 columns</p>\n",
       "</div>"
      ],
      "text/plain": [
       "   Unnamed: 0  2015-01-01           2015-01-02           2015-01-05  \\\n",
       "0           1         NaN  2015-01-02 16:56:15  2015-01-05 17:20:11   \n",
       "1           2         NaN  2015-01-02 18:22:17  2015-01-05 17:48:22   \n",
       "2           3         NaN  2015-01-02 16:59:14  2015-01-05 17:06:46   \n",
       "3           4         NaN  2015-01-02 17:25:24  2015-01-05 17:14:03   \n",
       "4           5         NaN  2015-01-02 18:31:37  2015-01-05 17:49:15   \n",
       "\n",
       "            2015-01-06           2015-01-07           2015-01-08  \\\n",
       "0  2015-01-06 17:19:05  2015-01-07 16:34:55  2015-01-08 17:08:32   \n",
       "1                  NaN  2015-01-07 17:09:06  2015-01-08 17:34:04   \n",
       "2  2015-01-06 16:38:32  2015-01-07 16:33:21  2015-01-08 17:24:22   \n",
       "3  2015-01-06 17:07:42  2015-01-07 16:32:40  2015-01-08 16:53:11   \n",
       "4  2015-01-06 17:26:25  2015-01-07 17:37:59  2015-01-08 17:59:28   \n",
       "\n",
       "            2015-01-09           2015-01-12           2015-01-13  ...  \\\n",
       "0  2015-01-09 17:38:29  2015-01-12 16:58:39  2015-01-13 18:02:58  ...   \n",
       "1  2015-01-09 16:52:29  2015-01-12 17:36:48  2015-01-13 18:00:13  ...   \n",
       "2  2015-01-09 16:57:30  2015-01-12 17:28:54  2015-01-13 17:21:25  ...   \n",
       "3  2015-01-09 17:19:47  2015-01-12 17:13:37  2015-01-13 17:11:45  ...   \n",
       "4  2015-01-09 17:44:08  2015-01-12 18:51:21  2015-01-13 18:14:58  ...   \n",
       "\n",
       "            2015-12-18           2015-12-21           2015-12-22  \\\n",
       "0                  NaN  2015-12-21 17:15:50  2015-12-22 17:27:51   \n",
       "1  2015-12-18 18:31:28  2015-12-21 17:34:16  2015-12-22 18:16:35   \n",
       "2  2015-12-18 17:02:23  2015-12-21 17:20:17  2015-12-22 16:32:50   \n",
       "3  2015-12-18 17:55:23  2015-12-21 16:49:09  2015-12-22 17:24:00   \n",
       "4  2015-12-18 17:52:48  2015-12-21 17:43:35  2015-12-22 18:07:57   \n",
       "\n",
       "            2015-12-23           2015-12-24 2015-12-25           2015-12-28  \\\n",
       "0  2015-12-23 16:44:44  2015-12-24 17:47:22        NaN  2015-12-28 18:00:07   \n",
       "1  2015-12-23 17:38:18                  NaN        NaN  2015-12-28 17:08:38   \n",
       "2  2015-12-23 16:59:43  2015-12-24 16:58:25        NaN  2015-12-28 16:43:31   \n",
       "3  2015-12-23 17:36:35  2015-12-24 16:48:21        NaN  2015-12-28 17:19:34   \n",
       "4  2015-12-23 18:00:49  2015-12-24 17:59:22        NaN  2015-12-28 17:44:59   \n",
       "\n",
       "            2015-12-29           2015-12-30           2015-12-31  \n",
       "0  2015-12-29 17:22:30  2015-12-30 17:40:56  2015-12-31 17:17:33  \n",
       "1  2015-12-29 17:54:46  2015-12-30 18:31:35  2015-12-31 17:40:58  \n",
       "2  2015-12-29 17:09:56  2015-12-30 17:06:25  2015-12-31 17:15:50  \n",
       "3  2015-12-29 16:58:16  2015-12-30 17:40:11  2015-12-31 17:09:14  \n",
       "4  2015-12-29 18:47:00  2015-12-30 17:15:33  2015-12-31 17:42:14  \n",
       "\n",
       "[5 rows x 262 columns]"
      ]
     },
     "execution_count": 28,
     "metadata": {},
     "output_type": "execute_result"
    }
   ],
   "source": [
    "# Importing data set with employees' check-out times\n",
    "out_time = pd.read_csv(\"C:\\\\Users\\\\ASUS\\\\Desktop\\\\Stuff\\\\Big Data\\\\Python\\\\HR analysis\\\\out_time.csv\")\n",
    "# Looking at the sample of the data set\n",
    "out_time.head(5)"
   ]
  },
  {
   "cell_type": "code",
   "execution_count": 29,
   "id": "herbal-providence",
   "metadata": {},
   "outputs": [
    {
     "data": {
      "text/html": [
       "<div>\n",
       "<style scoped>\n",
       "    .dataframe tbody tr th:only-of-type {\n",
       "        vertical-align: middle;\n",
       "    }\n",
       "\n",
       "    .dataframe tbody tr th {\n",
       "        vertical-align: top;\n",
       "    }\n",
       "\n",
       "    .dataframe thead th {\n",
       "        text-align: right;\n",
       "    }\n",
       "</style>\n",
       "<table border=\"1\" class=\"dataframe\">\n",
       "  <thead>\n",
       "    <tr style=\"text-align: right;\">\n",
       "      <th></th>\n",
       "      <th>EmployeeID</th>\n",
       "      <th>2015-01-01</th>\n",
       "      <th>2015-01-02</th>\n",
       "      <th>2015-01-05</th>\n",
       "      <th>2015-01-06</th>\n",
       "      <th>2015-01-07</th>\n",
       "      <th>2015-01-08</th>\n",
       "      <th>2015-01-09</th>\n",
       "      <th>2015-01-12</th>\n",
       "      <th>2015-01-13</th>\n",
       "      <th>...</th>\n",
       "      <th>2015-12-18</th>\n",
       "      <th>2015-12-21</th>\n",
       "      <th>2015-12-22</th>\n",
       "      <th>2015-12-23</th>\n",
       "      <th>2015-12-24</th>\n",
       "      <th>2015-12-25</th>\n",
       "      <th>2015-12-28</th>\n",
       "      <th>2015-12-29</th>\n",
       "      <th>2015-12-30</th>\n",
       "      <th>2015-12-31</th>\n",
       "    </tr>\n",
       "  </thead>\n",
       "  <tbody>\n",
       "    <tr>\n",
       "      <th>0</th>\n",
       "      <td>1</td>\n",
       "      <td>NaN</td>\n",
       "      <td>2015-01-02 16:56:15</td>\n",
       "      <td>2015-01-05 17:20:11</td>\n",
       "      <td>2015-01-06 17:19:05</td>\n",
       "      <td>2015-01-07 16:34:55</td>\n",
       "      <td>2015-01-08 17:08:32</td>\n",
       "      <td>2015-01-09 17:38:29</td>\n",
       "      <td>2015-01-12 16:58:39</td>\n",
       "      <td>2015-01-13 18:02:58</td>\n",
       "      <td>...</td>\n",
       "      <td>NaN</td>\n",
       "      <td>2015-12-21 17:15:50</td>\n",
       "      <td>2015-12-22 17:27:51</td>\n",
       "      <td>2015-12-23 16:44:44</td>\n",
       "      <td>2015-12-24 17:47:22</td>\n",
       "      <td>NaN</td>\n",
       "      <td>2015-12-28 18:00:07</td>\n",
       "      <td>2015-12-29 17:22:30</td>\n",
       "      <td>2015-12-30 17:40:56</td>\n",
       "      <td>2015-12-31 17:17:33</td>\n",
       "    </tr>\n",
       "    <tr>\n",
       "      <th>1</th>\n",
       "      <td>2</td>\n",
       "      <td>NaN</td>\n",
       "      <td>2015-01-02 18:22:17</td>\n",
       "      <td>2015-01-05 17:48:22</td>\n",
       "      <td>NaN</td>\n",
       "      <td>2015-01-07 17:09:06</td>\n",
       "      <td>2015-01-08 17:34:04</td>\n",
       "      <td>2015-01-09 16:52:29</td>\n",
       "      <td>2015-01-12 17:36:48</td>\n",
       "      <td>2015-01-13 18:00:13</td>\n",
       "      <td>...</td>\n",
       "      <td>2015-12-18 18:31:28</td>\n",
       "      <td>2015-12-21 17:34:16</td>\n",
       "      <td>2015-12-22 18:16:35</td>\n",
       "      <td>2015-12-23 17:38:18</td>\n",
       "      <td>NaN</td>\n",
       "      <td>NaN</td>\n",
       "      <td>2015-12-28 17:08:38</td>\n",
       "      <td>2015-12-29 17:54:46</td>\n",
       "      <td>2015-12-30 18:31:35</td>\n",
       "      <td>2015-12-31 17:40:58</td>\n",
       "    </tr>\n",
       "    <tr>\n",
       "      <th>2</th>\n",
       "      <td>3</td>\n",
       "      <td>NaN</td>\n",
       "      <td>2015-01-02 16:59:14</td>\n",
       "      <td>2015-01-05 17:06:46</td>\n",
       "      <td>2015-01-06 16:38:32</td>\n",
       "      <td>2015-01-07 16:33:21</td>\n",
       "      <td>2015-01-08 17:24:22</td>\n",
       "      <td>2015-01-09 16:57:30</td>\n",
       "      <td>2015-01-12 17:28:54</td>\n",
       "      <td>2015-01-13 17:21:25</td>\n",
       "      <td>...</td>\n",
       "      <td>2015-12-18 17:02:23</td>\n",
       "      <td>2015-12-21 17:20:17</td>\n",
       "      <td>2015-12-22 16:32:50</td>\n",
       "      <td>2015-12-23 16:59:43</td>\n",
       "      <td>2015-12-24 16:58:25</td>\n",
       "      <td>NaN</td>\n",
       "      <td>2015-12-28 16:43:31</td>\n",
       "      <td>2015-12-29 17:09:56</td>\n",
       "      <td>2015-12-30 17:06:25</td>\n",
       "      <td>2015-12-31 17:15:50</td>\n",
       "    </tr>\n",
       "  </tbody>\n",
       "</table>\n",
       "<p>3 rows × 262 columns</p>\n",
       "</div>"
      ],
      "text/plain": [
       "   EmployeeID  2015-01-01           2015-01-02           2015-01-05  \\\n",
       "0           1         NaN  2015-01-02 16:56:15  2015-01-05 17:20:11   \n",
       "1           2         NaN  2015-01-02 18:22:17  2015-01-05 17:48:22   \n",
       "2           3         NaN  2015-01-02 16:59:14  2015-01-05 17:06:46   \n",
       "\n",
       "            2015-01-06           2015-01-07           2015-01-08  \\\n",
       "0  2015-01-06 17:19:05  2015-01-07 16:34:55  2015-01-08 17:08:32   \n",
       "1                  NaN  2015-01-07 17:09:06  2015-01-08 17:34:04   \n",
       "2  2015-01-06 16:38:32  2015-01-07 16:33:21  2015-01-08 17:24:22   \n",
       "\n",
       "            2015-01-09           2015-01-12           2015-01-13  ...  \\\n",
       "0  2015-01-09 17:38:29  2015-01-12 16:58:39  2015-01-13 18:02:58  ...   \n",
       "1  2015-01-09 16:52:29  2015-01-12 17:36:48  2015-01-13 18:00:13  ...   \n",
       "2  2015-01-09 16:57:30  2015-01-12 17:28:54  2015-01-13 17:21:25  ...   \n",
       "\n",
       "            2015-12-18           2015-12-21           2015-12-22  \\\n",
       "0                  NaN  2015-12-21 17:15:50  2015-12-22 17:27:51   \n",
       "1  2015-12-18 18:31:28  2015-12-21 17:34:16  2015-12-22 18:16:35   \n",
       "2  2015-12-18 17:02:23  2015-12-21 17:20:17  2015-12-22 16:32:50   \n",
       "\n",
       "            2015-12-23           2015-12-24 2015-12-25           2015-12-28  \\\n",
       "0  2015-12-23 16:44:44  2015-12-24 17:47:22        NaN  2015-12-28 18:00:07   \n",
       "1  2015-12-23 17:38:18                  NaN        NaN  2015-12-28 17:08:38   \n",
       "2  2015-12-23 16:59:43  2015-12-24 16:58:25        NaN  2015-12-28 16:43:31   \n",
       "\n",
       "            2015-12-29           2015-12-30           2015-12-31  \n",
       "0  2015-12-29 17:22:30  2015-12-30 17:40:56  2015-12-31 17:17:33  \n",
       "1  2015-12-29 17:54:46  2015-12-30 18:31:35  2015-12-31 17:40:58  \n",
       "2  2015-12-29 17:09:56  2015-12-30 17:06:25  2015-12-31 17:15:50  \n",
       "\n",
       "[3 rows x 262 columns]"
      ]
     },
     "execution_count": 29,
     "metadata": {},
     "output_type": "execute_result"
    }
   ],
   "source": [
    "# Remaning the Unnamed column \n",
    "out_time.rename(columns={\"Unnamed: 0\":\"EmployeeID\"}, inplace=True)\n",
    "out_time.head(3)"
   ]
  },
  {
   "cell_type": "code",
   "execution_count": 30,
   "id": "pending-recruitment",
   "metadata": {},
   "outputs": [
    {
     "data": {
      "text/html": [
       "<div>\n",
       "<style scoped>\n",
       "    .dataframe tbody tr th:only-of-type {\n",
       "        vertical-align: middle;\n",
       "    }\n",
       "\n",
       "    .dataframe tbody tr th {\n",
       "        vertical-align: top;\n",
       "    }\n",
       "\n",
       "    .dataframe thead th {\n",
       "        text-align: right;\n",
       "    }\n",
       "</style>\n",
       "<table border=\"1\" class=\"dataframe\">\n",
       "  <thead>\n",
       "    <tr style=\"text-align: right;\">\n",
       "      <th></th>\n",
       "      <th>EmployeeID</th>\n",
       "      <th>Date_OUT</th>\n",
       "      <th>Date_time_OUT</th>\n",
       "    </tr>\n",
       "  </thead>\n",
       "  <tbody>\n",
       "    <tr>\n",
       "      <th>0</th>\n",
       "      <td>1</td>\n",
       "      <td>2015-01-02</td>\n",
       "      <td>2015-01-02 16:56:15</td>\n",
       "    </tr>\n",
       "    <tr>\n",
       "      <th>1</th>\n",
       "      <td>1</td>\n",
       "      <td>2015-01-05</td>\n",
       "      <td>2015-01-05 17:20:11</td>\n",
       "    </tr>\n",
       "    <tr>\n",
       "      <th>2</th>\n",
       "      <td>1</td>\n",
       "      <td>2015-01-06</td>\n",
       "      <td>2015-01-06 17:19:05</td>\n",
       "    </tr>\n",
       "    <tr>\n",
       "      <th>3</th>\n",
       "      <td>1</td>\n",
       "      <td>2015-01-07</td>\n",
       "      <td>2015-01-07 16:34:55</td>\n",
       "    </tr>\n",
       "    <tr>\n",
       "      <th>4</th>\n",
       "      <td>1</td>\n",
       "      <td>2015-01-08</td>\n",
       "      <td>2015-01-08 17:08:32</td>\n",
       "    </tr>\n",
       "  </tbody>\n",
       "</table>\n",
       "</div>"
      ],
      "text/plain": [
       "   EmployeeID    Date_OUT        Date_time_OUT\n",
       "0           1  2015-01-02  2015-01-02 16:56:15\n",
       "1           1  2015-01-05  2015-01-05 17:20:11\n",
       "2           1  2015-01-06  2015-01-06 17:19:05\n",
       "3           1  2015-01-07  2015-01-07 16:34:55\n",
       "4           1  2015-01-08  2015-01-08 17:08:32"
      ]
     },
     "execution_count": 30,
     "metadata": {},
     "output_type": "execute_result"
    }
   ],
   "source": [
    "# Transposing columns to have a pivot table with dates added to rows in the table\n",
    "out_time_data = out_time.set_index(\"EmployeeID\").stack().reset_index()\n",
    "# Renaming new columns in the data set\n",
    "out_time_data.rename(columns={\"level_1\":\"Date_OUT\", 0:\"Date_time_OUT\"}, inplace=True)\n",
    "# Checking the data sample after changes have been implemented\n",
    "out_time_data.head(5)"
   ]
  },
  {
   "cell_type": "code",
   "execution_count": 31,
   "id": "absent-intersection",
   "metadata": {
    "scrolled": true
   },
   "outputs": [
    {
     "name": "stdout",
     "output_type": "stream",
     "text": [
      "<class 'pandas.core.frame.DataFrame'>\n",
      "RangeIndex: 236298 entries, 0 to 236297\n",
      "Data columns (total 3 columns):\n",
      " #   Column         Non-Null Count   Dtype \n",
      "---  ------         --------------   ----- \n",
      " 0   EmployeeID     236298 non-null  int64 \n",
      " 1   Date_OUT       236298 non-null  object\n",
      " 2   Date_time_OUT  236298 non-null  object\n",
      "dtypes: int64(1), object(2)\n",
      "memory usage: 5.4+ MB\n"
     ]
    }
   ],
   "source": [
    "# Checking the data imformation after changes have been implemented\n",
    "out_time_data.info()"
   ]
  },
  {
   "cell_type": "code",
   "execution_count": 32,
   "id": "honey-appointment",
   "metadata": {
    "scrolled": true
   },
   "outputs": [
    {
     "name": "stdout",
     "output_type": "stream",
     "text": [
      "<class 'pandas.core.frame.DataFrame'>\n",
      "RangeIndex: 236298 entries, 0 to 236297\n",
      "Data columns (total 3 columns):\n",
      " #   Column         Non-Null Count   Dtype         \n",
      "---  ------         --------------   -----         \n",
      " 0   EmployeeID     236298 non-null  int64         \n",
      " 1   Date_OUT       236298 non-null  datetime64[ns]\n",
      " 2   Date_time_OUT  236298 non-null  datetime64[ns]\n",
      "dtypes: datetime64[ns](2), int64(1)\n",
      "memory usage: 5.4 MB\n"
     ]
    }
   ],
   "source": [
    "# Changing data types to have a date format in both columns\n",
    "out_time_data[\"Date_OUT\"] = pd.to_datetime(out_time_data[\"Date_OUT\"])\n",
    "out_time_data[\"Date_time_OUT\"] = pd.to_datetime(out_time_data[\"Date_time_OUT\"])\n",
    "# Checking if changes have been implemented successfully\n",
    "out_time_data.info()"
   ]
  },
  {
   "cell_type": "markdown",
   "id": "amazing-freedom",
   "metadata": {},
   "source": [
    "## Calculating average working hours"
   ]
  },
  {
   "cell_type": "code",
   "execution_count": 33,
   "id": "warming-fisher",
   "metadata": {
    "scrolled": false
   },
   "outputs": [
    {
     "data": {
      "text/html": [
       "<div>\n",
       "<style scoped>\n",
       "    .dataframe tbody tr th:only-of-type {\n",
       "        vertical-align: middle;\n",
       "    }\n",
       "\n",
       "    .dataframe tbody tr th {\n",
       "        vertical-align: top;\n",
       "    }\n",
       "\n",
       "    .dataframe thead th {\n",
       "        text-align: right;\n",
       "    }\n",
       "</style>\n",
       "<table border=\"1\" class=\"dataframe\">\n",
       "  <thead>\n",
       "    <tr style=\"text-align: right;\">\n",
       "      <th></th>\n",
       "      <th>EmployeeID</th>\n",
       "      <th>Date_IN</th>\n",
       "      <th>Date_time_IN</th>\n",
       "      <th>Date_OUT</th>\n",
       "      <th>Date_time_OUT</th>\n",
       "    </tr>\n",
       "  </thead>\n",
       "  <tbody>\n",
       "    <tr>\n",
       "      <th>0</th>\n",
       "      <td>1</td>\n",
       "      <td>2015-01-02</td>\n",
       "      <td>2015-01-02 09:43:45</td>\n",
       "      <td>2015-01-02</td>\n",
       "      <td>2015-01-02 16:56:15</td>\n",
       "    </tr>\n",
       "    <tr>\n",
       "      <th>1</th>\n",
       "      <td>1</td>\n",
       "      <td>2015-01-05</td>\n",
       "      <td>2015-01-05 10:08:48</td>\n",
       "      <td>2015-01-05</td>\n",
       "      <td>2015-01-05 17:20:11</td>\n",
       "    </tr>\n",
       "    <tr>\n",
       "      <th>2</th>\n",
       "      <td>1</td>\n",
       "      <td>2015-01-06</td>\n",
       "      <td>2015-01-06 09:54:26</td>\n",
       "      <td>2015-01-06</td>\n",
       "      <td>2015-01-06 17:19:05</td>\n",
       "    </tr>\n",
       "    <tr>\n",
       "      <th>3</th>\n",
       "      <td>1</td>\n",
       "      <td>2015-01-07</td>\n",
       "      <td>2015-01-07 09:34:31</td>\n",
       "      <td>2015-01-07</td>\n",
       "      <td>2015-01-07 16:34:55</td>\n",
       "    </tr>\n",
       "    <tr>\n",
       "      <th>4</th>\n",
       "      <td>1</td>\n",
       "      <td>2015-01-08</td>\n",
       "      <td>2015-01-08 09:51:09</td>\n",
       "      <td>2015-01-08</td>\n",
       "      <td>2015-01-08 17:08:32</td>\n",
       "    </tr>\n",
       "  </tbody>\n",
       "</table>\n",
       "</div>"
      ],
      "text/plain": [
       "   EmployeeID    Date_IN        Date_time_IN   Date_OUT       Date_time_OUT\n",
       "0           1 2015-01-02 2015-01-02 09:43:45 2015-01-02 2015-01-02 16:56:15\n",
       "1           1 2015-01-05 2015-01-05 10:08:48 2015-01-05 2015-01-05 17:20:11\n",
       "2           1 2015-01-06 2015-01-06 09:54:26 2015-01-06 2015-01-06 17:19:05\n",
       "3           1 2015-01-07 2015-01-07 09:34:31 2015-01-07 2015-01-07 16:34:55\n",
       "4           1 2015-01-08 2015-01-08 09:51:09 2015-01-08 2015-01-08 17:08:32"
      ]
     },
     "execution_count": 33,
     "metadata": {},
     "output_type": "execute_result"
    }
   ],
   "source": [
    "# Merging IN and OUT times information\n",
    "in_out_time = pd.merge(in_time_data, out_time_data, how=\"left\", left_on=[\"EmployeeID\", \"Date_IN\"], right_on=[\"EmployeeID\", \"Date_OUT\"])\n",
    "# Checking the sample of the new data frame\n",
    "in_out_time.head(5)"
   ]
  },
  {
   "cell_type": "code",
   "execution_count": 34,
   "id": "actual-woman",
   "metadata": {},
   "outputs": [
    {
     "data": {
      "text/html": [
       "<div>\n",
       "<style scoped>\n",
       "    .dataframe tbody tr th:only-of-type {\n",
       "        vertical-align: middle;\n",
       "    }\n",
       "\n",
       "    .dataframe tbody tr th {\n",
       "        vertical-align: top;\n",
       "    }\n",
       "\n",
       "    .dataframe thead th {\n",
       "        text-align: right;\n",
       "    }\n",
       "</style>\n",
       "<table border=\"1\" class=\"dataframe\">\n",
       "  <thead>\n",
       "    <tr style=\"text-align: right;\">\n",
       "      <th></th>\n",
       "      <th>EmployeeID</th>\n",
       "      <th>Date_IN</th>\n",
       "      <th>Date_time_IN</th>\n",
       "      <th>Date_OUT</th>\n",
       "      <th>Date_time_OUT</th>\n",
       "      <th>working_hours</th>\n",
       "    </tr>\n",
       "  </thead>\n",
       "  <tbody>\n",
       "    <tr>\n",
       "      <th>0</th>\n",
       "      <td>1</td>\n",
       "      <td>2015-01-02</td>\n",
       "      <td>2015-01-02 09:43:45</td>\n",
       "      <td>2015-01-02</td>\n",
       "      <td>2015-01-02 16:56:15</td>\n",
       "      <td>7.208333</td>\n",
       "    </tr>\n",
       "    <tr>\n",
       "      <th>1</th>\n",
       "      <td>1</td>\n",
       "      <td>2015-01-05</td>\n",
       "      <td>2015-01-05 10:08:48</td>\n",
       "      <td>2015-01-05</td>\n",
       "      <td>2015-01-05 17:20:11</td>\n",
       "      <td>7.189722</td>\n",
       "    </tr>\n",
       "    <tr>\n",
       "      <th>2</th>\n",
       "      <td>1</td>\n",
       "      <td>2015-01-06</td>\n",
       "      <td>2015-01-06 09:54:26</td>\n",
       "      <td>2015-01-06</td>\n",
       "      <td>2015-01-06 17:19:05</td>\n",
       "      <td>7.410833</td>\n",
       "    </tr>\n",
       "    <tr>\n",
       "      <th>3</th>\n",
       "      <td>1</td>\n",
       "      <td>2015-01-07</td>\n",
       "      <td>2015-01-07 09:34:31</td>\n",
       "      <td>2015-01-07</td>\n",
       "      <td>2015-01-07 16:34:55</td>\n",
       "      <td>7.006667</td>\n",
       "    </tr>\n",
       "    <tr>\n",
       "      <th>4</th>\n",
       "      <td>1</td>\n",
       "      <td>2015-01-08</td>\n",
       "      <td>2015-01-08 09:51:09</td>\n",
       "      <td>2015-01-08</td>\n",
       "      <td>2015-01-08 17:08:32</td>\n",
       "      <td>7.289722</td>\n",
       "    </tr>\n",
       "  </tbody>\n",
       "</table>\n",
       "</div>"
      ],
      "text/plain": [
       "   EmployeeID    Date_IN        Date_time_IN   Date_OUT       Date_time_OUT  \\\n",
       "0           1 2015-01-02 2015-01-02 09:43:45 2015-01-02 2015-01-02 16:56:15   \n",
       "1           1 2015-01-05 2015-01-05 10:08:48 2015-01-05 2015-01-05 17:20:11   \n",
       "2           1 2015-01-06 2015-01-06 09:54:26 2015-01-06 2015-01-06 17:19:05   \n",
       "3           1 2015-01-07 2015-01-07 09:34:31 2015-01-07 2015-01-07 16:34:55   \n",
       "4           1 2015-01-08 2015-01-08 09:51:09 2015-01-08 2015-01-08 17:08:32   \n",
       "\n",
       "   working_hours  \n",
       "0       7.208333  \n",
       "1       7.189722  \n",
       "2       7.410833  \n",
       "3       7.006667  \n",
       "4       7.289722  "
      ]
     },
     "execution_count": 34,
     "metadata": {},
     "output_type": "execute_result"
    }
   ],
   "source": [
    "# Calculating eployees' working hours\n",
    "in_out_time[\"working_hours\"] = (in_out_time[\"Date_time_OUT\"] - in_out_time[\"Date_time_IN\"]).astype(\"timedelta64[s]\")/3600\n",
    "# Checking sample of the data set\n",
    "in_out_time.head(5)"
   ]
  },
  {
   "cell_type": "code",
   "execution_count": 35,
   "id": "wound-prairie",
   "metadata": {
    "scrolled": true
   },
   "outputs": [
    {
     "data": {
      "text/html": [
       "<div>\n",
       "<style scoped>\n",
       "    .dataframe tbody tr th:only-of-type {\n",
       "        vertical-align: middle;\n",
       "    }\n",
       "\n",
       "    .dataframe tbody tr th {\n",
       "        vertical-align: top;\n",
       "    }\n",
       "\n",
       "    .dataframe thead th {\n",
       "        text-align: right;\n",
       "    }\n",
       "</style>\n",
       "<table border=\"1\" class=\"dataframe\">\n",
       "  <thead>\n",
       "    <tr style=\"text-align: right;\">\n",
       "      <th></th>\n",
       "      <th>working_hours</th>\n",
       "    </tr>\n",
       "    <tr>\n",
       "      <th>EmployeeID</th>\n",
       "      <th></th>\n",
       "    </tr>\n",
       "  </thead>\n",
       "  <tbody>\n",
       "    <tr>\n",
       "      <th>1</th>\n",
       "      <td>7.373651</td>\n",
       "    </tr>\n",
       "    <tr>\n",
       "      <th>2</th>\n",
       "      <td>7.718969</td>\n",
       "    </tr>\n",
       "    <tr>\n",
       "      <th>3</th>\n",
       "      <td>7.013240</td>\n",
       "    </tr>\n",
       "    <tr>\n",
       "      <th>4</th>\n",
       "      <td>7.193678</td>\n",
       "    </tr>\n",
       "    <tr>\n",
       "      <th>5</th>\n",
       "      <td>8.006175</td>\n",
       "    </tr>\n",
       "    <tr>\n",
       "      <th>...</th>\n",
       "      <td>...</td>\n",
       "    </tr>\n",
       "    <tr>\n",
       "      <th>996</th>\n",
       "      <td>7.386260</td>\n",
       "    </tr>\n",
       "    <tr>\n",
       "      <th>997</th>\n",
       "      <td>7.697562</td>\n",
       "    </tr>\n",
       "    <tr>\n",
       "      <th>998</th>\n",
       "      <td>8.278269</td>\n",
       "    </tr>\n",
       "    <tr>\n",
       "      <th>999</th>\n",
       "      <td>7.878654</td>\n",
       "    </tr>\n",
       "    <tr>\n",
       "      <th>1000</th>\n",
       "      <td>6.192530</td>\n",
       "    </tr>\n",
       "  </tbody>\n",
       "</table>\n",
       "<p>1000 rows × 1 columns</p>\n",
       "</div>"
      ],
      "text/plain": [
       "            working_hours\n",
       "EmployeeID               \n",
       "1                7.373651\n",
       "2                7.718969\n",
       "3                7.013240\n",
       "4                7.193678\n",
       "5                8.006175\n",
       "...                   ...\n",
       "996              7.386260\n",
       "997              7.697562\n",
       "998              8.278269\n",
       "999              7.878654\n",
       "1000             6.192530\n",
       "\n",
       "[1000 rows x 1 columns]"
      ]
     },
     "execution_count": 35,
     "metadata": {},
     "output_type": "execute_result"
    }
   ],
   "source": [
    "# Calculating average employees' working hours\n",
    "average_working_hours = in_out_time.groupby([\"EmployeeID\"]).mean()\n",
    "average_working_hours"
   ]
  },
  {
   "cell_type": "code",
   "execution_count": 36,
   "id": "norwegian-mother",
   "metadata": {},
   "outputs": [
    {
     "data": {
      "text/html": [
       "<div>\n",
       "<style scoped>\n",
       "    .dataframe tbody tr th:only-of-type {\n",
       "        vertical-align: middle;\n",
       "    }\n",
       "\n",
       "    .dataframe tbody tr th {\n",
       "        vertical-align: top;\n",
       "    }\n",
       "\n",
       "    .dataframe thead th {\n",
       "        text-align: right;\n",
       "    }\n",
       "</style>\n",
       "<table border=\"1\" class=\"dataframe\">\n",
       "  <thead>\n",
       "    <tr style=\"text-align: right;\">\n",
       "      <th></th>\n",
       "      <th>AverageWorkingHours</th>\n",
       "    </tr>\n",
       "    <tr>\n",
       "      <th>EmployeeID</th>\n",
       "      <th></th>\n",
       "    </tr>\n",
       "  </thead>\n",
       "  <tbody>\n",
       "    <tr>\n",
       "      <th>1</th>\n",
       "      <td>7.373651</td>\n",
       "    </tr>\n",
       "    <tr>\n",
       "      <th>2</th>\n",
       "      <td>7.718969</td>\n",
       "    </tr>\n",
       "    <tr>\n",
       "      <th>3</th>\n",
       "      <td>7.013240</td>\n",
       "    </tr>\n",
       "    <tr>\n",
       "      <th>4</th>\n",
       "      <td>7.193678</td>\n",
       "    </tr>\n",
       "    <tr>\n",
       "      <th>5</th>\n",
       "      <td>8.006175</td>\n",
       "    </tr>\n",
       "    <tr>\n",
       "      <th>...</th>\n",
       "      <td>...</td>\n",
       "    </tr>\n",
       "    <tr>\n",
       "      <th>996</th>\n",
       "      <td>7.386260</td>\n",
       "    </tr>\n",
       "    <tr>\n",
       "      <th>997</th>\n",
       "      <td>7.697562</td>\n",
       "    </tr>\n",
       "    <tr>\n",
       "      <th>998</th>\n",
       "      <td>8.278269</td>\n",
       "    </tr>\n",
       "    <tr>\n",
       "      <th>999</th>\n",
       "      <td>7.878654</td>\n",
       "    </tr>\n",
       "    <tr>\n",
       "      <th>1000</th>\n",
       "      <td>6.192530</td>\n",
       "    </tr>\n",
       "  </tbody>\n",
       "</table>\n",
       "<p>1000 rows × 1 columns</p>\n",
       "</div>"
      ],
      "text/plain": [
       "            AverageWorkingHours\n",
       "EmployeeID                     \n",
       "1                      7.373651\n",
       "2                      7.718969\n",
       "3                      7.013240\n",
       "4                      7.193678\n",
       "5                      8.006175\n",
       "...                         ...\n",
       "996                    7.386260\n",
       "997                    7.697562\n",
       "998                    8.278269\n",
       "999                    7.878654\n",
       "1000                   6.192530\n",
       "\n",
       "[1000 rows x 1 columns]"
      ]
     },
     "execution_count": 36,
     "metadata": {},
     "output_type": "execute_result"
    }
   ],
   "source": [
    "# Renaming new column\n",
    "average_working_hours.rename(columns={\"working_hours\":\"AverageWorkingHours\"}, inplace=True)\n",
    "average_working_hours"
   ]
  },
  {
   "cell_type": "markdown",
   "id": "treated-accused",
   "metadata": {},
   "source": [
    "## Merging data sets "
   ]
  },
  {
   "cell_type": "code",
   "execution_count": 37,
   "id": "middle-conference",
   "metadata": {},
   "outputs": [
    {
     "data": {
      "text/html": [
       "<div>\n",
       "<style scoped>\n",
       "    .dataframe tbody tr th:only-of-type {\n",
       "        vertical-align: middle;\n",
       "    }\n",
       "\n",
       "    .dataframe tbody tr th {\n",
       "        vertical-align: top;\n",
       "    }\n",
       "\n",
       "    .dataframe thead th {\n",
       "        text-align: right;\n",
       "    }\n",
       "</style>\n",
       "<table border=\"1\" class=\"dataframe\">\n",
       "  <thead>\n",
       "    <tr style=\"text-align: right;\">\n",
       "      <th></th>\n",
       "      <th>Age</th>\n",
       "      <th>Attrition</th>\n",
       "      <th>BusinessTravel</th>\n",
       "      <th>Department</th>\n",
       "      <th>DistanceFromHome</th>\n",
       "      <th>Education</th>\n",
       "      <th>EducationField</th>\n",
       "      <th>EmployeeID</th>\n",
       "      <th>Gender</th>\n",
       "      <th>JobLevel</th>\n",
       "      <th>...</th>\n",
       "      <th>StockOptionLevel</th>\n",
       "      <th>TotalWorkingYears</th>\n",
       "      <th>TrainingTimesLastYear</th>\n",
       "      <th>YearsAtCompany</th>\n",
       "      <th>YearsSinceLastPromotion</th>\n",
       "      <th>YearsWithCurrManager</th>\n",
       "      <th>EnvironmentSatisfaction</th>\n",
       "      <th>JobSatisfaction</th>\n",
       "      <th>WorkLifeBalance</th>\n",
       "      <th>AverageWorkingHours</th>\n",
       "    </tr>\n",
       "  </thead>\n",
       "  <tbody>\n",
       "    <tr>\n",
       "      <th>0</th>\n",
       "      <td>51</td>\n",
       "      <td>No</td>\n",
       "      <td>Travel_Rarely</td>\n",
       "      <td>Sales</td>\n",
       "      <td>6</td>\n",
       "      <td>College</td>\n",
       "      <td>Life Sciences</td>\n",
       "      <td>1</td>\n",
       "      <td>Female</td>\n",
       "      <td>1</td>\n",
       "      <td>...</td>\n",
       "      <td>0</td>\n",
       "      <td>1.0</td>\n",
       "      <td>6</td>\n",
       "      <td>1</td>\n",
       "      <td>0</td>\n",
       "      <td>0</td>\n",
       "      <td>High</td>\n",
       "      <td>Very High</td>\n",
       "      <td>Good</td>\n",
       "      <td>7.373651</td>\n",
       "    </tr>\n",
       "    <tr>\n",
       "      <th>1</th>\n",
       "      <td>31</td>\n",
       "      <td>Yes</td>\n",
       "      <td>Travel_Frequently</td>\n",
       "      <td>Research &amp; Development</td>\n",
       "      <td>10</td>\n",
       "      <td>Below College</td>\n",
       "      <td>Life Sciences</td>\n",
       "      <td>2</td>\n",
       "      <td>Female</td>\n",
       "      <td>1</td>\n",
       "      <td>...</td>\n",
       "      <td>1</td>\n",
       "      <td>6.0</td>\n",
       "      <td>3</td>\n",
       "      <td>5</td>\n",
       "      <td>1</td>\n",
       "      <td>4</td>\n",
       "      <td>High</td>\n",
       "      <td>Medium</td>\n",
       "      <td>Best</td>\n",
       "      <td>7.718969</td>\n",
       "    </tr>\n",
       "    <tr>\n",
       "      <th>2</th>\n",
       "      <td>32</td>\n",
       "      <td>No</td>\n",
       "      <td>Travel_Frequently</td>\n",
       "      <td>Research &amp; Development</td>\n",
       "      <td>17</td>\n",
       "      <td>Master</td>\n",
       "      <td>Other</td>\n",
       "      <td>3</td>\n",
       "      <td>Male</td>\n",
       "      <td>4</td>\n",
       "      <td>...</td>\n",
       "      <td>3</td>\n",
       "      <td>5.0</td>\n",
       "      <td>2</td>\n",
       "      <td>5</td>\n",
       "      <td>0</td>\n",
       "      <td>3</td>\n",
       "      <td>Medium</td>\n",
       "      <td>Medium</td>\n",
       "      <td>Bad</td>\n",
       "      <td>7.013240</td>\n",
       "    </tr>\n",
       "    <tr>\n",
       "      <th>3</th>\n",
       "      <td>38</td>\n",
       "      <td>No</td>\n",
       "      <td>Non-Travel</td>\n",
       "      <td>Research &amp; Development</td>\n",
       "      <td>2</td>\n",
       "      <td>Doctor</td>\n",
       "      <td>Life Sciences</td>\n",
       "      <td>4</td>\n",
       "      <td>Male</td>\n",
       "      <td>3</td>\n",
       "      <td>...</td>\n",
       "      <td>3</td>\n",
       "      <td>13.0</td>\n",
       "      <td>5</td>\n",
       "      <td>8</td>\n",
       "      <td>7</td>\n",
       "      <td>5</td>\n",
       "      <td>Very High</td>\n",
       "      <td>Very High</td>\n",
       "      <td>Better</td>\n",
       "      <td>7.193678</td>\n",
       "    </tr>\n",
       "    <tr>\n",
       "      <th>4</th>\n",
       "      <td>32</td>\n",
       "      <td>No</td>\n",
       "      <td>Travel_Rarely</td>\n",
       "      <td>Research &amp; Development</td>\n",
       "      <td>10</td>\n",
       "      <td>Below College</td>\n",
       "      <td>Medical</td>\n",
       "      <td>5</td>\n",
       "      <td>Male</td>\n",
       "      <td>1</td>\n",
       "      <td>...</td>\n",
       "      <td>2</td>\n",
       "      <td>9.0</td>\n",
       "      <td>2</td>\n",
       "      <td>6</td>\n",
       "      <td>0</td>\n",
       "      <td>4</td>\n",
       "      <td>Very High</td>\n",
       "      <td>Low</td>\n",
       "      <td>Better</td>\n",
       "      <td>8.006175</td>\n",
       "    </tr>\n",
       "  </tbody>\n",
       "</table>\n",
       "<p>5 rows × 25 columns</p>\n",
       "</div>"
      ],
      "text/plain": [
       "   Age Attrition     BusinessTravel              Department  DistanceFromHome  \\\n",
       "0   51        No      Travel_Rarely                   Sales                 6   \n",
       "1   31       Yes  Travel_Frequently  Research & Development                10   \n",
       "2   32        No  Travel_Frequently  Research & Development                17   \n",
       "3   38        No         Non-Travel  Research & Development                 2   \n",
       "4   32        No      Travel_Rarely  Research & Development                10   \n",
       "\n",
       "       Education EducationField  EmployeeID  Gender JobLevel  ...  \\\n",
       "0        College  Life Sciences           1  Female        1  ...   \n",
       "1  Below College  Life Sciences           2  Female        1  ...   \n",
       "2         Master          Other           3    Male        4  ...   \n",
       "3         Doctor  Life Sciences           4    Male        3  ...   \n",
       "4  Below College        Medical           5    Male        1  ...   \n",
       "\n",
       "  StockOptionLevel TotalWorkingYears  TrainingTimesLastYear  YearsAtCompany  \\\n",
       "0                0               1.0                      6               1   \n",
       "1                1               6.0                      3               5   \n",
       "2                3               5.0                      2               5   \n",
       "3                3              13.0                      5               8   \n",
       "4                2               9.0                      2               6   \n",
       "\n",
       "   YearsSinceLastPromotion  YearsWithCurrManager  EnvironmentSatisfaction  \\\n",
       "0                        0                     0                     High   \n",
       "1                        1                     4                     High   \n",
       "2                        0                     3                   Medium   \n",
       "3                        7                     5                Very High   \n",
       "4                        0                     4                Very High   \n",
       "\n",
       "   JobSatisfaction  WorkLifeBalance  AverageWorkingHours  \n",
       "0        Very High             Good             7.373651  \n",
       "1           Medium             Best             7.718969  \n",
       "2           Medium              Bad             7.013240  \n",
       "3        Very High           Better             7.193678  \n",
       "4              Low           Better             8.006175  \n",
       "\n",
       "[5 rows x 25 columns]"
      ]
     },
     "execution_count": 37,
     "metadata": {},
     "output_type": "execute_result"
    }
   ],
   "source": [
    "# Merging general information data set with survey data set\n",
    "general_survey = pd.merge(general, survey, how=\"left\", on=[\"EmployeeID\"])\n",
    "\n",
    "# Adding average working hours to the new data set\n",
    "data = pd.merge(general_survey, average_working_hours, how=\"left\", on=[\"EmployeeID\"])\n",
    "\n",
    "# Looking into the new data frame\n",
    "data.head()"
   ]
  },
  {
   "cell_type": "code",
   "execution_count": 38,
   "id": "expired-format",
   "metadata": {},
   "outputs": [
    {
     "name": "stdout",
     "output_type": "stream",
     "text": [
      "<class 'pandas.core.frame.DataFrame'>\n",
      "Int64Index: 996 entries, 0 to 995\n",
      "Data columns (total 25 columns):\n",
      " #   Column                   Non-Null Count  Dtype  \n",
      "---  ------                   --------------  -----  \n",
      " 0   Age                      996 non-null    int64  \n",
      " 1   Attrition                996 non-null    object \n",
      " 2   BusinessTravel           996 non-null    object \n",
      " 3   Department               996 non-null    object \n",
      " 4   DistanceFromHome         996 non-null    int64  \n",
      " 5   Education                996 non-null    object \n",
      " 6   EducationField           996 non-null    object \n",
      " 7   EmployeeID               996 non-null    int64  \n",
      " 8   Gender                   996 non-null    object \n",
      " 9   JobLevel                 996 non-null    object \n",
      " 10  JobRole                  996 non-null    object \n",
      " 11  MaritalStatus            996 non-null    object \n",
      " 12  MonthlyIncome            996 non-null    int64  \n",
      " 13  NumCompaniesWorked       996 non-null    float64\n",
      " 14  PercentSalaryHike        996 non-null    int64  \n",
      " 15  StockOptionLevel         996 non-null    int64  \n",
      " 16  TotalWorkingYears        996 non-null    float64\n",
      " 17  TrainingTimesLastYear    996 non-null    int64  \n",
      " 18  YearsAtCompany           996 non-null    int64  \n",
      " 19  YearsSinceLastPromotion  996 non-null    int64  \n",
      " 20  YearsWithCurrManager     996 non-null    int64  \n",
      " 21  EnvironmentSatisfaction  996 non-null    object \n",
      " 22  JobSatisfaction          996 non-null    object \n",
      " 23  WorkLifeBalance          996 non-null    object \n",
      " 24  AverageWorkingHours      996 non-null    float64\n",
      "dtypes: float64(3), int64(10), object(12)\n",
      "memory usage: 202.3+ KB\n"
     ]
    }
   ],
   "source": [
    "# Checking general data set's information and data types\n",
    "data.info()\n",
    "#data.isnull().sum()"
   ]
  },
  {
   "cell_type": "code",
   "execution_count": 39,
   "id": "thorough-slide",
   "metadata": {
    "scrolled": false
   },
   "outputs": [
    {
     "data": {
      "text/html": [
       "<div>\n",
       "<style scoped>\n",
       "    .dataframe tbody tr th:only-of-type {\n",
       "        vertical-align: middle;\n",
       "    }\n",
       "\n",
       "    .dataframe tbody tr th {\n",
       "        vertical-align: top;\n",
       "    }\n",
       "\n",
       "    .dataframe thead th {\n",
       "        text-align: right;\n",
       "    }\n",
       "</style>\n",
       "<table border=\"1\" class=\"dataframe\">\n",
       "  <thead>\n",
       "    <tr style=\"text-align: right;\">\n",
       "      <th></th>\n",
       "      <th>Age</th>\n",
       "      <th>DistanceFromHome</th>\n",
       "      <th>EmployeeID</th>\n",
       "      <th>MonthlyIncome</th>\n",
       "      <th>NumCompaniesWorked</th>\n",
       "      <th>PercentSalaryHike</th>\n",
       "      <th>StockOptionLevel</th>\n",
       "      <th>TotalWorkingYears</th>\n",
       "      <th>TrainingTimesLastYear</th>\n",
       "      <th>YearsAtCompany</th>\n",
       "      <th>YearsSinceLastPromotion</th>\n",
       "      <th>YearsWithCurrManager</th>\n",
       "      <th>AverageWorkingHours</th>\n",
       "    </tr>\n",
       "  </thead>\n",
       "  <tbody>\n",
       "    <tr>\n",
       "      <th>count</th>\n",
       "      <td>996.000000</td>\n",
       "      <td>996.000000</td>\n",
       "      <td>996.000000</td>\n",
       "      <td>996.000000</td>\n",
       "      <td>996.000000</td>\n",
       "      <td>996.000000</td>\n",
       "      <td>996.000000</td>\n",
       "      <td>996.000000</td>\n",
       "      <td>996.000000</td>\n",
       "      <td>996.000000</td>\n",
       "      <td>996.000000</td>\n",
       "      <td>996.000000</td>\n",
       "      <td>996.000000</td>\n",
       "    </tr>\n",
       "    <tr>\n",
       "      <th>mean</th>\n",
       "      <td>36.779116</td>\n",
       "      <td>9.225904</td>\n",
       "      <td>501.459839</td>\n",
       "      <td>64455.913655</td>\n",
       "      <td>2.673695</td>\n",
       "      <td>15.195783</td>\n",
       "      <td>0.811245</td>\n",
       "      <td>11.349398</td>\n",
       "      <td>2.826305</td>\n",
       "      <td>7.011044</td>\n",
       "      <td>2.199799</td>\n",
       "      <td>4.072289</td>\n",
       "      <td>7.717304</td>\n",
       "    </tr>\n",
       "    <tr>\n",
       "      <th>std</th>\n",
       "      <td>9.199159</td>\n",
       "      <td>8.146040</td>\n",
       "      <td>288.701218</td>\n",
       "      <td>46529.341610</td>\n",
       "      <td>2.484313</td>\n",
       "      <td>3.663321</td>\n",
       "      <td>0.865018</td>\n",
       "      <td>7.965529</td>\n",
       "      <td>1.312082</td>\n",
       "      <td>6.138345</td>\n",
       "      <td>3.242190</td>\n",
       "      <td>3.565157</td>\n",
       "      <td>1.357038</td>\n",
       "    </tr>\n",
       "    <tr>\n",
       "      <th>min</th>\n",
       "      <td>18.000000</td>\n",
       "      <td>1.000000</td>\n",
       "      <td>1.000000</td>\n",
       "      <td>10090.000000</td>\n",
       "      <td>0.000000</td>\n",
       "      <td>11.000000</td>\n",
       "      <td>0.000000</td>\n",
       "      <td>0.000000</td>\n",
       "      <td>0.000000</td>\n",
       "      <td>0.000000</td>\n",
       "      <td>0.000000</td>\n",
       "      <td>0.000000</td>\n",
       "      <td>5.950862</td>\n",
       "    </tr>\n",
       "    <tr>\n",
       "      <th>25%</th>\n",
       "      <td>30.000000</td>\n",
       "      <td>2.000000</td>\n",
       "      <td>251.750000</td>\n",
       "      <td>28620.000000</td>\n",
       "      <td>1.000000</td>\n",
       "      <td>12.000000</td>\n",
       "      <td>0.000000</td>\n",
       "      <td>6.000000</td>\n",
       "      <td>2.000000</td>\n",
       "      <td>3.000000</td>\n",
       "      <td>0.000000</td>\n",
       "      <td>2.000000</td>\n",
       "      <td>6.668789</td>\n",
       "    </tr>\n",
       "    <tr>\n",
       "      <th>50%</th>\n",
       "      <td>35.000000</td>\n",
       "      <td>7.000000</td>\n",
       "      <td>501.500000</td>\n",
       "      <td>49220.000000</td>\n",
       "      <td>2.000000</td>\n",
       "      <td>14.000000</td>\n",
       "      <td>1.000000</td>\n",
       "      <td>10.000000</td>\n",
       "      <td>3.000000</td>\n",
       "      <td>5.000000</td>\n",
       "      <td>1.000000</td>\n",
       "      <td>3.000000</td>\n",
       "      <td>7.394539</td>\n",
       "    </tr>\n",
       "    <tr>\n",
       "      <th>75%</th>\n",
       "      <td>43.000000</td>\n",
       "      <td>14.000000</td>\n",
       "      <td>751.250000</td>\n",
       "      <td>82812.500000</td>\n",
       "      <td>4.000000</td>\n",
       "      <td>18.000000</td>\n",
       "      <td>1.000000</td>\n",
       "      <td>15.000000</td>\n",
       "      <td>3.000000</td>\n",
       "      <td>9.000000</td>\n",
       "      <td>3.000000</td>\n",
       "      <td>7.000000</td>\n",
       "      <td>8.394061</td>\n",
       "    </tr>\n",
       "    <tr>\n",
       "      <th>max</th>\n",
       "      <td>60.000000</td>\n",
       "      <td>29.000000</td>\n",
       "      <td>1000.000000</td>\n",
       "      <td>199990.000000</td>\n",
       "      <td>9.000000</td>\n",
       "      <td>25.000000</td>\n",
       "      <td>3.000000</td>\n",
       "      <td>40.000000</td>\n",
       "      <td>6.000000</td>\n",
       "      <td>36.000000</td>\n",
       "      <td>15.000000</td>\n",
       "      <td>17.000000</td>\n",
       "      <td>11.030960</td>\n",
       "    </tr>\n",
       "  </tbody>\n",
       "</table>\n",
       "</div>"
      ],
      "text/plain": [
       "              Age  DistanceFromHome   EmployeeID  MonthlyIncome  \\\n",
       "count  996.000000        996.000000   996.000000     996.000000   \n",
       "mean    36.779116          9.225904   501.459839   64455.913655   \n",
       "std      9.199159          8.146040   288.701218   46529.341610   \n",
       "min     18.000000          1.000000     1.000000   10090.000000   \n",
       "25%     30.000000          2.000000   251.750000   28620.000000   \n",
       "50%     35.000000          7.000000   501.500000   49220.000000   \n",
       "75%     43.000000         14.000000   751.250000   82812.500000   \n",
       "max     60.000000         29.000000  1000.000000  199990.000000   \n",
       "\n",
       "       NumCompaniesWorked  PercentSalaryHike  StockOptionLevel  \\\n",
       "count          996.000000         996.000000        996.000000   \n",
       "mean             2.673695          15.195783          0.811245   \n",
       "std              2.484313           3.663321          0.865018   \n",
       "min              0.000000          11.000000          0.000000   \n",
       "25%              1.000000          12.000000          0.000000   \n",
       "50%              2.000000          14.000000          1.000000   \n",
       "75%              4.000000          18.000000          1.000000   \n",
       "max              9.000000          25.000000          3.000000   \n",
       "\n",
       "       TotalWorkingYears  TrainingTimesLastYear  YearsAtCompany  \\\n",
       "count         996.000000             996.000000      996.000000   \n",
       "mean           11.349398               2.826305        7.011044   \n",
       "std             7.965529               1.312082        6.138345   \n",
       "min             0.000000               0.000000        0.000000   \n",
       "25%             6.000000               2.000000        3.000000   \n",
       "50%            10.000000               3.000000        5.000000   \n",
       "75%            15.000000               3.000000        9.000000   \n",
       "max            40.000000               6.000000       36.000000   \n",
       "\n",
       "       YearsSinceLastPromotion  YearsWithCurrManager  AverageWorkingHours  \n",
       "count               996.000000            996.000000           996.000000  \n",
       "mean                  2.199799              4.072289             7.717304  \n",
       "std                   3.242190              3.565157             1.357038  \n",
       "min                   0.000000              0.000000             5.950862  \n",
       "25%                   0.000000              2.000000             6.668789  \n",
       "50%                   1.000000              3.000000             7.394539  \n",
       "75%                   3.000000              7.000000             8.394061  \n",
       "max                  15.000000             17.000000            11.030960  "
      ]
     },
     "execution_count": 39,
     "metadata": {},
     "output_type": "execute_result"
    }
   ],
   "source": [
    "# Looking into the statistical information of the data frame\n",
    "data.describe()"
   ]
  },
  {
   "cell_type": "markdown",
   "id": "individual-acceptance",
   "metadata": {},
   "source": [
    "## General Analysis"
   ]
  },
  {
   "cell_type": "code",
   "execution_count": 40,
   "id": "fuzzy-classification",
   "metadata": {
    "scrolled": false
   },
   "outputs": [
    {
     "data": {
      "image/png": "[encoded data removed]",
      "text/plain": [
       "<Figure size 576x432 with 1 Axes>"
      ]
     },
     "metadata": {
      "needs_background": "light"
     },
     "output_type": "display_data"
    }
   ],
   "source": [
    "# Looking into Gender distribution based on Attrition\n",
    "\n",
    "plt.figure(figsize=(8, 6)) \n",
    "plot = sns.countplot(x=\"Attrition\", hue=\"Gender\", data=general, palette =[\"#db95de\", \"#91dba1\"]) \n",
    "plt.xlabel(\"Attrition\", size=14)\n",
    "plt.ylabel(\"Number of Employees\", size=14)\n",
    "\n",
    "# Creating a function to get annotation on the bars\n",
    "for bar in plot.patches:\n",
    "    plot.annotate(format(bar.get_height(), \".0f\"), \n",
    "                   (bar.get_x() + bar.get_width() / 2, \n",
    "                    bar.get_height()), ha='center', va='center', \n",
    "                   size=10, xytext=(0, 8), \n",
    "                   textcoords='offset points')\n",
    "\n",
    "plt.show() "
   ]
  },
  {
   "cell_type": "code",
   "execution_count": 41,
   "id": "recorded-museum",
   "metadata": {},
   "outputs": [
    {
     "data": {
      "text/plain": [
       "<Figure size 576x432 with 0 Axes>"
      ]
     },
     "metadata": {},
     "output_type": "display_data"
    },
    {
     "data": {
      "image/png": "[encoded data removed]",
      "text/plain": [
       "<Figure size 432x288 with 1 Axes>"
      ]
     },
     "metadata": {
      "needs_background": "light"
     },
     "output_type": "display_data"
    }
   ],
   "source": [
    "# Meke stacked bar chart\n",
    "\n",
    "def stacked_bar_chart(\n",
    "        chart_title: str, \n",
    "        x_axis, \n",
    "        y_axis, \n",
    "        custom_xlabel: str, \n",
    "        custom_ylabel: str,\n",
    "        xlabel_size: int = 12, \n",
    "        ylabel_size: int = 12, \n",
    "        custom_figsize: tuple = (8, 6),\n",
    "        custom_colors: list = [\"#8499f5\", \"#fc918d\"], \n",
    "        title_size: int = 14,\n",
    "        xticks_rotation: int = 0,  \n",
    "        xticks_x_alignment= \"center\"\n",
    "):\n",
    "    plt.figure(figsize=custom_figsize) \n",
    "    table=pd.crosstab(x_axis, y_axis)\n",
    "    table.div(table.sum(1).astype(float), axis=0).plot(kind='bar', stacked=True, color = custom_colors)\n",
    "    plt.title(chart_title, size = title_size)\n",
    "    plt.xticks(rotation=xticks_rotation, horizontalalignment=xticks_x_alignment)\n",
    "    plt.xlabel(custom_xlabel, size = xlabel_size)\n",
    "    plt.ylabel(custom_ylabel, size = ylabel_size)\n",
    "    plt.show()\n",
    "\n",
    "stacked_bar_chart(\n",
    "    chart_title=\"Stacked Bar Chart of Marital Status vs Attrition\",\n",
    "    x_axis=general.MaritalStatus,\n",
    "    y_axis=general.Attrition,\n",
    "    custom_xlabel=\"Marital Status\",\n",
    "    custom_ylabel=\"Proportion of Employees\"\n",
    ")"
   ]
  },
  {
   "cell_type": "markdown",
   "id": "oriented-terry",
   "metadata": {},
   "source": [
    "##### From the graph above we can see that there are some proportional differences in Attrition based on the Marital Status. Therefore, this feature might have a significant impact for Attrition and should be considered in further analysis. "
   ]
  },
  {
   "cell_type": "code",
   "execution_count": 42,
   "id": "crude-newport",
   "metadata": {
    "scrolled": true
   },
   "outputs": [
    {
     "data": {
      "text/plain": [
       "<Figure size 576x432 with 0 Axes>"
      ]
     },
     "metadata": {},
     "output_type": "display_data"
    },
    {
     "data": {
      "image/png": "[encoded data removed]",
      "text/plain": [
       "<Figure size 432x288 with 1 Axes>"
      ]
     },
     "metadata": {
      "needs_background": "light"
     },
     "output_type": "display_data"
    }
   ],
   "source": [
    "stacked_bar_chart(\n",
    "    chart_title=\"Stacked Bar Chart of Department vs Attrition\",\n",
    "    x_axis=general.Department,\n",
    "    y_axis=general.Attrition,\n",
    "    custom_xlabel=\"Department\",\n",
    "    custom_ylabel=\"Proportion of Employees\"\n",
    ")"
   ]
  },
  {
   "cell_type": "markdown",
   "id": "affecting-supervision",
   "metadata": {},
   "source": [
    "##### From the graph above we can see that there are some proportional differences in Attrition based on the Department. Therefore, this feature might also have a significant impact for Attrition and should be considered in further analysis. "
   ]
  },
  {
   "cell_type": "code",
   "execution_count": 43,
   "id": "vocational-liberal",
   "metadata": {
    "scrolled": false
   },
   "outputs": [
    {
     "data": {
      "text/plain": [
       "<Figure size 576x432 with 0 Axes>"
      ]
     },
     "metadata": {},
     "output_type": "display_data"
    },
    {
     "data": {
      "image/png": "[encoded data removed]",
      "text/plain": [
       "<Figure size 432x288 with 1 Axes>"
      ]
     },
     "metadata": {
      "needs_background": "light"
     },
     "output_type": "display_data"
    }
   ],
   "source": [
    "stacked_bar_chart(\n",
    "    chart_title=\"Stacked Bar Chart of Business Travel vs Attrition\",\n",
    "    x_axis=general.BusinessTravel,\n",
    "    y_axis=general.Attrition,\n",
    "    custom_xlabel=\"Business Travel\",\n",
    "    custom_ylabel=\"Proportion of Employees\"\n",
    ")"
   ]
  },
  {
   "cell_type": "markdown",
   "id": "noble-miller",
   "metadata": {},
   "source": [
    "##### From the graph above we can see that there are some proportional differences in Attrition based on the Business Travel variable. Therefore, this feature might also have a significant impact for Attrition and should be considered in further analysis. "
   ]
  },
  {
   "cell_type": "code",
   "execution_count": 44,
   "id": "radio-craps",
   "metadata": {
    "scrolled": true
   },
   "outputs": [
    {
     "data": {
      "text/plain": [
       "<Figure size 576x432 with 0 Axes>"
      ]
     },
     "metadata": {},
     "output_type": "display_data"
    },
    {
     "data": {
      "image/png": "[encoded data removed]",
      "text/plain": [
       "<Figure size 432x288 with 1 Axes>"
      ]
     },
     "metadata": {
      "needs_background": "light"
     },
     "output_type": "display_data"
    }
   ],
   "source": [
    "stacked_bar_chart(\n",
    "    chart_title=\"Stacked Bar Chart of Education Level vs Attrition\",\n",
    "    x_axis=general.Education,\n",
    "    y_axis=general.Attrition,\n",
    "    custom_xlabel=\"Education Level\",\n",
    "    custom_ylabel=\"Proportion of Employees\"\n",
    ")"
   ]
  },
  {
   "cell_type": "code",
   "execution_count": 45,
   "id": "dirty-individual",
   "metadata": {
    "scrolled": false
   },
   "outputs": [
    {
     "data": {
      "text/plain": [
       "<Figure size 576x432 with 0 Axes>"
      ]
     },
     "metadata": {},
     "output_type": "display_data"
    },
    {
     "data": {
      "image/png": "[encoded data removed]",
      "text/plain": [
       "<Figure size 432x288 with 1 Axes>"
      ]
     },
     "metadata": {
      "needs_background": "light"
     },
     "output_type": "display_data"
    }
   ],
   "source": [
    "stacked_bar_chart(\n",
    "    chart_title=\"Stacked Bar Chart of Education Field vs Attrition\",\n",
    "    x_axis=general.EducationField,\n",
    "    y_axis=general.Attrition,\n",
    "    custom_xlabel=\"Education Field\",\n",
    "    custom_ylabel=\"Proportion of Employees\",\n",
    "    xticks_rotation=90\n",
    ")"
   ]
  },
  {
   "cell_type": "markdown",
   "id": "adolescent-pricing",
   "metadata": {},
   "source": [
    "##### From the graph above we can see that the biggest proportion of the employees who left the company was with education in Human Resources Field. "
   ]
  },
  {
   "cell_type": "code",
   "execution_count": 46,
   "id": "alpha-guide",
   "metadata": {
    "scrolled": false
   },
   "outputs": [
    {
     "data": {
      "text/plain": [
       "<Figure size 576x432 with 0 Axes>"
      ]
     },
     "metadata": {},
     "output_type": "display_data"
    },
    {
     "data": {
      "image/png": "[encoded data removed]",
      "text/plain": [
       "<Figure size 432x288 with 1 Axes>"
      ]
     },
     "metadata": {
      "needs_background": "light"
     },
     "output_type": "display_data"
    }
   ],
   "source": [
    "stacked_bar_chart(\n",
    "    chart_title=\"Stacked Bar Chart of Job Role vs Attrition\",\n",
    "    x_axis=general.JobRole,\n",
    "    y_axis=general.Attrition,\n",
    "    custom_xlabel=\"Job Role\",\n",
    "    custom_ylabel=\"Proportion of Employees\",\n",
    "    xticks_rotation=90\n",
    ")"
   ]
  },
  {
   "cell_type": "code",
   "execution_count": 47,
   "id": "electric-transaction",
   "metadata": {},
   "outputs": [
    {
     "data": {
      "text/plain": [
       "<Figure size 576x432 with 0 Axes>"
      ]
     },
     "metadata": {},
     "output_type": "display_data"
    },
    {
     "data": {
      "image/png": "[encoded data removed]",
      "text/plain": [
       "<Figure size 432x288 with 1 Axes>"
      ]
     },
     "metadata": {
      "needs_background": "light"
     },
     "output_type": "display_data"
    }
   ],
   "source": [
    "stacked_bar_chart(\n",
    "    chart_title=\"Stacked Bar Chart of Job Level vs Attrition\",\n",
    "    x_axis=general.JobLevel,\n",
    "    y_axis=general.Attrition,\n",
    "    custom_xlabel=\"Job Level\",\n",
    "    custom_ylabel=\"Proportion of Employees\"\n",
    ")"
   ]
  },
  {
   "cell_type": "code",
   "execution_count": 48,
   "id": "regional-innocent",
   "metadata": {},
   "outputs": [],
   "source": [
    "# Make bar chart\n",
    "def bar_chart(\n",
    "        x_axis: str, \n",
    "        hue: str, \n",
    "        df, \n",
    "        custom_xlabel: str,\n",
    "        custom_ylabel: str,\n",
    "        xlabel_size: int = 14,\n",
    "        ylabel_size: int = 14,\n",
    "        custom_figsize: tuple = (8, 6),\n",
    "        custom_colors: list = [\"#8499f5\", \"#fc918d\"]\n",
    "    ):\n",
    "    # Defining figure size and plot type as well as its attributes\n",
    "    plt.figure(figsize= custom_figsize) \n",
    "    plot = sns.countplot(x= x_axis, order = df[x_axis].value_counts().index,  hue=hue, data=df, palette =custom_colors) \n",
    "    plt.xlabel(custom_xlabel, size= xlabel_size)\n",
    "    plt.ylabel(custom_ylabel, size= ylabel_size)\n",
    "    \n",
    "    return plot\n",
    "    \n",
    "# Get annotations on the graph\n",
    "# Sourced from https://stackoverflow.com/a/62053049\n",
    "def with_hue(plot, feature, Number_of_categories, hue_categories):\n",
    "    a = [p.get_height() for p in plot.patches]\n",
    "    patch = [p for p in plot.patches]\n",
    "    for i in range(Number_of_categories):\n",
    "        total = feature.value_counts().values[i]\n",
    "        for j in range(hue_categories):\n",
    "            percentage = '{:.1f}%'.format(100 * a[(j*Number_of_categories + i)]/total)\n",
    "            x = patch[(j*Number_of_categories + i)].get_x() + patch[(j*Number_of_categories + i)].get_width() / 2 - 0.15\n",
    "            y = patch[(j*Number_of_categories + i)].get_y() + patch[(j*Number_of_categories + i)].get_height() \n",
    "            plot.annotate(percentage, (x, y), size = 12)\n",
    "    plt.show() \n",
    "    \n"
   ]
  },
  {
   "cell_type": "code",
   "execution_count": 49,
   "id": "neural-montgomery",
   "metadata": {},
   "outputs": [
    {
     "data": {
      "image/png": "[encoded data removed]",
      "text/plain": [
       "<Figure size 576x432 with 1 Axes>"
      ]
     },
     "metadata": {
      "needs_background": "light"
     },
     "output_type": "display_data"
    }
   ],
   "source": [
    "# Work Life Balance Levels distribution based on the Attrition\n",
    "\n",
    "plot= bar_chart(x_axis= \"WorkLifeBalance\", hue=\"Attrition\", df=data, custom_xlabel= \"Work Life Balance\", custom_ylabel= \"Number of Employees\")\n",
    "\n",
    "with_hue(plot, data.WorkLifeBalance, 4, 2)"
   ]
  },
  {
   "cell_type": "markdown",
   "id": "objective-portable",
   "metadata": {},
   "source": [
    "##### From the graph above we can see that employees who think that Work Life Balance is Bad in the company tend to leave the company more than others. "
   ]
  },
  {
   "cell_type": "code",
   "execution_count": 50,
   "id": "threaded-bermuda",
   "metadata": {
    "scrolled": false
   },
   "outputs": [
    {
     "data": {
      "image/png": "[encoded data removed]",
      "text/plain": [
       "<Figure size 576x432 with 1 Axes>"
      ]
     },
     "metadata": {
      "needs_background": "light"
     },
     "output_type": "display_data"
    }
   ],
   "source": [
    "# Job Satisfaction Levels distribution based on the Attrition\n",
    "\n",
    "plot= bar_chart(x_axis= \"JobSatisfaction\", hue=\"Attrition\", df=data, custom_xlabel= \"Job Satisfaction\", custom_ylabel= \"Number of Employees\")\n",
    "\n",
    "with_hue(plot, data.JobSatisfaction, 4, 2)"
   ]
  },
  {
   "cell_type": "code",
   "execution_count": 51,
   "id": "usual-camcorder",
   "metadata": {
    "scrolled": false
   },
   "outputs": [
    {
     "data": {
      "image/png": "[encoded data removed]",
      "text/plain": [
       "<Figure size 576x432 with 1 Axes>"
      ]
     },
     "metadata": {
      "needs_background": "light"
     },
     "output_type": "display_data"
    }
   ],
   "source": [
    "# Environment Satisfaction Levels distribution based on the Attrition\n",
    "\n",
    "plot= bar_chart(x_axis= \"EnvironmentSatisfaction\", hue=\"Attrition\", df=data, custom_xlabel= \"Environment Satisfaction\", custom_ylabel= \"Number of Employees\")\n",
    "\n",
    "with_hue(plot, data.EnvironmentSatisfaction, 4, 2)"
   ]
  },
  {
   "cell_type": "markdown",
   "id": "editorial-lighting",
   "metadata": {},
   "source": [
    "##### From the graph above we can see that employees whose Environment Satisfaction  is Low in the company tend to leave the company more than others. "
   ]
  },
  {
   "cell_type": "code",
   "execution_count": 52,
   "id": "compatible-semester",
   "metadata": {
    "scrolled": true
   },
   "outputs": [
    {
     "data": {
      "text/plain": [
       "<AxesSubplot:xlabel='Attrition', ylabel='Age'>"
      ]
     },
     "execution_count": 52,
     "metadata": {},
     "output_type": "execute_result"
    },
    {
     "data": {
      "image/png": "[encoded data removed]",
      "text/plain": [
       "<Figure size 432x288 with 1 Axes>"
      ]
     },
     "metadata": {
      "needs_background": "light"
     },
     "output_type": "display_data"
    }
   ],
   "source": [
    "# Employees' age distribution based on attrition\n",
    "\n",
    "sns.violinplot(x=\"Attrition\", y=\"Age\", data=data, palette =[\"#8499f5\", \"#fc918d\"])"
   ]
  },
  {
   "cell_type": "code",
   "execution_count": 53,
   "id": "cardiovascular-football",
   "metadata": {
    "scrolled": true
   },
   "outputs": [
    {
     "data": {
      "text/plain": [
       "<AxesSubplot:xlabel='Attrition', ylabel='MonthlyIncome'>"
      ]
     },
     "execution_count": 53,
     "metadata": {},
     "output_type": "execute_result"
    },
    {
     "data": {
      "image/png": "[encoded data removed]",
      "text/plain": [
       "<Figure size 432x288 with 1 Axes>"
      ]
     },
     "metadata": {
      "needs_background": "light"
     },
     "output_type": "display_data"
    }
   ],
   "source": [
    "# Employees' Monthly Income distribution based on attrition\n",
    "\n",
    "sns.violinplot(x=\"Attrition\", y=\"MonthlyIncome\", data=data, palette =[\"#8499f5\", \"#fc918d\"])"
   ]
  },
  {
   "cell_type": "code",
   "execution_count": 54,
   "id": "arabic-personality",
   "metadata": {
    "scrolled": true
   },
   "outputs": [
    {
     "data": {
      "text/plain": [
       "<AxesSubplot:xlabel='Attrition', ylabel='TotalWorkingYears'>"
      ]
     },
     "execution_count": 54,
     "metadata": {},
     "output_type": "execute_result"
    },
    {
     "data": {
      "image/png": "[encoded data removed]",
      "text/plain": [
       "<Figure size 432x288 with 1 Axes>"
      ]
     },
     "metadata": {
      "needs_background": "light"
     },
     "output_type": "display_data"
    }
   ],
   "source": [
    "# Employees' Total Working Years distribution based on attrition\n",
    "\n",
    "sns.violinplot(x=\"Attrition\", y=\"TotalWorkingYears\", data=data, palette =[\"#8499f5\", \"#fc918d\"]) "
   ]
  },
  {
   "cell_type": "code",
   "execution_count": 55,
   "id": "excess-mathematics",
   "metadata": {
    "scrolled": true
   },
   "outputs": [
    {
     "data": {
      "text/plain": [
       "<AxesSubplot:xlabel='Attrition', ylabel='YearsAtCompany'>"
      ]
     },
     "execution_count": 55,
     "metadata": {},
     "output_type": "execute_result"
    },
    {
     "data": {
      "image/png": "[encoded data removed]",
      "text/plain": [
       "<Figure size 432x288 with 1 Axes>"
      ]
     },
     "metadata": {
      "needs_background": "light"
     },
     "output_type": "display_data"
    }
   ],
   "source": [
    "# Employees' Years At The Company distribution based on attrition\n",
    "\n",
    "sns.violinplot(x=\"Attrition\", y=\"YearsAtCompany\", data=data, palette =[\"#8499f5\", \"#fc918d\"]) "
   ]
  },
  {
   "cell_type": "code",
   "execution_count": 56,
   "id": "christian-correlation",
   "metadata": {
    "scrolled": false
   },
   "outputs": [
    {
     "data": {
      "text/plain": [
       "<AxesSubplot:xlabel='Attrition', ylabel='AverageWorkingHours'>"
      ]
     },
     "execution_count": 56,
     "metadata": {},
     "output_type": "execute_result"
    },
    {
     "data": {
      "image/png": "[encoded data removed]",
      "text/plain": [
       "<Figure size 432x288 with 1 Axes>"
      ]
     },
     "metadata": {
      "needs_background": "light"
     },
     "output_type": "display_data"
    }
   ],
   "source": [
    "# Employees' Average Working Hours distribution based on attrition\n",
    "\n",
    "sns.violinplot(x=\"Attrition\", y=\"AverageWorkingHours\", data=data, palette =[\"#8499f5\", \"#fc918d\"]) "
   ]
  },
  {
   "cell_type": "markdown",
   "id": "falling-territory",
   "metadata": {},
   "source": [
    "##### From the above graph we can see that there is a different distribution of average working hours between employees who have left the company and those who have stayed in the company. "
   ]
  },
  {
   "cell_type": "markdown",
   "id": "initial-disaster",
   "metadata": {},
   "source": [
    "### Looking into a few more features "
   ]
  },
  {
   "cell_type": "code",
   "execution_count": 57,
   "id": "inclusive-testing",
   "metadata": {},
   "outputs": [
    {
     "data": {
      "text/plain": [
       "<AxesSubplot:xlabel='Attrition', ylabel='DistanceFromHome'>"
      ]
     },
     "execution_count": 57,
     "metadata": {},
     "output_type": "execute_result"
    },
    {
     "data": {
      "image/png": "[encoded data removed]",
      "text/plain": [
       "<Figure size 432x288 with 1 Axes>"
      ]
     },
     "metadata": {
      "needs_background": "light"
     },
     "output_type": "display_data"
    }
   ],
   "source": [
    "# Employees' Distance From Home distribution based on attrition\n",
    "\n",
    "sns.violinplot(x=\"Attrition\", y=\"DistanceFromHome\", data=data, palette =[\"#8499f5\", \"#fc918d\"])"
   ]
  },
  {
   "cell_type": "code",
   "execution_count": 58,
   "id": "danish-condition",
   "metadata": {
    "scrolled": true
   },
   "outputs": [
    {
     "data": {
      "text/plain": [
       "<AxesSubplot:xlabel='Attrition', ylabel='NumCompaniesWorked'>"
      ]
     },
     "execution_count": 58,
     "metadata": {},
     "output_type": "execute_result"
    },
    {
     "data": {
      "image/png": "[encoded data removed]",
      "text/plain": [
       "<Figure size 432x288 with 1 Axes>"
      ]
     },
     "metadata": {
      "needs_background": "light"
     },
     "output_type": "display_data"
    }
   ],
   "source": [
    "# Employees' Number of Companies Worked At distribution based on attrition\n",
    "\n",
    "sns.violinplot(x=\"Attrition\", y=\"NumCompaniesWorked\", data=data, palette =[\"#8499f5\", \"#fc918d\"])"
   ]
  },
  {
   "cell_type": "code",
   "execution_count": 59,
   "id": "demanding-teddy",
   "metadata": {},
   "outputs": [
    {
     "data": {
      "text/plain": [
       "<AxesSubplot:xlabel='Attrition', ylabel='PercentSalaryHike'>"
      ]
     },
     "execution_count": 59,
     "metadata": {},
     "output_type": "execute_result"
    },
    {
     "data": {
      "image/png": "[encoded data removed]",
      "text/plain": [
       "<Figure size 432x288 with 1 Axes>"
      ]
     },
     "metadata": {
      "needs_background": "light"
     },
     "output_type": "display_data"
    }
   ],
   "source": [
    "# Employees' Percent Salary Hike distribution based on attrition\n",
    "\n",
    "sns.violinplot(x=\"Attrition\", y=\"PercentSalaryHike\", data=data, palette =[\"#8499f5\", \"#fc918d\"])"
   ]
  },
  {
   "cell_type": "code",
   "execution_count": 60,
   "id": "blind-onion",
   "metadata": {},
   "outputs": [
    {
     "data": {
      "text/plain": [
       "<AxesSubplot:xlabel='Attrition', ylabel='StockOptionLevel'>"
      ]
     },
     "execution_count": 60,
     "metadata": {},
     "output_type": "execute_result"
    },
    {
     "data": {
      "image/png": "[encoded data removed]",
      "text/plain": [
       "<Figure size 432x288 with 1 Axes>"
      ]
     },
     "metadata": {
      "needs_background": "light"
     },
     "output_type": "display_data"
    }
   ],
   "source": [
    "# Employees' Stock Option Level distribution based on attrition\n",
    "\n",
    "sns.violinplot(x=\"Attrition\", y=\"StockOptionLevel\", data=data, palette =[\"#8499f5\", \"#fc918d\"])"
   ]
  },
  {
   "cell_type": "code",
   "execution_count": 61,
   "id": "dirty-train",
   "metadata": {},
   "outputs": [
    {
     "data": {
      "text/plain": [
       "<AxesSubplot:xlabel='Attrition', ylabel='TrainingTimesLastYear'>"
      ]
     },
     "execution_count": 61,
     "metadata": {},
     "output_type": "execute_result"
    },
    {
     "data": {
      "image/png": "[encoded data removed]",
      "text/plain": [
       "<Figure size 432x288 with 1 Axes>"
      ]
     },
     "metadata": {
      "needs_background": "light"
     },
     "output_type": "display_data"
    }
   ],
   "source": [
    "# Employees' Training Times Last Year distribution based on attrition\n",
    "\n",
    "sns.violinplot(x=\"Attrition\", y=\"TrainingTimesLastYear\", data=data, palette =[\"#8499f5\", \"#fc918d\"])"
   ]
  },
  {
   "cell_type": "code",
   "execution_count": 62,
   "id": "advanced-spanking",
   "metadata": {},
   "outputs": [
    {
     "data": {
      "text/plain": [
       "<AxesSubplot:xlabel='Attrition', ylabel='YearsSinceLastPromotion'>"
      ]
     },
     "execution_count": 62,
     "metadata": {},
     "output_type": "execute_result"
    },
    {
     "data": {
      "image/png": "[encoded data removed]",
      "text/plain": [
       "<Figure size 432x288 with 1 Axes>"
      ]
     },
     "metadata": {
      "needs_background": "light"
     },
     "output_type": "display_data"
    }
   ],
   "source": [
    "# Employees' Years Since Last Promotion distribution based on attrition\n",
    "\n",
    "sns.violinplot(x=\"Attrition\", y=\"YearsSinceLastPromotion\", data=data, palette =[\"#8499f5\", \"#fc918d\"])"
   ]
  },
  {
   "cell_type": "code",
   "execution_count": 63,
   "id": "pacific-export",
   "metadata": {},
   "outputs": [
    {
     "data": {
      "text/plain": [
       "<AxesSubplot:xlabel='Attrition', ylabel='YearsWithCurrManager'>"
      ]
     },
     "execution_count": 63,
     "metadata": {},
     "output_type": "execute_result"
    },
    {
     "data": {
      "image/png": "[encoded data removed]",
      "text/plain": [
       "<Figure size 432x288 with 1 Axes>"
      ]
     },
     "metadata": {
      "needs_background": "light"
     },
     "output_type": "display_data"
    }
   ],
   "source": [
    "# Employees' Years With Current Manager distribution based on attrition\n",
    "\n",
    "sns.violinplot(x=\"Attrition\", y=\"YearsWithCurrManager\", data=data, palette =[\"#8499f5\", \"#fc918d\"])"
   ]
  },
  {
   "cell_type": "markdown",
   "id": "adjacent-spokesman",
   "metadata": {},
   "source": [
    "## Looking into collinearity among predictor variables"
   ]
  },
  {
   "cell_type": "code",
   "execution_count": 64,
   "id": "separate-niger",
   "metadata": {},
   "outputs": [],
   "source": [
    "# Dropping column \"EmployeeID\"\n",
    "data.drop(columns=[\"EmployeeID\"], axis=1, inplace=True)"
   ]
  },
  {
   "cell_type": "code",
   "execution_count": 65,
   "id": "awful-defense",
   "metadata": {
    "scrolled": false
   },
   "outputs": [
    {
     "data": {
      "image/png": "[encoded data removed]",
      "text/plain": [
       "<Figure size 1440x1296 with 2 Axes>"
      ]
     },
     "metadata": {
      "needs_background": "light"
     },
     "output_type": "display_data"
    }
   ],
   "source": [
    "# Looking into variables correlation by drawing heat map\n",
    "plt.figure(figsize=(20,18))\n",
    "correlation=sns.heatmap(data.corr(), annot = True, cmap=\"Accent\", annot_kws={\"size\": 16})\n",
    "correlation.set_xticklabels(correlation.get_xmajorticklabels(), fontsize = 18)\n",
    "correlation.set_yticklabels(correlation.get_ymajorticklabels(), fontsize = 18)\n",
    "plt.show()"
   ]
  },
  {
   "cell_type": "markdown",
   "id": "lonely-glasgow",
   "metadata": {},
   "source": [
    "##### From the above Heat Map we can see that some variables have quite high correlation coefficients. This should be taken into consideration in further analysis in order to eliminate possible collinearity among predictor variables. "
   ]
  },
  {
   "cell_type": "code",
   "execution_count": 66,
   "id": "retained-numbers",
   "metadata": {},
   "outputs": [
    {
     "data": {
      "text/html": [
       "<div>\n",
       "<style scoped>\n",
       "    .dataframe tbody tr th:only-of-type {\n",
       "        vertical-align: middle;\n",
       "    }\n",
       "\n",
       "    .dataframe tbody tr th {\n",
       "        vertical-align: top;\n",
       "    }\n",
       "\n",
       "    .dataframe thead th {\n",
       "        text-align: right;\n",
       "    }\n",
       "</style>\n",
       "<table border=\"1\" class=\"dataframe\">\n",
       "  <thead>\n",
       "    <tr style=\"text-align: right;\">\n",
       "      <th></th>\n",
       "      <th>Age</th>\n",
       "      <th>Attrition</th>\n",
       "      <th>BusinessTravel</th>\n",
       "      <th>Department</th>\n",
       "      <th>DistanceFromHome</th>\n",
       "      <th>Education</th>\n",
       "      <th>EducationField</th>\n",
       "      <th>Gender</th>\n",
       "      <th>JobLevel</th>\n",
       "      <th>JobRole</th>\n",
       "      <th>...</th>\n",
       "      <th>StockOptionLevel</th>\n",
       "      <th>TotalWorkingYears</th>\n",
       "      <th>TrainingTimesLastYear</th>\n",
       "      <th>YearsAtCompany</th>\n",
       "      <th>YearsSinceLastPromotion</th>\n",
       "      <th>YearsWithCurrManager</th>\n",
       "      <th>EnvironmentSatisfaction</th>\n",
       "      <th>JobSatisfaction</th>\n",
       "      <th>WorkLifeBalance</th>\n",
       "      <th>AverageWorkingHours</th>\n",
       "    </tr>\n",
       "  </thead>\n",
       "  <tbody>\n",
       "    <tr>\n",
       "      <th>0</th>\n",
       "      <td>51</td>\n",
       "      <td>0</td>\n",
       "      <td>Travel_Rarely</td>\n",
       "      <td>Sales</td>\n",
       "      <td>6</td>\n",
       "      <td>College</td>\n",
       "      <td>Life Sciences</td>\n",
       "      <td>Female</td>\n",
       "      <td>1</td>\n",
       "      <td>Healthcare Representative</td>\n",
       "      <td>...</td>\n",
       "      <td>0</td>\n",
       "      <td>1.0</td>\n",
       "      <td>6</td>\n",
       "      <td>1</td>\n",
       "      <td>0</td>\n",
       "      <td>0</td>\n",
       "      <td>High</td>\n",
       "      <td>Very High</td>\n",
       "      <td>Good</td>\n",
       "      <td>7.373651</td>\n",
       "    </tr>\n",
       "    <tr>\n",
       "      <th>1</th>\n",
       "      <td>31</td>\n",
       "      <td>1</td>\n",
       "      <td>Travel_Frequently</td>\n",
       "      <td>Research &amp; Development</td>\n",
       "      <td>10</td>\n",
       "      <td>Below College</td>\n",
       "      <td>Life Sciences</td>\n",
       "      <td>Female</td>\n",
       "      <td>1</td>\n",
       "      <td>Research Scientist</td>\n",
       "      <td>...</td>\n",
       "      <td>1</td>\n",
       "      <td>6.0</td>\n",
       "      <td>3</td>\n",
       "      <td>5</td>\n",
       "      <td>1</td>\n",
       "      <td>4</td>\n",
       "      <td>High</td>\n",
       "      <td>Medium</td>\n",
       "      <td>Best</td>\n",
       "      <td>7.718969</td>\n",
       "    </tr>\n",
       "    <tr>\n",
       "      <th>2</th>\n",
       "      <td>32</td>\n",
       "      <td>0</td>\n",
       "      <td>Travel_Frequently</td>\n",
       "      <td>Research &amp; Development</td>\n",
       "      <td>17</td>\n",
       "      <td>Master</td>\n",
       "      <td>Other</td>\n",
       "      <td>Male</td>\n",
       "      <td>4</td>\n",
       "      <td>Sales Executive</td>\n",
       "      <td>...</td>\n",
       "      <td>3</td>\n",
       "      <td>5.0</td>\n",
       "      <td>2</td>\n",
       "      <td>5</td>\n",
       "      <td>0</td>\n",
       "      <td>3</td>\n",
       "      <td>Medium</td>\n",
       "      <td>Medium</td>\n",
       "      <td>Bad</td>\n",
       "      <td>7.013240</td>\n",
       "    </tr>\n",
       "    <tr>\n",
       "      <th>3</th>\n",
       "      <td>38</td>\n",
       "      <td>0</td>\n",
       "      <td>Non-Travel</td>\n",
       "      <td>Research &amp; Development</td>\n",
       "      <td>2</td>\n",
       "      <td>Doctor</td>\n",
       "      <td>Life Sciences</td>\n",
       "      <td>Male</td>\n",
       "      <td>3</td>\n",
       "      <td>Human Resources</td>\n",
       "      <td>...</td>\n",
       "      <td>3</td>\n",
       "      <td>13.0</td>\n",
       "      <td>5</td>\n",
       "      <td>8</td>\n",
       "      <td>7</td>\n",
       "      <td>5</td>\n",
       "      <td>Very High</td>\n",
       "      <td>Very High</td>\n",
       "      <td>Better</td>\n",
       "      <td>7.193678</td>\n",
       "    </tr>\n",
       "    <tr>\n",
       "      <th>4</th>\n",
       "      <td>32</td>\n",
       "      <td>0</td>\n",
       "      <td>Travel_Rarely</td>\n",
       "      <td>Research &amp; Development</td>\n",
       "      <td>10</td>\n",
       "      <td>Below College</td>\n",
       "      <td>Medical</td>\n",
       "      <td>Male</td>\n",
       "      <td>1</td>\n",
       "      <td>Sales Executive</td>\n",
       "      <td>...</td>\n",
       "      <td>2</td>\n",
       "      <td>9.0</td>\n",
       "      <td>2</td>\n",
       "      <td>6</td>\n",
       "      <td>0</td>\n",
       "      <td>4</td>\n",
       "      <td>Very High</td>\n",
       "      <td>Low</td>\n",
       "      <td>Better</td>\n",
       "      <td>8.006175</td>\n",
       "    </tr>\n",
       "  </tbody>\n",
       "</table>\n",
       "<p>5 rows × 24 columns</p>\n",
       "</div>"
      ],
      "text/plain": [
       "   Age  Attrition     BusinessTravel              Department  \\\n",
       "0   51          0      Travel_Rarely                   Sales   \n",
       "1   31          1  Travel_Frequently  Research & Development   \n",
       "2   32          0  Travel_Frequently  Research & Development   \n",
       "3   38          0         Non-Travel  Research & Development   \n",
       "4   32          0      Travel_Rarely  Research & Development   \n",
       "\n",
       "   DistanceFromHome      Education EducationField  Gender JobLevel  \\\n",
       "0                 6        College  Life Sciences  Female        1   \n",
       "1                10  Below College  Life Sciences  Female        1   \n",
       "2                17         Master          Other    Male        4   \n",
       "3                 2         Doctor  Life Sciences    Male        3   \n",
       "4                10  Below College        Medical    Male        1   \n",
       "\n",
       "                     JobRole  ... StockOptionLevel  TotalWorkingYears  \\\n",
       "0  Healthcare Representative  ...                0                1.0   \n",
       "1         Research Scientist  ...                1                6.0   \n",
       "2            Sales Executive  ...                3                5.0   \n",
       "3            Human Resources  ...                3               13.0   \n",
       "4            Sales Executive  ...                2                9.0   \n",
       "\n",
       "   TrainingTimesLastYear  YearsAtCompany  YearsSinceLastPromotion  \\\n",
       "0                      6               1                        0   \n",
       "1                      3               5                        1   \n",
       "2                      2               5                        0   \n",
       "3                      5               8                        7   \n",
       "4                      2               6                        0   \n",
       "\n",
       "   YearsWithCurrManager  EnvironmentSatisfaction  JobSatisfaction  \\\n",
       "0                     0                     High        Very High   \n",
       "1                     4                     High           Medium   \n",
       "2                     3                   Medium           Medium   \n",
       "3                     5                Very High        Very High   \n",
       "4                     4                Very High              Low   \n",
       "\n",
       "   WorkLifeBalance  AverageWorkingHours  \n",
       "0             Good             7.373651  \n",
       "1             Best             7.718969  \n",
       "2              Bad             7.013240  \n",
       "3           Better             7.193678  \n",
       "4           Better             8.006175  \n",
       "\n",
       "[5 rows x 24 columns]"
      ]
     },
     "execution_count": 66,
     "metadata": {},
     "output_type": "execute_result"
    }
   ],
   "source": [
    "# Turning Attrition column data into categorical data, where 1 means that employee has left, 0 - employee did not leave the company. \n",
    "data[\"Attrition\"] = data[\"Attrition\"].replace({\"Yes\": 1, \"No\": 0})\n",
    "# Checking data sample after implementing changes\n",
    "data.head(5)"
   ]
  },
  {
   "cell_type": "code",
   "execution_count": 67,
   "id": "enhanced-amazon",
   "metadata": {},
   "outputs": [],
   "source": [
    "# Creating dummy variables for categorical variables and dropping the first one\n",
    "dummy_variables = pd.get_dummies(data[[\"BusinessTravel\", \"Department\", \"Education\",\"EducationField\", \"Gender\", \"JobLevel\", \n",
    "                                       \"JobRole\", \"MaritalStatus\", \"EnvironmentSatisfaction\", \"JobSatisfaction\", \n",
    "                                       \"WorkLifeBalance\"]], drop_first=True)\n",
    "# Adding new variables to the dataframe\n",
    "data = pd.concat([data, dummy_variables], axis=1)"
   ]
  },
  {
   "cell_type": "code",
   "execution_count": 68,
   "id": "martial-automation",
   "metadata": {},
   "outputs": [],
   "source": [
    "# Dropping duplicate variables which now have been converted to dummy variables\n",
    "data.drop(columns=[\"BusinessTravel\", \"Department\", \"Education\",\"EducationField\", \"Gender\", \"JobLevel\", \"JobRole\", \n",
    "                   \"MaritalStatus\", \"EnvironmentSatisfaction\", \"JobSatisfaction\", \"WorkLifeBalance\"], axis=1, inplace=True)"
   ]
  },
  {
   "cell_type": "code",
   "execution_count": 69,
   "id": "uniform-politics",
   "metadata": {},
   "outputs": [
    {
     "name": "stdout",
     "output_type": "stream",
     "text": [
      "<class 'pandas.core.frame.DataFrame'>\n",
      "Int64Index: 996 entries, 0 to 995\n",
      "Data columns (total 50 columns):\n",
      " #   Column                             Non-Null Count  Dtype  \n",
      "---  ------                             --------------  -----  \n",
      " 0   Age                                996 non-null    int64  \n",
      " 1   Attrition                          996 non-null    int64  \n",
      " 2   DistanceFromHome                   996 non-null    int64  \n",
      " 3   MonthlyIncome                      996 non-null    int64  \n",
      " 4   NumCompaniesWorked                 996 non-null    float64\n",
      " 5   PercentSalaryHike                  996 non-null    int64  \n",
      " 6   StockOptionLevel                   996 non-null    int64  \n",
      " 7   TotalWorkingYears                  996 non-null    float64\n",
      " 8   TrainingTimesLastYear              996 non-null    int64  \n",
      " 9   YearsAtCompany                     996 non-null    int64  \n",
      " 10  YearsSinceLastPromotion            996 non-null    int64  \n",
      " 11  YearsWithCurrManager               996 non-null    int64  \n",
      " 12  AverageWorkingHours                996 non-null    float64\n",
      " 13  BusinessTravel_Travel_Frequently   996 non-null    uint8  \n",
      " 14  BusinessTravel_Travel_Rarely       996 non-null    uint8  \n",
      " 15  Department_Research & Development  996 non-null    uint8  \n",
      " 16  Department_Sales                   996 non-null    uint8  \n",
      " 17  Education_Below College            996 non-null    uint8  \n",
      " 18  Education_College                  996 non-null    uint8  \n",
      " 19  Education_Doctor                   996 non-null    uint8  \n",
      " 20  Education_Master                   996 non-null    uint8  \n",
      " 21  EducationField_Life Sciences       996 non-null    uint8  \n",
      " 22  EducationField_Marketing           996 non-null    uint8  \n",
      " 23  EducationField_Medical             996 non-null    uint8  \n",
      " 24  EducationField_Other               996 non-null    uint8  \n",
      " 25  EducationField_Technical Degree    996 non-null    uint8  \n",
      " 26  Gender_Male                        996 non-null    uint8  \n",
      " 27  JobLevel_2                         996 non-null    uint8  \n",
      " 28  JobLevel_3                         996 non-null    uint8  \n",
      " 29  JobLevel_4                         996 non-null    uint8  \n",
      " 30  JobLevel_5                         996 non-null    uint8  \n",
      " 31  JobRole_Human Resources            996 non-null    uint8  \n",
      " 32  JobRole_Laboratory Technician      996 non-null    uint8  \n",
      " 33  JobRole_Manager                    996 non-null    uint8  \n",
      " 34  JobRole_Manufacturing Director     996 non-null    uint8  \n",
      " 35  JobRole_Research Director          996 non-null    uint8  \n",
      " 36  JobRole_Research Scientist         996 non-null    uint8  \n",
      " 37  JobRole_Sales Executive            996 non-null    uint8  \n",
      " 38  JobRole_Sales Representative       996 non-null    uint8  \n",
      " 39  MaritalStatus_Married              996 non-null    uint8  \n",
      " 40  MaritalStatus_Single               996 non-null    uint8  \n",
      " 41  EnvironmentSatisfaction_Low        996 non-null    uint8  \n",
      " 42  EnvironmentSatisfaction_Medium     996 non-null    uint8  \n",
      " 43  EnvironmentSatisfaction_Very High  996 non-null    uint8  \n",
      " 44  JobSatisfaction_Low                996 non-null    uint8  \n",
      " 45  JobSatisfaction_Medium             996 non-null    uint8  \n",
      " 46  JobSatisfaction_Very High          996 non-null    uint8  \n",
      " 47  WorkLifeBalance_Best               996 non-null    uint8  \n",
      " 48  WorkLifeBalance_Better             996 non-null    uint8  \n",
      " 49  WorkLifeBalance_Good               996 non-null    uint8  \n",
      "dtypes: float64(3), int64(10), uint8(37)\n",
      "memory usage: 177.2 KB\n"
     ]
    }
   ],
   "source": [
    "# Checking data information, data types\n",
    "data.info()"
   ]
  },
  {
   "cell_type": "markdown",
   "id": "rolled-fellow",
   "metadata": {},
   "source": [
    "#### Calculating VIF (Variance Inflation Factor) in order to eliminate variables with high collinearity"
   ]
  },
  {
   "cell_type": "code",
   "execution_count": 70,
   "id": "wanted-minneapolis",
   "metadata": {},
   "outputs": [],
   "source": [
    "# Importing additional modules\n",
    "from statsmodels.stats.outliers_influence import variance_inflation_factor \n",
    "from statsmodels.tools.tools import add_constant\n",
    "\n",
    "# Adding constant variable in order to have more accurate calculations\n",
    "x = add_constant(data.drop([\"Attrition\"], axis=1))"
   ]
  },
  {
   "cell_type": "code",
   "execution_count": 71,
   "id": "secure-heather",
   "metadata": {},
   "outputs": [],
   "source": [
    "# Creating new data frame with existing variables and their VIF values\n",
    "vif_data = pd.DataFrame() \n",
    "vif_data[\"Variable\"] = x.columns \n",
    "# Finding VIF value for each variable in the data frame\n",
    "vif_data[\"VIF\"] = [variance_inflation_factor(x.values, i) \n",
    "                          for i in range(len(x.columns))] "
   ]
  },
  {
   "cell_type": "code",
   "execution_count": 72,
   "id": "wrapped-california",
   "metadata": {
    "scrolled": false
   },
   "outputs": [
    {
     "name": "stdout",
     "output_type": "stream",
     "text": [
      "                             Variable         VIF\n",
      "0                               const  212.492690\n",
      "15  Department_Research & Development   12.049937\n",
      "16                   Department_Sales   12.160061\n",
      "21       EducationField_Life Sciences   29.716364\n",
      "22           EducationField_Marketing   13.911280\n",
      "23             EducationField_Medical   26.587414\n",
      "24               EducationField_Other    7.009478\n",
      "25    EducationField_Technical Degree   10.493931\n"
     ]
    }
   ],
   "source": [
    "# Getting variables with VIF value bigger than 5\n",
    "print(vif_data.loc[vif_data[\"VIF\"]> 5])"
   ]
  },
  {
   "cell_type": "code",
   "execution_count": 73,
   "id": "respiratory-palestine",
   "metadata": {
    "scrolled": false
   },
   "outputs": [
    {
     "name": "stdout",
     "output_type": "stream",
     "text": [
      "                             Variable         VIF\n",
      "0                               const  170.054599\n",
      "15  Department_Research & Development    7.105629\n",
      "16                   Department_Sales    7.486013\n"
     ]
    }
   ],
   "source": [
    "# Dropping variable with the biggest VIF (\"EducationField_Life Sciences\") and running VIF analysis again\n",
    "x = x.drop([\"EducationField_Life Sciences\"], axis=1)\n",
    "\n",
    "vif_data = pd.DataFrame() \n",
    "vif_data[\"Variable\"] = x.columns \n",
    "\n",
    "vif_data[\"VIF\"] = [variance_inflation_factor(x.values, i) \n",
    "                          for i in range(len(x.columns))] \n",
    "# Returning variables with VIF value bigger than 5\n",
    "print(vif_data.loc[vif_data[\"VIF\"]> 5])"
   ]
  },
  {
   "cell_type": "code",
   "execution_count": 74,
   "id": "pharmaceutical-discrimination",
   "metadata": {
    "scrolled": true
   },
   "outputs": [
    {
     "name": "stdout",
     "output_type": "stream",
     "text": [
      "  Variable         VIF\n",
      "0    const  142.789293\n"
     ]
    }
   ],
   "source": [
    "# Dropping variable with the biggest VIF (\"Department_Sales\") and running VIF analysis again\n",
    "x = x.drop([\"Department_Sales\"], axis=1)\n",
    "\n",
    "vif_data = pd.DataFrame() \n",
    "vif_data[\"Variable\"] = x.columns \n",
    "\n",
    "vif_data[\"VIF\"] = [variance_inflation_factor(x.values, i) \n",
    "                          for i in range(len(x.columns))] \n",
    "print(vif_data.loc[vif_data[\"VIF\"]> 5])"
   ]
  },
  {
   "cell_type": "markdown",
   "id": "spread-search",
   "metadata": {},
   "source": [
    "##### Now all remaining variables have VIF value smaller than 5. We can carry on with the Logit regression model. "
   ]
  },
  {
   "cell_type": "markdown",
   "id": "reserved-battlefield",
   "metadata": {},
   "source": [
    "## Logistic Regression Analysis"
   ]
  },
  {
   "cell_type": "code",
   "execution_count": 75,
   "id": "wired-fossil",
   "metadata": {},
   "outputs": [],
   "source": [
    "# Importing additional modules\n",
    "from sklearn.linear_model import LogisticRegression\n",
    "from sklearn.metrics import classification_report, confusion_matrix"
   ]
  },
  {
   "cell_type": "code",
   "execution_count": 76,
   "id": "removed-glucose",
   "metadata": {},
   "outputs": [],
   "source": [
    "# Setting dependent/independent variables\n",
    "X = x.drop([\"const\"], axis=1)\n",
    "y = data[\"Attrition\"]"
   ]
  },
  {
   "cell_type": "code",
   "execution_count": 77,
   "id": "maritime-cabin",
   "metadata": {
    "scrolled": false
   },
   "outputs": [
    {
     "name": "stdout",
     "output_type": "stream",
     "text": [
      "Optimization terminated successfully.\n",
      "         Current function value: 0.337461\n",
      "         Iterations 7\n",
      "Optimization terminated successfully.\n",
      "         Current function value: 0.337461\n",
      "         Iterations 7\n"
     ]
    },
    {
     "data": {
      "text/html": [
       "<table class=\"simpletable\">\n",
       "<caption>Logit Regression Results</caption>\n",
       "<tr>\n",
       "  <th>Dep. Variable:</th>       <td>Attrition</td>    <th>  No. Observations:  </th>  <td>   996</td>  \n",
       "</tr>\n",
       "<tr>\n",
       "  <th>Model:</th>                 <td>Logit</td>      <th>  Df Residuals:      </th>  <td>   949</td>  \n",
       "</tr>\n",
       "<tr>\n",
       "  <th>Method:</th>                 <td>MLE</td>       <th>  Df Model:          </th>  <td>    46</td>  \n",
       "</tr>\n",
       "<tr>\n",
       "  <th>Date:</th>            <td>Tue, 30 Mar 2021</td> <th>  Pseudo R-squ.:     </th>  <td>0.2483</td>  \n",
       "</tr>\n",
       "<tr>\n",
       "  <th>Time:</th>                <td>23:42:51</td>     <th>  Log-Likelihood:    </th> <td> -336.11</td> \n",
       "</tr>\n",
       "<tr>\n",
       "  <th>converged:</th>             <td>True</td>       <th>  LL-Null:           </th> <td> -447.15</td> \n",
       "</tr>\n",
       "<tr>\n",
       "  <th>Covariance Type:</th>     <td>nonrobust</td>    <th>  LLR p-value:       </th> <td>6.641e-25</td>\n",
       "</tr>\n",
       "</table>\n",
       "<table class=\"simpletable\">\n",
       "<tr>\n",
       "                  <td></td>                     <th>coef</th>     <th>std err</th>      <th>z</th>      <th>P>|z|</th>  <th>[0.025</th>    <th>0.975]</th>  \n",
       "</tr>\n",
       "<tr>\n",
       "  <th>Age</th>                               <td>   -0.0637</td> <td>    0.015</td> <td>   -4.119</td> <td> 0.000</td> <td>   -0.094</td> <td>   -0.033</td>\n",
       "</tr>\n",
       "<tr>\n",
       "  <th>DistanceFromHome</th>                  <td>    0.0151</td> <td>    0.013</td> <td>    1.200</td> <td> 0.230</td> <td>   -0.010</td> <td>    0.040</td>\n",
       "</tr>\n",
       "<tr>\n",
       "  <th>MonthlyIncome</th>                     <td>-5.164e-06</td> <td> 2.28e-06</td> <td>   -2.261</td> <td> 0.024</td> <td>-9.64e-06</td> <td>-6.88e-07</td>\n",
       "</tr>\n",
       "<tr>\n",
       "  <th>NumCompaniesWorked</th>                <td>    0.1347</td> <td>    0.043</td> <td>    3.097</td> <td> 0.002</td> <td>    0.049</td> <td>    0.220</td>\n",
       "</tr>\n",
       "<tr>\n",
       "  <th>PercentSalaryHike</th>                 <td>   -0.0312</td> <td>    0.026</td> <td>   -1.187</td> <td> 0.235</td> <td>   -0.083</td> <td>    0.020</td>\n",
       "</tr>\n",
       "<tr>\n",
       "  <th>StockOptionLevel</th>                  <td>   -0.0519</td> <td>    0.119</td> <td>   -0.438</td> <td> 0.662</td> <td>   -0.285</td> <td>    0.181</td>\n",
       "</tr>\n",
       "<tr>\n",
       "  <th>TotalWorkingYears</th>                 <td>   -0.0621</td> <td>    0.028</td> <td>   -2.185</td> <td> 0.029</td> <td>   -0.118</td> <td>   -0.006</td>\n",
       "</tr>\n",
       "<tr>\n",
       "  <th>TrainingTimesLastYear</th>             <td>   -0.1942</td> <td>    0.078</td> <td>   -2.476</td> <td> 0.013</td> <td>   -0.348</td> <td>   -0.040</td>\n",
       "</tr>\n",
       "<tr>\n",
       "  <th>YearsAtCompany</th>                    <td>    0.0213</td> <td>    0.041</td> <td>    0.525</td> <td> 0.600</td> <td>   -0.058</td> <td>    0.101</td>\n",
       "</tr>\n",
       "<tr>\n",
       "  <th>YearsSinceLastPromotion</th>           <td>    0.2134</td> <td>    0.047</td> <td>    4.513</td> <td> 0.000</td> <td>    0.121</td> <td>    0.306</td>\n",
       "</tr>\n",
       "<tr>\n",
       "  <th>YearsWithCurrManager</th>              <td>   -0.1914</td> <td>    0.051</td> <td>   -3.783</td> <td> 0.000</td> <td>   -0.291</td> <td>   -0.092</td>\n",
       "</tr>\n",
       "<tr>\n",
       "  <th>AverageWorkingHours</th>               <td>    0.4062</td> <td>    0.067</td> <td>    6.087</td> <td> 0.000</td> <td>    0.275</td> <td>    0.537</td>\n",
       "</tr>\n",
       "<tr>\n",
       "  <th>BusinessTravel_Travel_Frequently</th>  <td>    0.9617</td> <td>    0.373</td> <td>    2.578</td> <td> 0.010</td> <td>    0.231</td> <td>    1.693</td>\n",
       "</tr>\n",
       "<tr>\n",
       "  <th>BusinessTravel_Travel_Rarely</th>      <td>   -0.0008</td> <td>    0.338</td> <td>   -0.002</td> <td> 0.998</td> <td>   -0.664</td> <td>    0.662</td>\n",
       "</tr>\n",
       "<tr>\n",
       "  <th>Department_Research & Development</th> <td>   -0.3026</td> <td>    0.242</td> <td>   -1.251</td> <td> 0.211</td> <td>   -0.777</td> <td>    0.171</td>\n",
       "</tr>\n",
       "<tr>\n",
       "  <th>Education_Below College</th>           <td>   -0.0471</td> <td>    0.363</td> <td>   -0.130</td> <td> 0.897</td> <td>   -0.758</td> <td>    0.664</td>\n",
       "</tr>\n",
       "<tr>\n",
       "  <th>Education_College</th>                 <td>    0.1509</td> <td>    0.276</td> <td>    0.547</td> <td> 0.585</td> <td>   -0.390</td> <td>    0.692</td>\n",
       "</tr>\n",
       "<tr>\n",
       "  <th>Education_Doctor</th>                  <td>   -0.4630</td> <td>    0.596</td> <td>   -0.776</td> <td> 0.438</td> <td>   -1.632</td> <td>    0.706</td>\n",
       "</tr>\n",
       "<tr>\n",
       "  <th>Education_Master</th>                  <td>   -0.2736</td> <td>    0.255</td> <td>   -1.072</td> <td> 0.284</td> <td>   -0.774</td> <td>    0.227</td>\n",
       "</tr>\n",
       "<tr>\n",
       "  <th>EducationField_Marketing</th>          <td>   -0.6009</td> <td>    0.382</td> <td>   -1.573</td> <td> 0.116</td> <td>   -1.350</td> <td>    0.148</td>\n",
       "</tr>\n",
       "<tr>\n",
       "  <th>EducationField_Medical</th>            <td>    0.0564</td> <td>    0.233</td> <td>    0.242</td> <td> 0.809</td> <td>   -0.400</td> <td>    0.513</td>\n",
       "</tr>\n",
       "<tr>\n",
       "  <th>EducationField_Other</th>              <td>   -0.4600</td> <td>    0.526</td> <td>   -0.874</td> <td> 0.382</td> <td>   -1.491</td> <td>    0.571</td>\n",
       "</tr>\n",
       "<tr>\n",
       "  <th>EducationField_Technical Degree</th>   <td>   -0.3371</td> <td>    0.402</td> <td>   -0.838</td> <td> 0.402</td> <td>   -1.126</td> <td>    0.451</td>\n",
       "</tr>\n",
       "<tr>\n",
       "  <th>Gender_Male</th>                       <td>   -0.0395</td> <td>    0.209</td> <td>   -0.189</td> <td> 0.850</td> <td>   -0.449</td> <td>    0.370</td>\n",
       "</tr>\n",
       "<tr>\n",
       "  <th>JobLevel_2</th>                        <td>    0.2823</td> <td>    0.237</td> <td>    1.190</td> <td> 0.234</td> <td>   -0.183</td> <td>    0.747</td>\n",
       "</tr>\n",
       "<tr>\n",
       "  <th>JobLevel_3</th>                        <td>    0.2413</td> <td>    0.315</td> <td>    0.766</td> <td> 0.444</td> <td>   -0.376</td> <td>    0.859</td>\n",
       "</tr>\n",
       "<tr>\n",
       "  <th>JobLevel_4</th>                        <td>    0.5750</td> <td>    0.413</td> <td>    1.392</td> <td> 0.164</td> <td>   -0.235</td> <td>    1.385</td>\n",
       "</tr>\n",
       "<tr>\n",
       "  <th>JobLevel_5</th>                        <td>   -0.6427</td> <td>    0.649</td> <td>   -0.991</td> <td> 0.322</td> <td>   -1.914</td> <td>    0.628</td>\n",
       "</tr>\n",
       "<tr>\n",
       "  <th>JobRole_Human Resources</th>           <td>    0.2391</td> <td>    0.610</td> <td>    0.392</td> <td> 0.695</td> <td>   -0.957</td> <td>    1.435</td>\n",
       "</tr>\n",
       "<tr>\n",
       "  <th>JobRole_Laboratory Technician</th>     <td>    0.0380</td> <td>    0.406</td> <td>    0.094</td> <td> 0.925</td> <td>   -0.757</td> <td>    0.833</td>\n",
       "</tr>\n",
       "<tr>\n",
       "  <th>JobRole_Manager</th>                   <td>   -0.4712</td> <td>    0.536</td> <td>   -0.878</td> <td> 0.380</td> <td>   -1.522</td> <td>    0.580</td>\n",
       "</tr>\n",
       "<tr>\n",
       "  <th>JobRole_Manufacturing Director</th>    <td>   -0.4468</td> <td>    0.488</td> <td>   -0.916</td> <td> 0.360</td> <td>   -1.403</td> <td>    0.509</td>\n",
       "</tr>\n",
       "<tr>\n",
       "  <th>JobRole_Research Director</th>         <td>    0.3504</td> <td>    0.525</td> <td>    0.667</td> <td> 0.505</td> <td>   -0.679</td> <td>    1.379</td>\n",
       "</tr>\n",
       "<tr>\n",
       "  <th>JobRole_Research Scientist</th>        <td>    0.0996</td> <td>    0.405</td> <td>    0.246</td> <td> 0.806</td> <td>   -0.695</td> <td>    0.894</td>\n",
       "</tr>\n",
       "<tr>\n",
       "  <th>JobRole_Sales Executive</th>           <td>    0.1379</td> <td>    0.401</td> <td>    0.344</td> <td> 0.731</td> <td>   -0.648</td> <td>    0.923</td>\n",
       "</tr>\n",
       "<tr>\n",
       "  <th>JobRole_Sales Representative</th>      <td>    0.0782</td> <td>    0.541</td> <td>    0.144</td> <td> 0.885</td> <td>   -0.983</td> <td>    1.139</td>\n",
       "</tr>\n",
       "<tr>\n",
       "  <th>MaritalStatus_Married</th>             <td>   -0.0809</td> <td>    0.278</td> <td>   -0.291</td> <td> 0.771</td> <td>   -0.627</td> <td>    0.465</td>\n",
       "</tr>\n",
       "<tr>\n",
       "  <th>MaritalStatus_Single</th>              <td>    0.8675</td> <td>    0.278</td> <td>    3.124</td> <td> 0.002</td> <td>    0.323</td> <td>    1.412</td>\n",
       "</tr>\n",
       "<tr>\n",
       "  <th>EnvironmentSatisfaction_Low</th>       <td>    0.9236</td> <td>    0.264</td> <td>    3.495</td> <td> 0.000</td> <td>    0.406</td> <td>    1.442</td>\n",
       "</tr>\n",
       "<tr>\n",
       "  <th>EnvironmentSatisfaction_Medium</th>    <td>   -0.0462</td> <td>    0.304</td> <td>   -0.152</td> <td> 0.879</td> <td>   -0.642</td> <td>    0.550</td>\n",
       "</tr>\n",
       "<tr>\n",
       "  <th>EnvironmentSatisfaction_Very High</th> <td>   -0.4545</td> <td>    0.268</td> <td>   -1.693</td> <td> 0.090</td> <td>   -0.981</td> <td>    0.072</td>\n",
       "</tr>\n",
       "<tr>\n",
       "  <th>JobSatisfaction_Low</th>               <td>    0.4353</td> <td>    0.272</td> <td>    1.601</td> <td> 0.109</td> <td>   -0.098</td> <td>    0.968</td>\n",
       "</tr>\n",
       "<tr>\n",
       "  <th>JobSatisfaction_Medium</th>            <td>   -0.1082</td> <td>    0.281</td> <td>   -0.385</td> <td> 0.701</td> <td>   -0.660</td> <td>    0.443</td>\n",
       "</tr>\n",
       "<tr>\n",
       "  <th>JobSatisfaction_Very High</th>         <td>   -0.8555</td> <td>    0.280</td> <td>   -3.053</td> <td> 0.002</td> <td>   -1.405</td> <td>   -0.306</td>\n",
       "</tr>\n",
       "<tr>\n",
       "  <th>WorkLifeBalance_Best</th>              <td>   -1.1924</td> <td>    0.422</td> <td>   -2.826</td> <td> 0.005</td> <td>   -2.019</td> <td>   -0.365</td>\n",
       "</tr>\n",
       "<tr>\n",
       "  <th>WorkLifeBalance_Better</th>            <td>   -1.6112</td> <td>    0.347</td> <td>   -4.649</td> <td> 0.000</td> <td>   -2.290</td> <td>   -0.932</td>\n",
       "</tr>\n",
       "<tr>\n",
       "  <th>WorkLifeBalance_Good</th>              <td>   -1.2041</td> <td>    0.383</td> <td>   -3.143</td> <td> 0.002</td> <td>   -1.955</td> <td>   -0.453</td>\n",
       "</tr>\n",
       "</table>"
      ],
      "text/plain": [
       "<class 'statsmodels.iolib.summary.Summary'>\n",
       "\"\"\"\n",
       "                           Logit Regression Results                           \n",
       "==============================================================================\n",
       "Dep. Variable:              Attrition   No. Observations:                  996\n",
       "Model:                          Logit   Df Residuals:                      949\n",
       "Method:                           MLE   Df Model:                           46\n",
       "Date:                Tue, 30 Mar 2021   Pseudo R-squ.:                  0.2483\n",
       "Time:                        23:42:51   Log-Likelihood:                -336.11\n",
       "converged:                       True   LL-Null:                       -447.15\n",
       "Covariance Type:            nonrobust   LLR p-value:                 6.641e-25\n",
       "=====================================================================================================\n",
       "                                        coef    std err          z      P>|z|      [0.025      0.975]\n",
       "-----------------------------------------------------------------------------------------------------\n",
       "Age                                  -0.0637      0.015     -4.119      0.000      -0.094      -0.033\n",
       "DistanceFromHome                      0.0151      0.013      1.200      0.230      -0.010       0.040\n",
       "MonthlyIncome                     -5.164e-06   2.28e-06     -2.261      0.024   -9.64e-06   -6.88e-07\n",
       "NumCompaniesWorked                    0.1347      0.043      3.097      0.002       0.049       0.220\n",
       "PercentSalaryHike                    -0.0312      0.026     -1.187      0.235      -0.083       0.020\n",
       "StockOptionLevel                     -0.0519      0.119     -0.438      0.662      -0.285       0.181\n",
       "TotalWorkingYears                    -0.0621      0.028     -2.185      0.029      -0.118      -0.006\n",
       "TrainingTimesLastYear                -0.1942      0.078     -2.476      0.013      -0.348      -0.040\n",
       "YearsAtCompany                        0.0213      0.041      0.525      0.600      -0.058       0.101\n",
       "YearsSinceLastPromotion               0.2134      0.047      4.513      0.000       0.121       0.306\n",
       "YearsWithCurrManager                 -0.1914      0.051     -3.783      0.000      -0.291      -0.092\n",
       "AverageWorkingHours                   0.4062      0.067      6.087      0.000       0.275       0.537\n",
       "BusinessTravel_Travel_Frequently      0.9617      0.373      2.578      0.010       0.231       1.693\n",
       "BusinessTravel_Travel_Rarely         -0.0008      0.338     -0.002      0.998      -0.664       0.662\n",
       "Department_Research & Development    -0.3026      0.242     -1.251      0.211      -0.777       0.171\n",
       "Education_Below College              -0.0471      0.363     -0.130      0.897      -0.758       0.664\n",
       "Education_College                     0.1509      0.276      0.547      0.585      -0.390       0.692\n",
       "Education_Doctor                     -0.4630      0.596     -0.776      0.438      -1.632       0.706\n",
       "Education_Master                     -0.2736      0.255     -1.072      0.284      -0.774       0.227\n",
       "EducationField_Marketing             -0.6009      0.382     -1.573      0.116      -1.350       0.148\n",
       "EducationField_Medical                0.0564      0.233      0.242      0.809      -0.400       0.513\n",
       "EducationField_Other                 -0.4600      0.526     -0.874      0.382      -1.491       0.571\n",
       "EducationField_Technical Degree      -0.3371      0.402     -0.838      0.402      -1.126       0.451\n",
       "Gender_Male                          -0.0395      0.209     -0.189      0.850      -0.449       0.370\n",
       "JobLevel_2                            0.2823      0.237      1.190      0.234      -0.183       0.747\n",
       "JobLevel_3                            0.2413      0.315      0.766      0.444      -0.376       0.859\n",
       "JobLevel_4                            0.5750      0.413      1.392      0.164      -0.235       1.385\n",
       "JobLevel_5                           -0.6427      0.649     -0.991      0.322      -1.914       0.628\n",
       "JobRole_Human Resources               0.2391      0.610      0.392      0.695      -0.957       1.435\n",
       "JobRole_Laboratory Technician         0.0380      0.406      0.094      0.925      -0.757       0.833\n",
       "JobRole_Manager                      -0.4712      0.536     -0.878      0.380      -1.522       0.580\n",
       "JobRole_Manufacturing Director       -0.4468      0.488     -0.916      0.360      -1.403       0.509\n",
       "JobRole_Research Director             0.3504      0.525      0.667      0.505      -0.679       1.379\n",
       "JobRole_Research Scientist            0.0996      0.405      0.246      0.806      -0.695       0.894\n",
       "JobRole_Sales Executive               0.1379      0.401      0.344      0.731      -0.648       0.923\n",
       "JobRole_Sales Representative          0.0782      0.541      0.144      0.885      -0.983       1.139\n",
       "MaritalStatus_Married                -0.0809      0.278     -0.291      0.771      -0.627       0.465\n",
       "MaritalStatus_Single                  0.8675      0.278      3.124      0.002       0.323       1.412\n",
       "EnvironmentSatisfaction_Low           0.9236      0.264      3.495      0.000       0.406       1.442\n",
       "EnvironmentSatisfaction_Medium       -0.0462      0.304     -0.152      0.879      -0.642       0.550\n",
       "EnvironmentSatisfaction_Very High    -0.4545      0.268     -1.693      0.090      -0.981       0.072\n",
       "JobSatisfaction_Low                   0.4353      0.272      1.601      0.109      -0.098       0.968\n",
       "JobSatisfaction_Medium               -0.1082      0.281     -0.385      0.701      -0.660       0.443\n",
       "JobSatisfaction_Very High            -0.8555      0.280     -3.053      0.002      -1.405      -0.306\n",
       "WorkLifeBalance_Best                 -1.1924      0.422     -2.826      0.005      -2.019      -0.365\n",
       "WorkLifeBalance_Better               -1.6112      0.347     -4.649      0.000      -2.290      -0.932\n",
       "WorkLifeBalance_Good                 -1.2041      0.383     -3.143      0.002      -1.955      -0.453\n",
       "=====================================================================================================\n",
       "\"\"\""
      ]
     },
     "execution_count": 77,
     "metadata": {},
     "output_type": "execute_result"
    }
   ],
   "source": [
    "# Running Logit Regression\n",
    "model=sm.Logit(y,X)\n",
    "model.fit()\n",
    "model.fit().summary()"
   ]
  },
  {
   "cell_type": "code",
   "execution_count": 78,
   "id": "interracial-powell",
   "metadata": {},
   "outputs": [],
   "source": [
    "# Keeping variables with P < 0.05 \n",
    "X = data[[\"Age\"] + [\"MonthlyIncome\"]+ [\"NumCompaniesWorked\"]+ [\"TotalWorkingYears\"]+ [\"TrainingTimesLastYear\"] +\n",
    "            [\"YearsSinceLastPromotion\"]+ [\"YearsWithCurrManager\"]+ [\"AverageWorkingHours\"] +\n",
    "            [\"BusinessTravel_Travel_Frequently\"]+ [\"MaritalStatus_Single\"]+ [\"EnvironmentSatisfaction_Low\"]+ \n",
    "           [\"JobSatisfaction_Very High\"]+ [\"WorkLifeBalance_Best\"]+[\"WorkLifeBalance_Better\"]+ [\"WorkLifeBalance_Good\"]]"
   ]
  },
  {
   "cell_type": "code",
   "execution_count": 79,
   "id": "lovely-burning",
   "metadata": {
    "scrolled": false
   },
   "outputs": [
    {
     "name": "stdout",
     "output_type": "stream",
     "text": [
      "Optimization terminated successfully.\n",
      "         Current function value: 0.350722\n",
      "         Iterations 7\n",
      "Optimization terminated successfully.\n",
      "         Current function value: 0.350722\n",
      "         Iterations 7\n"
     ]
    },
    {
     "data": {
      "text/html": [
       "<table class=\"simpletable\">\n",
       "<caption>Logit Regression Results</caption>\n",
       "<tr>\n",
       "  <th>Dep. Variable:</th>       <td>Attrition</td>    <th>  No. Observations:  </th>  <td>   996</td>  \n",
       "</tr>\n",
       "<tr>\n",
       "  <th>Model:</th>                 <td>Logit</td>      <th>  Df Residuals:      </th>  <td>   981</td>  \n",
       "</tr>\n",
       "<tr>\n",
       "  <th>Method:</th>                 <td>MLE</td>       <th>  Df Model:          </th>  <td>    14</td>  \n",
       "</tr>\n",
       "<tr>\n",
       "  <th>Date:</th>            <td>Tue, 30 Mar 2021</td> <th>  Pseudo R-squ.:     </th>  <td>0.2188</td>  \n",
       "</tr>\n",
       "<tr>\n",
       "  <th>Time:</th>                <td>23:42:51</td>     <th>  Log-Likelihood:    </th> <td> -349.32</td> \n",
       "</tr>\n",
       "<tr>\n",
       "  <th>converged:</th>             <td>True</td>       <th>  LL-Null:           </th> <td> -447.15</td> \n",
       "</tr>\n",
       "<tr>\n",
       "  <th>Covariance Type:</th>     <td>nonrobust</td>    <th>  LLR p-value:       </th> <td>4.237e-34</td>\n",
       "</tr>\n",
       "</table>\n",
       "<table class=\"simpletable\">\n",
       "<tr>\n",
       "                  <td></td>                    <th>coef</th>     <th>std err</th>      <th>z</th>      <th>P>|z|</th>  <th>[0.025</th>    <th>0.975]</th>  \n",
       "</tr>\n",
       "<tr>\n",
       "  <th>Age</th>                              <td>   -0.0675</td> <td>    0.014</td> <td>   -4.799</td> <td> 0.000</td> <td>   -0.095</td> <td>   -0.040</td>\n",
       "</tr>\n",
       "<tr>\n",
       "  <th>MonthlyIncome</th>                    <td>-4.842e-06</td> <td> 2.16e-06</td> <td>   -2.237</td> <td> 0.025</td> <td>-9.08e-06</td> <td>   -6e-07</td>\n",
       "</tr>\n",
       "<tr>\n",
       "  <th>NumCompaniesWorked</th>               <td>    0.1189</td> <td>    0.040</td> <td>    2.954</td> <td> 0.003</td> <td>    0.040</td> <td>    0.198</td>\n",
       "</tr>\n",
       "<tr>\n",
       "  <th>TotalWorkingYears</th>                <td>   -0.0436</td> <td>    0.023</td> <td>   -1.874</td> <td> 0.061</td> <td>   -0.089</td> <td>    0.002</td>\n",
       "</tr>\n",
       "<tr>\n",
       "  <th>TrainingTimesLastYear</th>            <td>   -0.1960</td> <td>    0.074</td> <td>   -2.644</td> <td> 0.008</td> <td>   -0.341</td> <td>   -0.051</td>\n",
       "</tr>\n",
       "<tr>\n",
       "  <th>YearsSinceLastPromotion</th>          <td>    0.1941</td> <td>    0.040</td> <td>    4.834</td> <td> 0.000</td> <td>    0.115</td> <td>    0.273</td>\n",
       "</tr>\n",
       "<tr>\n",
       "  <th>YearsWithCurrManager</th>             <td>   -0.1596</td> <td>    0.041</td> <td>   -3.891</td> <td> 0.000</td> <td>   -0.240</td> <td>   -0.079</td>\n",
       "</tr>\n",
       "<tr>\n",
       "  <th>AverageWorkingHours</th>              <td>    0.3378</td> <td>    0.056</td> <td>    6.062</td> <td> 0.000</td> <td>    0.229</td> <td>    0.447</td>\n",
       "</tr>\n",
       "<tr>\n",
       "  <th>BusinessTravel_Travel_Frequently</th> <td>    0.9011</td> <td>    0.221</td> <td>    4.069</td> <td> 0.000</td> <td>    0.467</td> <td>    1.335</td>\n",
       "</tr>\n",
       "<tr>\n",
       "  <th>MaritalStatus_Single</th>             <td>    0.8499</td> <td>    0.197</td> <td>    4.312</td> <td> 0.000</td> <td>    0.464</td> <td>    1.236</td>\n",
       "</tr>\n",
       "<tr>\n",
       "  <th>EnvironmentSatisfaction_Low</th>      <td>    1.0189</td> <td>    0.219</td> <td>    4.662</td> <td> 0.000</td> <td>    0.591</td> <td>    1.447</td>\n",
       "</tr>\n",
       "<tr>\n",
       "  <th>JobSatisfaction_Very High</th>        <td>   -0.9688</td> <td>    0.238</td> <td>   -4.076</td> <td> 0.000</td> <td>   -1.435</td> <td>   -0.503</td>\n",
       "</tr>\n",
       "<tr>\n",
       "  <th>WorkLifeBalance_Best</th>             <td>   -1.2976</td> <td>    0.401</td> <td>   -3.233</td> <td> 0.001</td> <td>   -2.084</td> <td>   -0.511</td>\n",
       "</tr>\n",
       "<tr>\n",
       "  <th>WorkLifeBalance_Better</th>           <td>   -1.6173</td> <td>    0.319</td> <td>   -5.067</td> <td> 0.000</td> <td>   -2.243</td> <td>   -0.992</td>\n",
       "</tr>\n",
       "<tr>\n",
       "  <th>WorkLifeBalance_Good</th>             <td>   -1.2759</td> <td>    0.353</td> <td>   -3.614</td> <td> 0.000</td> <td>   -1.968</td> <td>   -0.584</td>\n",
       "</tr>\n",
       "</table>"
      ],
      "text/plain": [
       "<class 'statsmodels.iolib.summary.Summary'>\n",
       "\"\"\"\n",
       "                           Logit Regression Results                           \n",
       "==============================================================================\n",
       "Dep. Variable:              Attrition   No. Observations:                  996\n",
       "Model:                          Logit   Df Residuals:                      981\n",
       "Method:                           MLE   Df Model:                           14\n",
       "Date:                Tue, 30 Mar 2021   Pseudo R-squ.:                  0.2188\n",
       "Time:                        23:42:51   Log-Likelihood:                -349.32\n",
       "converged:                       True   LL-Null:                       -447.15\n",
       "Covariance Type:            nonrobust   LLR p-value:                 4.237e-34\n",
       "====================================================================================================\n",
       "                                       coef    std err          z      P>|z|      [0.025      0.975]\n",
       "----------------------------------------------------------------------------------------------------\n",
       "Age                                 -0.0675      0.014     -4.799      0.000      -0.095      -0.040\n",
       "MonthlyIncome                    -4.842e-06   2.16e-06     -2.237      0.025   -9.08e-06      -6e-07\n",
       "NumCompaniesWorked                   0.1189      0.040      2.954      0.003       0.040       0.198\n",
       "TotalWorkingYears                   -0.0436      0.023     -1.874      0.061      -0.089       0.002\n",
       "TrainingTimesLastYear               -0.1960      0.074     -2.644      0.008      -0.341      -0.051\n",
       "YearsSinceLastPromotion              0.1941      0.040      4.834      0.000       0.115       0.273\n",
       "YearsWithCurrManager                -0.1596      0.041     -3.891      0.000      -0.240      -0.079\n",
       "AverageWorkingHours                  0.3378      0.056      6.062      0.000       0.229       0.447\n",
       "BusinessTravel_Travel_Frequently     0.9011      0.221      4.069      0.000       0.467       1.335\n",
       "MaritalStatus_Single                 0.8499      0.197      4.312      0.000       0.464       1.236\n",
       "EnvironmentSatisfaction_Low          1.0189      0.219      4.662      0.000       0.591       1.447\n",
       "JobSatisfaction_Very High           -0.9688      0.238     -4.076      0.000      -1.435      -0.503\n",
       "WorkLifeBalance_Best                -1.2976      0.401     -3.233      0.001      -2.084      -0.511\n",
       "WorkLifeBalance_Better              -1.6173      0.319     -5.067      0.000      -2.243      -0.992\n",
       "WorkLifeBalance_Good                -1.2759      0.353     -3.614      0.000      -1.968      -0.584\n",
       "====================================================================================================\n",
       "\"\"\""
      ]
     },
     "execution_count": 79,
     "metadata": {},
     "output_type": "execute_result"
    }
   ],
   "source": [
    "# Running model again with remaining variables\n",
    "model=sm.Logit(y,X)\n",
    "model.fit()\n",
    "model.fit().summary()"
   ]
  },
  {
   "cell_type": "code",
   "execution_count": 80,
   "id": "twenty-sussex",
   "metadata": {},
   "outputs": [],
   "source": [
    "# Reviewing the model and keeping features with P < 0.05\n",
    "X = data[[\"Age\"] + [\"MonthlyIncome\"]+ [\"NumCompaniesWorked\"]+ [\"TrainingTimesLastYear\"] +\n",
    "            [\"YearsSinceLastPromotion\"]+ [\"YearsWithCurrManager\"]+ [\"AverageWorkingHours\"] +\n",
    "            [\"BusinessTravel_Travel_Frequently\"]+ [\"MaritalStatus_Single\"]+ [\"EnvironmentSatisfaction_Low\"]+ \n",
    "           [\"JobSatisfaction_Very High\"]+ [\"WorkLifeBalance_Best\"]+[\"WorkLifeBalance_Better\"]+ [\"WorkLifeBalance_Good\"]]"
   ]
  },
  {
   "cell_type": "code",
   "execution_count": 81,
   "id": "annual-hacker",
   "metadata": {
    "scrolled": false
   },
   "outputs": [
    {
     "name": "stdout",
     "output_type": "stream",
     "text": [
      "Optimization terminated successfully.\n",
      "         Current function value: 0.352558\n",
      "         Iterations 7\n",
      "Optimization terminated successfully.\n",
      "         Current function value: 0.352558\n",
      "         Iterations 7\n"
     ]
    },
    {
     "data": {
      "text/html": [
       "<table class=\"simpletable\">\n",
       "<caption>Logit Regression Results</caption>\n",
       "<tr>\n",
       "  <th>Dep. Variable:</th>       <td>Attrition</td>    <th>  No. Observations:  </th>  <td>   996</td>  \n",
       "</tr>\n",
       "<tr>\n",
       "  <th>Model:</th>                 <td>Logit</td>      <th>  Df Residuals:      </th>  <td>   982</td>  \n",
       "</tr>\n",
       "<tr>\n",
       "  <th>Method:</th>                 <td>MLE</td>       <th>  Df Model:          </th>  <td>    13</td>  \n",
       "</tr>\n",
       "<tr>\n",
       "  <th>Date:</th>            <td>Tue, 30 Mar 2021</td> <th>  Pseudo R-squ.:     </th>  <td>0.2147</td>  \n",
       "</tr>\n",
       "<tr>\n",
       "  <th>Time:</th>                <td>23:42:51</td>     <th>  Log-Likelihood:    </th> <td> -351.15</td> \n",
       "</tr>\n",
       "<tr>\n",
       "  <th>converged:</th>             <td>True</td>       <th>  LL-Null:           </th> <td> -447.15</td> \n",
       "</tr>\n",
       "<tr>\n",
       "  <th>Covariance Type:</th>     <td>nonrobust</td>    <th>  LLR p-value:       </th> <td>5.984e-34</td>\n",
       "</tr>\n",
       "</table>\n",
       "<table class=\"simpletable\">\n",
       "<tr>\n",
       "                  <td></td>                    <th>coef</th>     <th>std err</th>      <th>z</th>      <th>P>|z|</th>  <th>[0.025</th>    <th>0.975]</th>  \n",
       "</tr>\n",
       "<tr>\n",
       "  <th>Age</th>                              <td>   -0.0833</td> <td>    0.012</td> <td>   -7.109</td> <td> 0.000</td> <td>   -0.106</td> <td>   -0.060</td>\n",
       "</tr>\n",
       "<tr>\n",
       "  <th>MonthlyIncome</th>                    <td>-4.694e-06</td> <td> 2.16e-06</td> <td>   -2.174</td> <td> 0.030</td> <td>-8.93e-06</td> <td>-4.63e-07</td>\n",
       "</tr>\n",
       "<tr>\n",
       "  <th>NumCompaniesWorked</th>               <td>    0.1040</td> <td>    0.040</td> <td>    2.627</td> <td> 0.009</td> <td>    0.026</td> <td>    0.182</td>\n",
       "</tr>\n",
       "<tr>\n",
       "  <th>TrainingTimesLastYear</th>            <td>   -0.1776</td> <td>    0.073</td> <td>   -2.425</td> <td> 0.015</td> <td>   -0.321</td> <td>   -0.034</td>\n",
       "</tr>\n",
       "<tr>\n",
       "  <th>YearsSinceLastPromotion</th>          <td>    0.1727</td> <td>    0.037</td> <td>    4.605</td> <td> 0.000</td> <td>    0.099</td> <td>    0.246</td>\n",
       "</tr>\n",
       "<tr>\n",
       "  <th>YearsWithCurrManager</th>             <td>   -0.1796</td> <td>    0.039</td> <td>   -4.621</td> <td> 0.000</td> <td>   -0.256</td> <td>   -0.103</td>\n",
       "</tr>\n",
       "<tr>\n",
       "  <th>AverageWorkingHours</th>              <td>    0.3578</td> <td>    0.055</td> <td>    6.540</td> <td> 0.000</td> <td>    0.251</td> <td>    0.465</td>\n",
       "</tr>\n",
       "<tr>\n",
       "  <th>BusinessTravel_Travel_Frequently</th> <td>    0.8939</td> <td>    0.221</td> <td>    4.049</td> <td> 0.000</td> <td>    0.461</td> <td>    1.327</td>\n",
       "</tr>\n",
       "<tr>\n",
       "  <th>MaritalStatus_Single</th>             <td>    0.8608</td> <td>    0.196</td> <td>    4.383</td> <td> 0.000</td> <td>    0.476</td> <td>    1.246</td>\n",
       "</tr>\n",
       "<tr>\n",
       "  <th>EnvironmentSatisfaction_Low</th>      <td>    1.0046</td> <td>    0.217</td> <td>    4.624</td> <td> 0.000</td> <td>    0.579</td> <td>    1.431</td>\n",
       "</tr>\n",
       "<tr>\n",
       "  <th>JobSatisfaction_Very High</th>        <td>   -0.9640</td> <td>    0.236</td> <td>   -4.078</td> <td> 0.000</td> <td>   -1.427</td> <td>   -0.501</td>\n",
       "</tr>\n",
       "<tr>\n",
       "  <th>WorkLifeBalance_Best</th>             <td>   -1.2157</td> <td>    0.397</td> <td>   -3.060</td> <td> 0.002</td> <td>   -1.994</td> <td>   -0.437</td>\n",
       "</tr>\n",
       "<tr>\n",
       "  <th>WorkLifeBalance_Better</th>           <td>   -1.5472</td> <td>    0.317</td> <td>   -4.884</td> <td> 0.000</td> <td>   -2.168</td> <td>   -0.926</td>\n",
       "</tr>\n",
       "<tr>\n",
       "  <th>WorkLifeBalance_Good</th>             <td>   -1.2132</td> <td>    0.351</td> <td>   -3.456</td> <td> 0.001</td> <td>   -1.901</td> <td>   -0.525</td>\n",
       "</tr>\n",
       "</table>"
      ],
      "text/plain": [
       "<class 'statsmodels.iolib.summary.Summary'>\n",
       "\"\"\"\n",
       "                           Logit Regression Results                           \n",
       "==============================================================================\n",
       "Dep. Variable:              Attrition   No. Observations:                  996\n",
       "Model:                          Logit   Df Residuals:                      982\n",
       "Method:                           MLE   Df Model:                           13\n",
       "Date:                Tue, 30 Mar 2021   Pseudo R-squ.:                  0.2147\n",
       "Time:                        23:42:51   Log-Likelihood:                -351.15\n",
       "converged:                       True   LL-Null:                       -447.15\n",
       "Covariance Type:            nonrobust   LLR p-value:                 5.984e-34\n",
       "====================================================================================================\n",
       "                                       coef    std err          z      P>|z|      [0.025      0.975]\n",
       "----------------------------------------------------------------------------------------------------\n",
       "Age                                 -0.0833      0.012     -7.109      0.000      -0.106      -0.060\n",
       "MonthlyIncome                    -4.694e-06   2.16e-06     -2.174      0.030   -8.93e-06   -4.63e-07\n",
       "NumCompaniesWorked                   0.1040      0.040      2.627      0.009       0.026       0.182\n",
       "TrainingTimesLastYear               -0.1776      0.073     -2.425      0.015      -0.321      -0.034\n",
       "YearsSinceLastPromotion              0.1727      0.037      4.605      0.000       0.099       0.246\n",
       "YearsWithCurrManager                -0.1796      0.039     -4.621      0.000      -0.256      -0.103\n",
       "AverageWorkingHours                  0.3578      0.055      6.540      0.000       0.251       0.465\n",
       "BusinessTravel_Travel_Frequently     0.8939      0.221      4.049      0.000       0.461       1.327\n",
       "MaritalStatus_Single                 0.8608      0.196      4.383      0.000       0.476       1.246\n",
       "EnvironmentSatisfaction_Low          1.0046      0.217      4.624      0.000       0.579       1.431\n",
       "JobSatisfaction_Very High           -0.9640      0.236     -4.078      0.000      -1.427      -0.501\n",
       "WorkLifeBalance_Best                -1.2157      0.397     -3.060      0.002      -1.994      -0.437\n",
       "WorkLifeBalance_Better              -1.5472      0.317     -4.884      0.000      -2.168      -0.926\n",
       "WorkLifeBalance_Good                -1.2132      0.351     -3.456      0.001      -1.901      -0.525\n",
       "====================================================================================================\n",
       "\"\"\""
      ]
     },
     "execution_count": 81,
     "metadata": {},
     "output_type": "execute_result"
    }
   ],
   "source": [
    "# Running model again with remaining features\n",
    "model=sm.Logit(y,X)\n",
    "model.fit()\n",
    "model.fit().summary()"
   ]
  },
  {
   "cell_type": "markdown",
   "id": "ongoing-designer",
   "metadata": {},
   "source": [
    "##### Now all variables have P values smaller than 0.05. We can run Logistic Regression."
   ]
  },
  {
   "cell_type": "code",
   "execution_count": 82,
   "id": "gothic-bottle",
   "metadata": {},
   "outputs": [],
   "source": [
    "# Splitting variables for model's training and testing\n",
    "X_train, X_test, y_train, y_test = train_test_split(X, y, test_size = 0.25, random_state = 0)"
   ]
  },
  {
   "cell_type": "code",
   "execution_count": 83,
   "id": "ignored-albany",
   "metadata": {},
   "outputs": [
    {
     "data": {
      "text/plain": [
       "LogisticRegression()"
      ]
     },
     "execution_count": 83,
     "metadata": {},
     "output_type": "execute_result"
    }
   ],
   "source": [
    "# Training model\n",
    "from sklearn.linear_model import LogisticRegression\n",
    "model2 = LogisticRegression()\n",
    "model2.fit(X_train, y_train) "
   ]
  },
  {
   "cell_type": "code",
   "execution_count": 84,
   "id": "compatible-newark",
   "metadata": {},
   "outputs": [
    {
     "data": {
      "text/plain": [
       "array([0, 0, 0, 0, 0, 0, 0, 0, 0, 0, 0, 0, 0, 0, 0, 0, 0, 0, 0, 0, 0, 0,\n",
       "       0, 0, 0, 0, 0, 0, 0, 0, 0, 0, 0, 0, 0, 0, 0, 0, 0, 0, 0, 0, 0, 0,\n",
       "       0, 0, 0, 0, 0, 0, 0, 0, 0, 0, 0, 0, 0, 0, 0, 0, 0, 0, 0, 0, 1, 0,\n",
       "       0, 0, 0, 0, 0, 0, 0, 0, 0, 0, 0, 0, 0, 0, 0, 0, 0, 0, 0, 0, 0, 0,\n",
       "       0, 0, 0, 0, 0, 0, 0, 0, 0, 0, 0, 0, 0, 0, 0, 0, 0, 0, 0, 0, 0, 0,\n",
       "       0, 0, 0, 0, 0, 0, 0, 0, 0, 0, 0, 0, 0, 0, 0, 0, 0, 0, 0, 0, 0, 0,\n",
       "       0, 0, 0, 0, 0, 0, 0, 0, 0, 0, 0, 0, 0, 0, 0, 0, 0, 0, 0, 0, 0, 0,\n",
       "       0, 0, 0, 0, 0, 0, 0, 0, 0, 0, 0, 0, 0, 0, 0, 0, 0, 0, 0, 0, 0, 0,\n",
       "       0, 0, 0, 0, 0, 0, 0, 0, 0, 0, 0, 0, 0, 0, 0, 0, 0, 0, 0, 0, 0, 0,\n",
       "       0, 0, 0, 0, 0, 0, 0, 0, 0, 0, 0, 0, 0, 0, 0, 0, 0, 0, 0, 0, 0, 0,\n",
       "       0, 0, 0, 0, 0, 0, 0, 0, 0, 0, 0, 0, 0, 0, 0, 0, 0, 0, 0, 0, 0, 0,\n",
       "       0, 0, 0, 0, 0, 0, 0], dtype=int64)"
      ]
     },
     "execution_count": 84,
     "metadata": {},
     "output_type": "execute_result"
    }
   ],
   "source": [
    "# Testing the model by getting predicted values\n",
    "y_pred = model2.predict(X_test)\n",
    "y_pred"
   ]
  },
  {
   "cell_type": "code",
   "execution_count": 85,
   "id": "powered-halloween",
   "metadata": {},
   "outputs": [
    {
     "data": {
      "text/plain": [
       "0.8232931726907631"
      ]
     },
     "execution_count": 85,
     "metadata": {},
     "output_type": "execute_result"
    }
   ],
   "source": [
    "# Checking model's accuracy score by comparing y_test values and model's predicted values\n",
    "from sklearn.metrics import accuracy_score\n",
    "accuracy_score(y_test, y_pred)"
   ]
  },
  {
   "cell_type": "code",
   "execution_count": 86,
   "id": "patient-inflation",
   "metadata": {},
   "outputs": [
    {
     "data": {
      "text/html": [
       "<div>\n",
       "<style scoped>\n",
       "    .dataframe tbody tr th:only-of-type {\n",
       "        vertical-align: middle;\n",
       "    }\n",
       "\n",
       "    .dataframe tbody tr th {\n",
       "        vertical-align: top;\n",
       "    }\n",
       "\n",
       "    .dataframe thead th {\n",
       "        text-align: right;\n",
       "    }\n",
       "</style>\n",
       "<table border=\"1\" class=\"dataframe\">\n",
       "  <thead>\n",
       "    <tr style=\"text-align: right;\">\n",
       "      <th></th>\n",
       "      <th>Attrition</th>\n",
       "      <th>Pred_Attrition</th>\n",
       "      <th>EmployeeID</th>\n",
       "    </tr>\n",
       "  </thead>\n",
       "  <tbody>\n",
       "    <tr>\n",
       "      <th>0</th>\n",
       "      <td>0</td>\n",
       "      <td>0</td>\n",
       "      <td>983</td>\n",
       "    </tr>\n",
       "    <tr>\n",
       "      <th>1</th>\n",
       "      <td>0</td>\n",
       "      <td>0</td>\n",
       "      <td>724</td>\n",
       "    </tr>\n",
       "    <tr>\n",
       "      <th>2</th>\n",
       "      <td>0</td>\n",
       "      <td>0</td>\n",
       "      <td>31</td>\n",
       "    </tr>\n",
       "    <tr>\n",
       "      <th>3</th>\n",
       "      <td>1</td>\n",
       "      <td>0</td>\n",
       "      <td>995</td>\n",
       "    </tr>\n",
       "    <tr>\n",
       "      <th>4</th>\n",
       "      <td>0</td>\n",
       "      <td>0</td>\n",
       "      <td>864</td>\n",
       "    </tr>\n",
       "    <tr>\n",
       "      <th>...</th>\n",
       "      <td>...</td>\n",
       "      <td>...</td>\n",
       "      <td>...</td>\n",
       "    </tr>\n",
       "    <tr>\n",
       "      <th>244</th>\n",
       "      <td>0</td>\n",
       "      <td>0</td>\n",
       "      <td>75</td>\n",
       "    </tr>\n",
       "    <tr>\n",
       "      <th>245</th>\n",
       "      <td>0</td>\n",
       "      <td>0</td>\n",
       "      <td>452</td>\n",
       "    </tr>\n",
       "    <tr>\n",
       "      <th>246</th>\n",
       "      <td>1</td>\n",
       "      <td>0</td>\n",
       "      <td>924</td>\n",
       "    </tr>\n",
       "    <tr>\n",
       "      <th>247</th>\n",
       "      <td>0</td>\n",
       "      <td>0</td>\n",
       "      <td>249</td>\n",
       "    </tr>\n",
       "    <tr>\n",
       "      <th>248</th>\n",
       "      <td>0</td>\n",
       "      <td>0</td>\n",
       "      <td>520</td>\n",
       "    </tr>\n",
       "  </tbody>\n",
       "</table>\n",
       "<p>249 rows × 3 columns</p>\n",
       "</div>"
      ],
      "text/plain": [
       "     Attrition  Pred_Attrition  EmployeeID\n",
       "0            0               0         983\n",
       "1            0               0         724\n",
       "2            0               0          31\n",
       "3            1               0         995\n",
       "4            0               0         864\n",
       "..         ...             ...         ...\n",
       "244          0               0          75\n",
       "245          0               0         452\n",
       "246          1               0         924\n",
       "247          0               0         249\n",
       "248          0               0         520\n",
       "\n",
       "[249 rows x 3 columns]"
      ]
     },
     "execution_count": 86,
     "metadata": {},
     "output_type": "execute_result"
    }
   ],
   "source": [
    "# Creating new data frame with actual values and predicted values\n",
    "y_pred_final = pd.DataFrame({\"Attrition\": y_test.values, \"Pred_Attrition\": y_pred})\n",
    "y_pred_final[\"EmployeeID\"] = y_test.index\n",
    "y_pred_final"
   ]
  },
  {
   "cell_type": "code",
   "execution_count": 87,
   "id": "stylish-accordance",
   "metadata": {},
   "outputs": [
    {
     "data": {
      "text/plain": [
       "array([[205,   1],\n",
       "       [ 43,   0]], dtype=int64)"
      ]
     },
     "execution_count": 87,
     "metadata": {},
     "output_type": "execute_result"
    }
   ],
   "source": [
    "# Importing additional module\n",
    "from sklearn import metrics\n",
    "# Creating confusion matrix to check how many values were predicted correctly and how many incorrectly. \n",
    "cnf_matrix = metrics.confusion_matrix(y_test, y_pred)\n",
    "cnf_matrix"
   ]
  },
  {
   "cell_type": "markdown",
   "id": "anticipated-audit",
   "metadata": {},
   "source": [
    "##### Confusion matrix above shows that constructed model has predicted Attririon - No values  205 correctly, 1 incorrectly and predicted Attrition - Yes values 43 incorrectly and 0 correctly. "
   ]
  },
  {
   "cell_type": "code",
   "execution_count": 88,
   "id": "plain-kazakhstan",
   "metadata": {},
   "outputs": [
    {
     "data": {
      "text/plain": [
       "array([[0.70670146, 0.29329854],\n",
       "       [0.86041891, 0.13958109],\n",
       "       [0.7868966 , 0.2131034 ],\n",
       "       [0.82238056, 0.17761944],\n",
       "       [0.81196763, 0.18803237],\n",
       "       [0.97415364, 0.02584636],\n",
       "       [0.89704613, 0.10295387],\n",
       "       [0.6308848 , 0.3691152 ],\n",
       "       [0.70011154, 0.29988846],\n",
       "       [0.86330533, 0.13669467],\n",
       "       [0.9928142 , 0.0071858 ],\n",
       "       [0.97177402, 0.02822598],\n",
       "       [0.93507786, 0.06492214],\n",
       "       [0.72785488, 0.27214512],\n",
       "       [0.9859514 , 0.0140486 ]])"
      ]
     },
     "execution_count": 88,
     "metadata": {},
     "output_type": "execute_result"
    }
   ],
   "source": [
    "# When model is defined, we can check probabilities that the predicted output is equal to zero or one.\n",
    "y_pred_prob = model2.predict_proba(X_test)\n",
    "y_pred_prob[:15]"
   ]
  },
  {
   "cell_type": "markdown",
   "id": "paperback-novel",
   "metadata": {},
   "source": [
    "##### In the sample matrix above, each row corresponds to a single observation. The first column is the probability of the predicted output being zero. The second column is the probability that the output is one. This way we can get probabilities of employees' Attrition. "
   ]
  },
  {
   "cell_type": "code",
   "execution_count": 89,
   "id": "different-headset",
   "metadata": {},
   "outputs": [
    {
     "data": {
      "text/html": [
       "<div>\n",
       "<style scoped>\n",
       "    .dataframe tbody tr th:only-of-type {\n",
       "        vertical-align: middle;\n",
       "    }\n",
       "\n",
       "    .dataframe tbody tr th {\n",
       "        vertical-align: top;\n",
       "    }\n",
       "\n",
       "    .dataframe thead th {\n",
       "        text-align: right;\n",
       "    }\n",
       "</style>\n",
       "<table border=\"1\" class=\"dataframe\">\n",
       "  <thead>\n",
       "    <tr style=\"text-align: right;\">\n",
       "      <th></th>\n",
       "      <th>0</th>\n",
       "      <th>1</th>\n",
       "      <th>EmployeeID</th>\n",
       "    </tr>\n",
       "  </thead>\n",
       "  <tbody>\n",
       "    <tr>\n",
       "      <th>0</th>\n",
       "      <td>0.706701</td>\n",
       "      <td>0.293299</td>\n",
       "      <td>983</td>\n",
       "    </tr>\n",
       "    <tr>\n",
       "      <th>1</th>\n",
       "      <td>0.860419</td>\n",
       "      <td>0.139581</td>\n",
       "      <td>724</td>\n",
       "    </tr>\n",
       "    <tr>\n",
       "      <th>2</th>\n",
       "      <td>0.786897</td>\n",
       "      <td>0.213103</td>\n",
       "      <td>31</td>\n",
       "    </tr>\n",
       "    <tr>\n",
       "      <th>3</th>\n",
       "      <td>0.822381</td>\n",
       "      <td>0.177619</td>\n",
       "      <td>995</td>\n",
       "    </tr>\n",
       "    <tr>\n",
       "      <th>4</th>\n",
       "      <td>0.811968</td>\n",
       "      <td>0.188032</td>\n",
       "      <td>864</td>\n",
       "    </tr>\n",
       "    <tr>\n",
       "      <th>...</th>\n",
       "      <td>...</td>\n",
       "      <td>...</td>\n",
       "      <td>...</td>\n",
       "    </tr>\n",
       "    <tr>\n",
       "      <th>244</th>\n",
       "      <td>0.963928</td>\n",
       "      <td>0.036072</td>\n",
       "      <td>75</td>\n",
       "    </tr>\n",
       "    <tr>\n",
       "      <th>245</th>\n",
       "      <td>0.887718</td>\n",
       "      <td>0.112282</td>\n",
       "      <td>452</td>\n",
       "    </tr>\n",
       "    <tr>\n",
       "      <th>246</th>\n",
       "      <td>0.884442</td>\n",
       "      <td>0.115558</td>\n",
       "      <td>924</td>\n",
       "    </tr>\n",
       "    <tr>\n",
       "      <th>247</th>\n",
       "      <td>0.912545</td>\n",
       "      <td>0.087455</td>\n",
       "      <td>249</td>\n",
       "    </tr>\n",
       "    <tr>\n",
       "      <th>248</th>\n",
       "      <td>0.751279</td>\n",
       "      <td>0.248721</td>\n",
       "      <td>520</td>\n",
       "    </tr>\n",
       "  </tbody>\n",
       "</table>\n",
       "<p>249 rows × 3 columns</p>\n",
       "</div>"
      ],
      "text/plain": [
       "            0         1  EmployeeID\n",
       "0    0.706701  0.293299         983\n",
       "1    0.860419  0.139581         724\n",
       "2    0.786897  0.213103          31\n",
       "3    0.822381  0.177619         995\n",
       "4    0.811968  0.188032         864\n",
       "..        ...       ...         ...\n",
       "244  0.963928  0.036072          75\n",
       "245  0.887718  0.112282         452\n",
       "246  0.884442  0.115558         924\n",
       "247  0.912545  0.087455         249\n",
       "248  0.751279  0.248721         520\n",
       "\n",
       "[249 rows x 3 columns]"
      ]
     },
     "execution_count": 89,
     "metadata": {},
     "output_type": "execute_result"
    }
   ],
   "source": [
    "# Creating new data frame with probability values of predicted output\n",
    "prob = pd.DataFrame(y_pred_prob)\n",
    "prob[\"EmployeeID\"] = X_test.index\n",
    "prob"
   ]
  },
  {
   "cell_type": "markdown",
   "id": "collective-disney",
   "metadata": {},
   "source": [
    "From the analysis above we can see that there are quite a few factors which might have an impact on employees' attrition. Therefore, the organization could look into these factors:\n",
    "1. Age: younger employees have a higher risk of attrition. \n",
    "1. Monthly Income: employees with lower monthly income have a higher risk of attrition \n",
    "1. Number Companies Worked: employees who worked in more different companies have a tendency to leave. \n",
    "1. Training Times Last Year: employees with longer training hours have lower risk of attrition.\n",
    "1. Years Since Last Promotion: employees who did not get a promotion for the last 5 years have higher risk of attrition.\n",
    "1. Years With Current Manager: the more years worked with the same manager the less risk of attrition.\n",
    "1. Average Working Hours: longer average working hours increase the risk of attrition. \n",
    "1. Business Travel: employees who travel frequently have a higher risk of attrition.\n",
    "1. Marital Status: employees with the marital status of single have a higher risk of attrition.\n",
    "1. Environment Satisfaction: employees with Low Environment Satisfaction have a higher risk of attrition.\n",
    "1. Job Satisfaction: employees with very high Job Satisfaction have lower risk of attrition.\n",
    "1. Work Life Balance: the better Work Life Balance level the lower risk of attrition.\n",
    "\n",
    "By looking into these factors the organization could make some decisions and organizational changes in order to improve the overall environment and, in turn, reduce the attrition rate in the company. "
   ]
  }
 ],
 "metadata": {
  "kernelspec": {
   "display_name": "Python 3",
   "language": "python",
   "name": "python3"
  },
  "language_info": {
   "codemirror_mode": {
    "name": "ipython",
    "version": 3
   },
   "file_extension": ".py",
   "mimetype": "text/x-python",
   "name": "python",
   "nbconvert_exporter": "python",
   "pygments_lexer": "ipython3",
   "version": "3.8.5"
  }
 },
 "nbformat": 4,
 "nbformat_minor": 5
}
